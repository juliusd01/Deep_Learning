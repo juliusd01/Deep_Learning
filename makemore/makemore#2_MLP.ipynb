{
 "cells": [
  {
   "cell_type": "markdown",
   "id": "aa6d3793",
   "metadata": {},
   "source": [
    "follows ideas from https://www.jmlr.org/papers/volume3/bengio03a/bengio03a.pdf"
   ]
  }
 ],
 "metadata": {
  "language_info": {
   "name": "python"
  }
 },
 "nbformat": 4,
 "nbformat_minor": 5
}
