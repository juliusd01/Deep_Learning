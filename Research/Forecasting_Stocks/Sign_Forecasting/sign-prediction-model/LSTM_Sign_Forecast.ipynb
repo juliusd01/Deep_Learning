{
 "cells": [
  {
   "cell_type": "code",
   "execution_count": 126,
   "id": "e9d93d47",
   "metadata": {},
   "outputs": [],
   "source": [
    "import yfinance as yf\n",
    "import numpy as np\n",
    "import pandas as pd\n",
    "import arch\n",
    "import matplotlib.pyplot as plt"
   ]
  },
  {
   "cell_type": "code",
   "execution_count": 127,
   "id": "e0b3a7de",
   "metadata": {},
   "outputs": [
    {
     "name": "stderr",
     "output_type": "stream",
     "text": [
      "C:\\Users\\jdobe\\AppData\\Local\\Temp\\ipykernel_3812\\2793084089.py:2: FutureWarning: YF.download() has changed argument auto_adjust default to True\n",
      "  data = yf.download(ticker, start=\"1960-01-01\", end=\"2023-01-01\")\n",
      "[*********************100%***********************]  1 of 1 completed\n"
     ]
    }
   ],
   "source": [
    "ticker = \"^GSPC\"\n",
    "data = yf.download(ticker, start=\"1960-01-01\", end=\"2023-01-01\")"
   ]
  },
  {
   "cell_type": "code",
   "execution_count": 128,
   "id": "771d525b",
   "metadata": {},
   "outputs": [
    {
     "name": "stdout",
     "output_type": "stream",
     "text": [
      "Price           Close       High        Low       Open   Volume\n",
      "Ticker          ^GSPC      ^GSPC      ^GSPC      ^GSPC    ^GSPC\n",
      "Date                                                           \n",
      "1960-01-04  59.910000  59.910000  59.910000  59.910000  3990000\n",
      "1960-01-05  60.389999  60.389999  60.389999  60.389999  3710000\n",
      "1960-01-06  60.130001  60.130001  60.130001  60.130001  3730000\n",
      "1960-01-07  59.689999  59.689999  59.689999  59.689999  3310000\n",
      "1960-01-08  59.500000  59.500000  59.500000  59.500000  3290000\n",
      "(15858, 5)\n"
     ]
    }
   ],
   "source": [
    "print(data.head())\n",
    "print(data.shape)"
   ]
  },
  {
   "cell_type": "code",
   "execution_count": 129,
   "id": "f37a7439",
   "metadata": {},
   "outputs": [],
   "source": [
    "# Create variable Log Returns and further\n",
    "data[\"DailyReturn\"] = np.log(data[\"Close\"]).diff()\n",
    "data['Sign_1d'] = (data['DailyReturn'] > 0).astype(int)\n",
    "data = data.iloc[1:]"
   ]
  },
  {
   "cell_type": "code",
   "execution_count": 130,
   "id": "e97f2d75",
   "metadata": {},
   "outputs": [
    {
     "name": "stdout",
     "output_type": "stream",
     "text": [
      "Iteration:      1,   Func. Count:      6,   Neg. LLF: 923796090312.3402\n",
      "Iteration:      2,   Func. Count:     14,   Neg. LLF: 12188402.664294241\n",
      "Iteration:      3,   Func. Count:     21,   Neg. LLF: 56316.15451782483\n",
      "Iteration:      4,   Func. Count:     27,   Neg. LLF: 56192.376620714\n",
      "Iteration:      5,   Func. Count:     33,   Neg. LLF: 5583550820.0031395\n",
      "Iteration:      6,   Func. Count:     39,   Neg. LLF: 56370.391117195555\n",
      "Iteration:      7,   Func. Count:     45,   Neg. LLF: 56169.7555719136\n",
      "Iteration:      8,   Func. Count:     51,   Neg. LLF: 56178.99098546479\n",
      "Iteration:      9,   Func. Count:     57,   Neg. LLF: 56157.648427601016\n",
      "Iteration:     10,   Func. Count:     62,   Neg. LLF: 56157.628385307726\n",
      "Iteration:     11,   Func. Count:     67,   Neg. LLF: 56157.628269854904\n",
      "Iteration:     12,   Func. Count:     72,   Neg. LLF: 56157.628261777616\n",
      "Iteration:     13,   Func. Count:     76,   Neg. LLF: 56157.62826177861\n",
      "Optimization terminated successfully    (Exit mode 0)\n",
      "            Current function value: 56157.628261777616\n",
      "            Iterations: 13\n",
      "            Function evaluations: 76\n",
      "            Gradient evaluations: 13\n"
     ]
    }
   ],
   "source": [
    "model = arch.arch_model(data[\"DailyReturn\"]*1000, vol=\"GARCH\", p=1, q=1)\n",
    "model_fit = model.fit()"
   ]
  },
  {
   "cell_type": "code",
   "execution_count": 131,
   "id": "ae5e09de",
   "metadata": {},
   "outputs": [
    {
     "data": {
      "text/html": [
       "<div>\n",
       "<style scoped>\n",
       "    .dataframe tbody tr th:only-of-type {\n",
       "        vertical-align: middle;\n",
       "    }\n",
       "\n",
       "    .dataframe tbody tr th {\n",
       "        vertical-align: top;\n",
       "    }\n",
       "\n",
       "    .dataframe thead tr th {\n",
       "        text-align: left;\n",
       "    }\n",
       "\n",
       "    .dataframe thead tr:last-of-type th {\n",
       "        text-align: right;\n",
       "    }\n",
       "</style>\n",
       "<table border=\"1\" class=\"dataframe\">\n",
       "  <thead>\n",
       "    <tr>\n",
       "      <th>Price</th>\n",
       "      <th>Close</th>\n",
       "      <th>High</th>\n",
       "      <th>Low</th>\n",
       "      <th>Open</th>\n",
       "      <th>Volume</th>\n",
       "      <th>DailyReturn</th>\n",
       "      <th>Sign_1d</th>\n",
       "      <th>GARCH_volatility</th>\n",
       "      <th>inv_vol</th>\n",
       "    </tr>\n",
       "    <tr>\n",
       "      <th>Ticker</th>\n",
       "      <th>^GSPC</th>\n",
       "      <th>^GSPC</th>\n",
       "      <th>^GSPC</th>\n",
       "      <th>^GSPC</th>\n",
       "      <th>^GSPC</th>\n",
       "      <th></th>\n",
       "      <th></th>\n",
       "      <th></th>\n",
       "      <th></th>\n",
       "    </tr>\n",
       "    <tr>\n",
       "      <th>Date</th>\n",
       "      <th></th>\n",
       "      <th></th>\n",
       "      <th></th>\n",
       "      <th></th>\n",
       "      <th></th>\n",
       "      <th></th>\n",
       "      <th></th>\n",
       "      <th></th>\n",
       "      <th></th>\n",
       "    </tr>\n",
       "  </thead>\n",
       "  <tbody>\n",
       "    <tr>\n",
       "      <th>1960-01-05</th>\n",
       "      <td>60.389999</td>\n",
       "      <td>60.389999</td>\n",
       "      <td>60.389999</td>\n",
       "      <td>60.389999</td>\n",
       "      <td>3710000</td>\n",
       "      <td>0.007980</td>\n",
       "      <td>1</td>\n",
       "      <td>7.376043</td>\n",
       "      <td>0.135574</td>\n",
       "    </tr>\n",
       "    <tr>\n",
       "      <th>1960-01-06</th>\n",
       "      <td>60.130001</td>\n",
       "      <td>60.130001</td>\n",
       "      <td>60.130001</td>\n",
       "      <td>60.130001</td>\n",
       "      <td>3730000</td>\n",
       "      <td>-0.004315</td>\n",
       "      <td>0</td>\n",
       "      <td>7.429550</td>\n",
       "      <td>0.134598</td>\n",
       "    </tr>\n",
       "    <tr>\n",
       "      <th>1960-01-07</th>\n",
       "      <td>59.689999</td>\n",
       "      <td>59.689999</td>\n",
       "      <td>59.689999</td>\n",
       "      <td>59.689999</td>\n",
       "      <td>3310000</td>\n",
       "      <td>-0.007344</td>\n",
       "      <td>0</td>\n",
       "      <td>7.262138</td>\n",
       "      <td>0.137701</td>\n",
       "    </tr>\n",
       "    <tr>\n",
       "      <th>1960-01-08</th>\n",
       "      <td>59.500000</td>\n",
       "      <td>59.500000</td>\n",
       "      <td>59.500000</td>\n",
       "      <td>59.500000</td>\n",
       "      <td>3290000</td>\n",
       "      <td>-0.003188</td>\n",
       "      <td>0</td>\n",
       "      <td>7.365763</td>\n",
       "      <td>0.135763</td>\n",
       "    </tr>\n",
       "    <tr>\n",
       "      <th>1960-01-11</th>\n",
       "      <td>58.770000</td>\n",
       "      <td>58.770000</td>\n",
       "      <td>58.770000</td>\n",
       "      <td>58.770000</td>\n",
       "      <td>3470000</td>\n",
       "      <td>-0.012345</td>\n",
       "      <td>0</td>\n",
       "      <td>7.138952</td>\n",
       "      <td>0.140077</td>\n",
       "    </tr>\n",
       "  </tbody>\n",
       "</table>\n",
       "</div>"
      ],
      "text/plain": [
       "Price           Close       High        Low       Open   Volume DailyReturn  \\\n",
       "Ticker          ^GSPC      ^GSPC      ^GSPC      ^GSPC    ^GSPC               \n",
       "Date                                                                          \n",
       "1960-01-05  60.389999  60.389999  60.389999  60.389999  3710000    0.007980   \n",
       "1960-01-06  60.130001  60.130001  60.130001  60.130001  3730000   -0.004315   \n",
       "1960-01-07  59.689999  59.689999  59.689999  59.689999  3310000   -0.007344   \n",
       "1960-01-08  59.500000  59.500000  59.500000  59.500000  3290000   -0.003188   \n",
       "1960-01-11  58.770000  58.770000  58.770000  58.770000  3470000   -0.012345   \n",
       "\n",
       "Price      Sign_1d GARCH_volatility   inv_vol  \n",
       "Ticker                                         \n",
       "Date                                           \n",
       "1960-01-05       1         7.376043  0.135574  \n",
       "1960-01-06       0         7.429550  0.134598  \n",
       "1960-01-07       0         7.262138  0.137701  \n",
       "1960-01-08       0         7.365763  0.135763  \n",
       "1960-01-11       0         7.138952  0.140077  "
      ]
     },
     "execution_count": 131,
     "metadata": {},
     "output_type": "execute_result"
    }
   ],
   "source": [
    "data['GARCH_volatility'] = model_fit.conditional_volatility\n",
    "data['inv_vol'] = 1 / data['GARCH_volatility']\n",
    "data.head()"
   ]
  },
  {
   "cell_type": "code",
   "execution_count": 132,
   "id": "0ee9295a",
   "metadata": {},
   "outputs": [],
   "source": [
    "import torch\n",
    "import torch.nn as nn\n",
    "import torch.optim as optim\n",
    "import random\n",
    "from sklearn.preprocessing import StandardScaler\n",
    "\n",
    "torch.manual_seed(42)\n",
    "np.random.seed(42)\n",
    "random.seed(42)"
   ]
  },
  {
   "cell_type": "markdown",
   "id": "3d003bdb",
   "metadata": {},
   "source": [
    "The window size is actually quite important, because it determines how many lags should be considered. There was a paper that suggested to not use more than 48 time steps for a LSTM."
   ]
  },
  {
   "cell_type": "code",
   "execution_count": 133,
   "id": "d6a9fafa",
   "metadata": {},
   "outputs": [],
   "source": [
    "window_size = 20  # number of lagged observations\n",
    "train_size = 5000\n",
    "data = data.copy()\n",
    "\n",
    "# Add lagged returns as features\n",
    "data['Lag1'] = data['DailyReturn'].shift(1)\n",
    "data['Lag2'] = data['DailyReturn'].shift(2)\n",
    "data['Lag3'] = data['DailyReturn'].shift(3)\n",
    "\n",
    "data = data.dropna()\n",
    "\n",
    "# Feature matrix: inv_vol + lagged returns\n",
    "features = np.column_stack([\n",
    "    data['inv_vol'].values,\n",
    "    data['Lag1'].values,\n",
    "    data['Lag2'].values,\n",
    "    data['Lag3'].values\n",
    "])\n",
    "\n",
    "input_variables = features.shape[1]\n",
    "\n",
    "scaler = StandardScaler()\n",
    "features_scaled = scaler.fit_transform(features)"
   ]
  },
  {
   "cell_type": "markdown",
   "id": "4cb52ede",
   "metadata": {},
   "source": [
    "Currently, the past returns and inverse volatility are used for predicting the next retun. This might not be economically sensible as many people believe returns are independent and form a martingale difference sequence (MDS). "
   ]
  },
  {
   "cell_type": "code",
   "execution_count": 134,
   "id": "7ea9e899",
   "metadata": {},
   "outputs": [
    {
     "data": {
      "text/plain": [
       "array([[ 0.13576325, -0.00734442, -0.00431462,  0.00798008],\n",
       "       [ 0.14007658, -0.00318817, -0.00734442, -0.00431462],\n",
       "       [ 0.1262952 , -0.01234478, -0.00318817, -0.00734442],\n",
       "       ...,\n",
       "       [ 0.08300873, -0.00405784,  0.00585095, -0.01455714],\n",
       "       [ 0.08264597, -0.01209347, -0.00405784,  0.00585095],\n",
       "       [ 0.07916848,  0.01731063, -0.01209347, -0.00405784]],\n",
       "      shape=(15854, 4))"
      ]
     },
     "execution_count": 134,
     "metadata": {},
     "output_type": "execute_result"
    }
   ],
   "source": [
    "features"
   ]
  },
  {
   "cell_type": "markdown",
   "id": "525080c2",
   "metadata": {},
   "source": [
    "By using StandardScaler, each variable will be standard normally distributed."
   ]
  },
  {
   "cell_type": "code",
   "execution_count": 135,
   "id": "1b2d0ec1",
   "metadata": {},
   "outputs": [],
   "source": [
    "# Create lagged feature matrix for LSTM\n",
    "def create_lagged_matrix_multifeature(X, window):\n",
    "    out = []\n",
    "    for i in range(window, len(X)):\n",
    "        out.append(X[i-window:i, :])\n",
    "    return np.array(out)\n",
    "\n",
    "X_lagged = create_lagged_matrix_multifeature(features_scaled, window_size)\n",
    "y_target = data['Sign_1d'].values[window_size:]"
   ]
  },
  {
   "cell_type": "code",
   "execution_count": 136,
   "id": "52431ba0",
   "metadata": {},
   "outputs": [],
   "source": [
    "# Split train/test\n",
    "X_train = X_lagged[:train_size]\n",
    "y_train = y_target[:train_size]\n",
    "X_test = X_lagged[train_size:]\n",
    "y_test = y_target[train_size:]\n",
    "\n",
    "# Convert to torch tensors\n",
    "X_train_t = torch.tensor(X_train, dtype=torch.float32)\n",
    "y_train_t = torch.tensor(y_train.reshape(-1, 1), dtype=torch.float32)\n",
    "X_test_t = torch.tensor(X_test, dtype=torch.float32)"
   ]
  },
  {
   "cell_type": "markdown",
   "id": "55862638",
   "metadata": {},
   "source": [
    "## Define LSTM Model"
   ]
  },
  {
   "cell_type": "code",
   "execution_count": 137,
   "id": "d6159de9",
   "metadata": {},
   "outputs": [],
   "source": [
    "class SimpleLSTM(nn.Module):\n",
    "    def __init__(self, input_dim=1, hidden_dim=16, num_layers=1):\n",
    "        super(SimpleLSTM, self).__init__()\n",
    "        self.lstm = nn.LSTM(input_dim, hidden_dim, num_layers, batch_first=True)\n",
    "        self.fc = nn.Linear(hidden_dim, 1)\n",
    "        self.sigmoid = nn.Sigmoid()\n",
    "    def forward(self, x):\n",
    "        out, _ = self.lstm(x)\n",
    "        out = out[:, -1, :]\n",
    "        out = self.fc(out)\n",
    "        return self.sigmoid(out)\n",
    "\n",
    "model = SimpleLSTM(input_dim=input_variables, hidden_dim=64)\n",
    "optimizer = optim.Adam(model.parameters(), lr=0.001)\n",
    "criterion = nn.BCELoss()"
   ]
  },
  {
   "cell_type": "code",
   "execution_count": 138,
   "id": "0cff9edb",
   "metadata": {},
   "outputs": [
    {
     "name": "stdout",
     "output_type": "stream",
     "text": [
      "Epoch 1: loss = 0.6948\n",
      "Epoch 2: loss = 0.6942\n",
      "Epoch 3: loss = 0.6936\n",
      "Epoch 4: loss = 0.6931\n",
      "Epoch 5: loss = 0.6927\n",
      "Epoch 6: loss = 0.6923\n",
      "Epoch 7: loss = 0.6921\n",
      "Epoch 8: loss = 0.6918\n",
      "Epoch 9: loss = 0.6917\n",
      "Epoch 10: loss = 0.6916\n"
     ]
    }
   ],
   "source": [
    "model.train()\n",
    "for epoch in range(10):\n",
    "    optimizer.zero_grad()\n",
    "    y_pred = model(X_train_t)\n",
    "    loss = criterion(y_pred, y_train_t)\n",
    "    loss.backward()\n",
    "    optimizer.step()\n",
    "    print(f\"Epoch {epoch+1}: loss = {loss.item():.4f}\")\n",
    "\n",
    "# --- Predict out-of-sample ---\n",
    "model.eval()\n",
    "with torch.no_grad():\n",
    "    y_pred_test = model(X_test_t).squeeze().numpy()\n",
    "    y_pred_sign = (y_pred_test > 0.5).astype(int)\n",
    "\n",
    "# --- Results ---\n",
    "results = pd.DataFrame({\n",
    "    'Actual': y_test,\n",
    "    'Predicted': y_pred_sign,\n",
    "    'Probability': y_pred_test\n",
    "}, index=data.index[window_size+train_size:])"
   ]
  },
  {
   "cell_type": "code",
   "execution_count": 139,
   "id": "90bdf812",
   "metadata": {},
   "outputs": [
    {
     "name": "stdout",
     "output_type": "stream",
     "text": [
      "Classification Report:\n",
      "              precision    recall  f1-score   support\n",
      "\n",
      "           0       0.47      0.15      0.23      5063\n",
      "           1       0.53      0.85      0.65      5771\n",
      "\n",
      "    accuracy                           0.52     10834\n",
      "   macro avg       0.50      0.50      0.44     10834\n",
      "weighted avg       0.50      0.52      0.46     10834\n",
      "\n",
      "Accuracy: 0.5227985970094148\n"
     ]
    }
   ],
   "source": [
    "from sklearn.metrics import classification_report, accuracy_score\n",
    "\n",
    "# Classification report\n",
    "print(\"Classification Report:\")\n",
    "print(classification_report(results['Actual'], results['Predicted']))\n",
    "print(\"Accuracy:\", accuracy_score(results['Actual'], results['Predicted']))"
   ]
  },
  {
   "cell_type": "code",
   "execution_count": 140,
   "id": "95fdfb04",
   "metadata": {},
   "outputs": [
    {
     "data": {
      "text/plain": [
       "<Axes: xlabel='Date'>"
      ]
     },
     "execution_count": 140,
     "metadata": {},
     "output_type": "execute_result"
    },
    {
     "data": {
      "image/png": "[encoded data removed]",
      "text/plain": [
       "<Figure size 640x480 with 1 Axes>"
      ]
     },
     "metadata": {},
     "output_type": "display_data"
    }
   ],
   "source": [
    "results[\"Probability\"].plot()"
   ]
  }
 ],
 "metadata": {
  "kernelspec": {
   "display_name": "Python 3",
   "language": "python",
   "name": "python3"
  },
  "language_info": {
   "codemirror_mode": {
    "name": "ipython",
    "version": 3
   },
   "file_extension": ".py",
   "mimetype": "text/x-python",
   "name": "python",
   "nbconvert_exporter": "python",
   "pygments_lexer": "ipython3",
   "version": "3.11.9"
  }
 },
 "nbformat": 4,
 "nbformat_minor": 5
}
