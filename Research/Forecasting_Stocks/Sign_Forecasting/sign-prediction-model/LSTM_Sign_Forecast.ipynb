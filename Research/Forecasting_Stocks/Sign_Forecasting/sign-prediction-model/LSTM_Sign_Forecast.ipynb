{
 "cells": [
  {
   "cell_type": "code",
   "execution_count": 29,
   "id": "e9d93d47",
   "metadata": {},
   "outputs": [],
   "source": [
    "import numpy as np\n",
    "import pandas as pd\n",
    "import matplotlib.pyplot as plt\n",
    "import torch\n",
    "import torch.nn as nn\n",
    "import torch.optim as optim\n",
    "from torch.utils.data import TensorDataset, DataLoader\n",
    "import random\n",
    "from sklearn.metrics import accuracy_score, classification_report\n",
    "\n",
    "torch.manual_seed(42)\n",
    "np.random.seed(42)\n",
    "random.seed(42)"
   ]
  },
  {
   "cell_type": "code",
   "execution_count": 30,
   "id": "0d090e5d",
   "metadata": {},
   "outputs": [],
   "source": [
    "df = pd.read_csv('monthly_FRED-MD_2024-12_processed.csv')"
   ]
  },
  {
   "cell_type": "markdown",
   "id": "2d1e47c1",
   "metadata": {},
   "source": [
    "# Deep Learning"
   ]
  },
  {
   "cell_type": "code",
   "execution_count": 31,
   "id": "3e22b5dc",
   "metadata": {},
   "outputs": [],
   "source": [
    "NUMBER_OF_LAGS = 20\n",
    "TRAIN_RATIO = 0.8\n",
    "HIDDEN_DIM = 16\n",
    "NUM_LAYERS = 1\n",
    "DROPOUT = 0.0\n",
    "LR = 3e-4\n",
    "BATCH_SIZE = 64\n",
    "EPOCHS = 50\n",
    "CLASS_THRESHOLD = 0.5"
   ]
  },
  {
   "cell_type": "code",
   "execution_count": 32,
   "id": "d4cb8ec7",
   "metadata": {},
   "outputs": [
    {
     "name": "stdout",
     "output_type": "stream",
     "text": [
      "Using device: cpu\n"
     ]
    }
   ],
   "source": [
    "device = torch.device(\"cuda\" if torch.cuda.is_available() else \"cpu\")\n",
    "print(f'Using device: {device}')"
   ]
  },
  {
   "cell_type": "code",
   "execution_count": 33,
   "id": "d6a9fafa",
   "metadata": {},
   "outputs": [],
   "source": [
    "# Keep only numeric features (drop target)\n",
    "numeric = df.select_dtypes(include=[np.number]).copy()\n",
    "X_all = numeric.drop(columns=[\"sign\", \"volatility\"]).values\n",
    "y_sign = numeric[\"sign\"].astype(int).values\n"
   ]
  },
  {
   "cell_type": "code",
   "execution_count": null,
   "id": "c14b0aee",
   "metadata": {},
   "outputs": [],
   "source": [
    "# Create sliding-window sequences\n",
    "def create_sequences(X, y_sign, window):\n",
    "    Xs, ys = [], []\n",
    "    for i in range(window, len(X)):\n",
    "        Xs.append(X[i - window : i, :])\n",
    "        ys.append(y_sign[i])\n",
    "    return np.array(Xs), np.array(ys)\n",
    "\n",
    "X_seq, y_seq = create_sequences(X_all, y_sign, NUMBER_OF_LAGS)"
   ]
  },
  {
   "cell_type": "code",
   "execution_count": 51,
   "id": "bebae17c",
   "metadata": {},
   "outputs": [],
   "source": [
    "s = pd.Series(y_sign, name='sign')\n",
    "lag_df = pd.DataFrame({\n",
    "    'lag_t-1': s.shift(1),\n",
    "    'lag_t-2': s.shift(2),\n",
    "    'lag_t-3': s.shift(3),\n",
    "    'sign_t': s\n",
    "})"
   ]
  },
  {
   "cell_type": "code",
   "execution_count": 65,
   "id": "6a576a69",
   "metadata": {},
   "outputs": [
    {
     "name": "stdout",
     "output_type": "stream",
     "text": [
      "0.4150453955901427\n",
      "0.36964980544747084\n",
      "0.3865110246433204\n"
     ]
    }
   ],
   "source": [
    "lag_df = lag_df.iloc[3:,].copy()\n",
    "# count how often lag_t-1 = 1 if sign_t = 1\n",
    "lag_df['lag_t-1_given_sign_t'] = lag_df['lag_t-1'] * lag_df['sign_t']\n",
    "lag_df['lag_t-2_given_sign_t'] = lag_df['lag_t-2'] * lag_df['sign_t']\n",
    "lag_df['lag_t-3_given_sign_t'] = lag_df['lag_t-3'] * lag_df['sign_t']\n",
    "print(lag_df['lag_t-1_given_sign_t'].sum()/len(lag_df))\n",
    "print(lag_df['lag_t-2_given_sign_t'].sum()/len(lag_df))\n",
    "print(lag_df['lag_t-3_given_sign_t'].sum()/len(lag_df))"
   ]
  },
  {
   "cell_type": "code",
   "execution_count": 58,
   "id": "a4444110",
   "metadata": {},
   "outputs": [
    {
     "data": {
      "text/html": [
       "<div>\n",
       "<style scoped>\n",
       "    .dataframe tbody tr th:only-of-type {\n",
       "        vertical-align: middle;\n",
       "    }\n",
       "\n",
       "    .dataframe tbody tr th {\n",
       "        vertical-align: top;\n",
       "    }\n",
       "\n",
       "    .dataframe thead th {\n",
       "        text-align: right;\n",
       "    }\n",
       "</style>\n",
       "<table border=\"1\" class=\"dataframe\">\n",
       "  <thead>\n",
       "    <tr style=\"text-align: right;\">\n",
       "      <th></th>\n",
       "      <th>lag_t-1</th>\n",
       "      <th>lag_t-2</th>\n",
       "      <th>lag_t-3</th>\n",
       "      <th>sign_t</th>\n",
       "      <th>lag_t-1_given_sign_t</th>\n",
       "    </tr>\n",
       "  </thead>\n",
       "  <tbody>\n",
       "    <tr>\n",
       "      <th>0</th>\n",
       "      <td>NaN</td>\n",
       "      <td>NaN</td>\n",
       "      <td>NaN</td>\n",
       "      <td>1</td>\n",
       "      <td>NaN</td>\n",
       "    </tr>\n",
       "    <tr>\n",
       "      <th>1</th>\n",
       "      <td>1.0</td>\n",
       "      <td>NaN</td>\n",
       "      <td>NaN</td>\n",
       "      <td>1</td>\n",
       "      <td>1.0</td>\n",
       "    </tr>\n",
       "    <tr>\n",
       "      <th>2</th>\n",
       "      <td>1.0</td>\n",
       "      <td>1.0</td>\n",
       "      <td>NaN</td>\n",
       "      <td>1</td>\n",
       "      <td>1.0</td>\n",
       "    </tr>\n",
       "    <tr>\n",
       "      <th>3</th>\n",
       "      <td>1.0</td>\n",
       "      <td>1.0</td>\n",
       "      <td>1.0</td>\n",
       "      <td>0</td>\n",
       "      <td>0.0</td>\n",
       "    </tr>\n",
       "    <tr>\n",
       "      <th>4</th>\n",
       "      <td>0.0</td>\n",
       "      <td>1.0</td>\n",
       "      <td>1.0</td>\n",
       "      <td>1</td>\n",
       "      <td>0.0</td>\n",
       "    </tr>\n",
       "    <tr>\n",
       "      <th>...</th>\n",
       "      <td>...</td>\n",
       "      <td>...</td>\n",
       "      <td>...</td>\n",
       "      <td>...</td>\n",
       "      <td>...</td>\n",
       "    </tr>\n",
       "    <tr>\n",
       "      <th>784</th>\n",
       "      <td>1.0</td>\n",
       "      <td>1.0</td>\n",
       "      <td>0.0</td>\n",
       "      <td>1</td>\n",
       "      <td>1.0</td>\n",
       "    </tr>\n",
       "    <tr>\n",
       "      <th>785</th>\n",
       "      <td>1.0</td>\n",
       "      <td>1.0</td>\n",
       "      <td>1.0</td>\n",
       "      <td>0</td>\n",
       "      <td>0.0</td>\n",
       "    </tr>\n",
       "    <tr>\n",
       "      <th>786</th>\n",
       "      <td>0.0</td>\n",
       "      <td>1.0</td>\n",
       "      <td>1.0</td>\n",
       "      <td>1</td>\n",
       "      <td>0.0</td>\n",
       "    </tr>\n",
       "    <tr>\n",
       "      <th>787</th>\n",
       "      <td>1.0</td>\n",
       "      <td>0.0</td>\n",
       "      <td>1.0</td>\n",
       "      <td>1</td>\n",
       "      <td>1.0</td>\n",
       "    </tr>\n",
       "    <tr>\n",
       "      <th>788</th>\n",
       "      <td>1.0</td>\n",
       "      <td>1.0</td>\n",
       "      <td>0.0</td>\n",
       "      <td>1</td>\n",
       "      <td>1.0</td>\n",
       "    </tr>\n",
       "  </tbody>\n",
       "</table>\n",
       "<p>789 rows × 5 columns</p>\n",
       "</div>"
      ],
      "text/plain": [
       "     lag_t-1  lag_t-2  lag_t-3  sign_t  lag_t-1_given_sign_t\n",
       "0        NaN      NaN      NaN       1                   NaN\n",
       "1        1.0      NaN      NaN       1                   1.0\n",
       "2        1.0      1.0      NaN       1                   1.0\n",
       "3        1.0      1.0      1.0       0                   0.0\n",
       "4        0.0      1.0      1.0       1                   0.0\n",
       "..       ...      ...      ...     ...                   ...\n",
       "784      1.0      1.0      0.0       1                   1.0\n",
       "785      1.0      1.0      1.0       0                   0.0\n",
       "786      0.0      1.0      1.0       1                   0.0\n",
       "787      1.0      0.0      1.0       1                   1.0\n",
       "788      1.0      1.0      0.0       1                   1.0\n",
       "\n",
       "[789 rows x 5 columns]"
      ]
     },
     "execution_count": 58,
     "metadata": {},
     "output_type": "execute_result"
    }
   ],
   "source": [
    "lag_df"
   ]
  },
  {
   "cell_type": "code",
   "execution_count": 35,
   "id": "f4e322f9",
   "metadata": {},
   "outputs": [],
   "source": [
    "train_size = int(len(X_seq) * TRAIN_RATIO)\n",
    "X_train = X_seq[:train_size]; X_test = X_seq[train_size:]\n",
    "ys_train = y_seq[:train_size]; ys_test = y_seq[train_size:]"
   ]
  },
  {
   "cell_type": "code",
   "execution_count": 36,
   "id": "c0c2caf7",
   "metadata": {},
   "outputs": [],
   "source": [
    "# Torch datasets\n",
    "X_train_t = torch.tensor(X_train, dtype=torch.float32).to(device)\n",
    "ys_train_t = torch.tensor(ys_train, dtype=torch.float32).unsqueeze(1).to(device)\n",
    "X_test_t = torch.tensor(X_test, dtype=torch.float32).to(device)\n",
    "\n",
    "train_dataset = TensorDataset(X_train_t, ys_train_t)\n",
    "train_loader = DataLoader(train_dataset, batch_size=BATCH_SIZE, shuffle=False)"
   ]
  },
  {
   "cell_type": "markdown",
   "id": "55862638",
   "metadata": {},
   "source": [
    "## Define LSTM Model"
   ]
  },
  {
   "cell_type": "code",
   "execution_count": 37,
   "id": "d6159de9",
   "metadata": {},
   "outputs": [],
   "source": [
    "class SimpleLSTM(nn.Module):\n",
    "    def __init__(self, input_dim=1, hidden_dim=16, num_layers=1, dropout=0.0):\n",
    "        super(SimpleLSTM, self).__init__()\n",
    "        self.lstm = nn.LSTM(input_dim, hidden_dim, num_layers, batch_first=True, dropout=dropout)\n",
    "        self.fc = nn.Linear(hidden_dim, 1)\n",
    "        self.sigmoid = nn.Sigmoid()\n",
    "    def forward(self, x):\n",
    "        out, _ = self.lstm(x)\n",
    "        out = out[:, -1, :]\n",
    "        out = self.fc(out)\n",
    "        return self.sigmoid(out)\n",
    "\n",
    "input_dim = X_train.shape[2]\n",
    "model = SimpleLSTM(input_dim=input_dim, hidden_dim=HIDDEN_DIM, num_layers=NUM_LAYERS, dropout=DROPOUT)\n",
    "optimizer = optim.Adam(model.parameters(), lr=LR)\n",
    "criterion = nn.BCELoss()"
   ]
  },
  {
   "cell_type": "code",
   "execution_count": 38,
   "id": "bb86a56e",
   "metadata": {},
   "outputs": [
    {
     "data": {
      "text/plain": [
       "SimpleLSTM(\n",
       "  (lstm): LSTM(113, 16, batch_first=True)\n",
       "  (fc): Linear(in_features=16, out_features=1, bias=True)\n",
       "  (sigmoid): Sigmoid()\n",
       ")"
      ]
     },
     "execution_count": 38,
     "metadata": {},
     "output_type": "execute_result"
    }
   ],
   "source": [
    "model"
   ]
  },
  {
   "cell_type": "markdown",
   "id": "e1f0b773",
   "metadata": {},
   "source": [
    "## Model Training"
   ]
  },
  {
   "cell_type": "markdown",
   "id": "cd08cdf2",
   "metadata": {},
   "source": [
    "X_train_t contains batch size, sequence length (number of lags) and number of variables.\n",
    "Pytorch automatically calls forward()-method when input is given to the model."
   ]
  },
  {
   "cell_type": "code",
   "execution_count": 39,
   "id": "c5a311ed",
   "metadata": {},
   "outputs": [
    {
     "name": "stdout",
     "output_type": "stream",
     "text": [
      "Epoch 0: loss = 0.6986\n",
      "Epoch 10: loss = 0.6641\n",
      "Epoch 20: loss = 0.6457\n",
      "Epoch 30: loss = 0.6379\n",
      "Epoch 40: loss = 0.6326\n",
      "Epoch 50: loss = 0.6295\n"
     ]
    }
   ],
   "source": [
    "model.train()\n",
    "for epoch in range(EPOCHS+1):     # number of seeing the training data for learning parameters\n",
    "    for X_batch, y_batch in train_loader:\n",
    "        optimizer.zero_grad()\n",
    "        y_pred = model(X_batch)\n",
    "        loss = criterion(y_pred, y_batch)\n",
    "        loss.backward()\n",
    "        optimizer.step()\n",
    "    if epoch % 10 == 0:\n",
    "        print(f\"Epoch {epoch}: loss = {loss.item():.4f}\")"
   ]
  },
  {
   "cell_type": "markdown",
   "id": "8125a42c",
   "metadata": {},
   "source": [
    "### Out of sample Prediction"
   ]
  },
  {
   "cell_type": "code",
   "execution_count": 40,
   "id": "0cff9edb",
   "metadata": {},
   "outputs": [],
   "source": [
    "model.eval()\n",
    "with torch.no_grad():\n",
    "    y_pred_test = model(X_test_t).squeeze().numpy()\n",
    "    y_pred_sign = (y_pred_test > CLASS_THRESHOLD).astype(int)"
   ]
  },
  {
   "cell_type": "code",
   "execution_count": 41,
   "id": "90bdf812",
   "metadata": {},
   "outputs": [
    {
     "name": "stdout",
     "output_type": "stream",
     "text": [
      "Test accuracy (sign): 0.6623\n",
      "Classification report (sign):\n",
      "              precision    recall  f1-score   support\n",
      "\n",
      "           0     0.3750    0.1250    0.1875        48\n",
      "           1     0.6957    0.9057    0.7869       106\n",
      "\n",
      "    accuracy                         0.6623       154\n",
      "   macro avg     0.5353    0.5153    0.4872       154\n",
      "weighted avg     0.5957    0.6623    0.6001       154\n",
      "\n"
     ]
    }
   ],
   "source": [
    "acc = accuracy_score(ys_test, y_pred_sign)\n",
    "print(f\"Test accuracy (sign): {acc:.4f}\")\n",
    "print(\"Classification report (sign):\")\n",
    "print(classification_report(ys_test, y_pred_sign, digits=4))"
   ]
  },
  {
   "cell_type": "code",
   "execution_count": 43,
   "id": "95fdfb04",
   "metadata": {},
   "outputs": [
    {
     "data": {
      "image/png": "[encoded data removed]",
      "text/plain": [
       "<Figure size 1200x600 with 1 Axes>"
      ]
     },
     "metadata": {},
     "output_type": "display_data"
    }
   ],
   "source": [
    "# plot probabilities\n",
    "plt.figure(figsize=(12,6))\n",
    "plt.plot(y_pred_test, label='Predicted Probability', color='blue', alpha=0.6)\n",
    "plt.title('Predicted Probabilities')\n",
    "plt.xlabel('Time Steps')\n",
    "plt.ylabel('Probability')\n",
    "plt.legend()\n",
    "plt.show()"
   ]
  }
 ],
 "metadata": {
  "kernelspec": {
   "display_name": "Python 3",
   "language": "python",
   "name": "python3"
  },
  "language_info": {
   "codemirror_mode": {
    "name": "ipython",
    "version": 3
   },
   "file_extension": ".py",
   "mimetype": "text/x-python",
   "name": "python",
   "nbconvert_exporter": "python",
   "pygments_lexer": "ipython3",
   "version": "3.11.9"
  }
 },
 "nbformat": 4,
 "nbformat_minor": 5
}
