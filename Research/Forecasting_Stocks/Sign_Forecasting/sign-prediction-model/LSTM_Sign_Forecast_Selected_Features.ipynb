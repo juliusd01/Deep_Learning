{
 "cells": [
  {
   "cell_type": "code",
   "execution_count": null,
   "id": "e9d93d47",
   "metadata": {},
   "outputs": [],
   "source": [
    "import yfinance as yf\n",
    "import numpy as np\n",
    "import pandas as pd\n",
    "import matplotlib.pyplot as plt\n",
    "from scipy import stats"
   ]
  },
  {
   "cell_type": "code",
   "execution_count": 269,
   "id": "e0b3a7de",
   "metadata": {},
   "outputs": [
    {
     "name": "stderr",
     "output_type": "stream",
     "text": [
      "C:\\Users\\jdobe\\AppData\\Local\\Temp\\ipykernel_16912\\2274404261.py:2: FutureWarning: YF.download() has changed argument auto_adjust default to True\n",
      "  data = yf.download(ticker, start=\"1962-01-02\", end=\"2023-01-01\")\n",
      "[*********************100%***********************]  1 of 1 completed\n"
     ]
    }
   ],
   "source": [
    "ticker = \"^GSPC\"\n",
    "data = yf.download(ticker, start=\"1962-01-02\", end=\"2023-01-01\")"
   ]
  },
  {
   "cell_type": "code",
   "execution_count": 270,
   "id": "771d525b",
   "metadata": {},
   "outputs": [
    {
     "name": "stdout",
     "output_type": "stream",
     "text": [
      "Price           Close       High        Low       Open   Volume\n",
      "Ticker          ^GSPC      ^GSPC      ^GSPC      ^GSPC    ^GSPC\n",
      "Date                                                           \n",
      "1962-01-02  70.959999  71.959999  70.709999  71.550003  3120000\n",
      "1962-01-03  71.129997  71.480003  70.379997  70.959999  3590000\n",
      "1962-01-04  70.639999  71.620003  70.449997  71.129997  4450000\n",
      "1962-01-05  69.660004  70.839996  69.349998  70.639999  4630000\n",
      "1962-01-08  69.120003  69.839996  68.169998  69.660004  4620000\n",
      "(15356, 5)\n"
     ]
    }
   ],
   "source": [
    "print(data.head())\n",
    "print(data.shape)"
   ]
  },
  {
   "cell_type": "code",
   "execution_count": 271,
   "id": "f37a7439",
   "metadata": {},
   "outputs": [],
   "source": [
    "# Create variable Log Returns and further\n",
    "data[\"DailyReturn\"] = np.log(data[\"Close\"]).diff()\n",
    "data['Sign_1d'] = (data['DailyReturn'] > 0).astype(int)\n",
    "data['Volume_change'] = np.log(data['Volume']).diff()\n",
    "data['Trading_range'] = np.log(data['High'] / data['Low'])\n",
    "\n",
    "data = data.iloc[1:]"
   ]
  },
  {
   "cell_type": "code",
   "execution_count": 272,
   "id": "2812433e",
   "metadata": {},
   "outputs": [
    {
     "data": {
      "text/plain": [
       "count    15355.000000\n",
       "mean         0.000260\n",
       "std          0.010460\n",
       "min         -0.228997\n",
       "25%         -0.004327\n",
       "50%          0.000435\n",
       "75%          0.005185\n",
       "max          0.109572\n",
       "Name: DailyReturn, dtype: float64"
      ]
     },
     "execution_count": 272,
     "metadata": {},
     "output_type": "execute_result"
    }
   ],
   "source": [
    "data[\"DailyReturn\"].describe()"
   ]
  },
  {
   "cell_type": "code",
   "execution_count": 273,
   "id": "75236a8a",
   "metadata": {},
   "outputs": [
    {
     "data": {
      "image/png": "[encoded data removed]",
      "text/plain": [
       "<Figure size 1000x600 with 1 Axes>"
      ]
     },
     "metadata": {},
     "output_type": "display_data"
    }
   ],
   "source": [
    "# plot the distribution of daily returns\n",
    "plt.figure(figsize=(10, 6))\n",
    "plt.hist(data[\"DailyReturn\"], bins=100, density=True, alpha=0.6, color='g')\n",
    "plt.title('Distribution of Daily Log Returns')\n",
    "plt.xlabel('Daily Log Return')\n",
    "plt.ylabel('Density')\n",
    "plt.grid()\n",
    "plt.show()"
   ]
  },
  {
   "cell_type": "markdown",
   "id": "66b071d1",
   "metadata": {},
   "source": [
    "NOTE: If I use log returns, then there is a zero asset return (mean=0.0002). This would make the use of volatility as predictor for sign return described in Christofferson & Diebold (2006) not applicable to my project."
   ]
  },
  {
   "cell_type": "code",
   "execution_count": 274,
   "id": "4674c013",
   "metadata": {},
   "outputs": [
    {
     "name": "stdout",
     "output_type": "stream",
     "text": [
      "Jarque-Bera test statistic: 404272.34287851123, p-value: 0.0\n"
     ]
    }
   ],
   "source": [
    "# Check for normality of returns\n",
    "jb_stat, jb_p = stats.jarque_bera(data[\"DailyReturn\"].dropna())\n",
    "print(f\"Jarque-Bera test statistic: {jb_stat}, p-value: {jb_p}\")"
   ]
  },
  {
   "cell_type": "markdown",
   "id": "7a74b448",
   "metadata": {},
   "source": [
    "Hence, the Daily Returns do not follow a normal distribution and sign forecastibility with zero mean asset return but asymmetric distribution from [Christofferson et al.](https://economics.sas.upenn.edu/pier/working-paper/2006/direction-change-forecasts-based-conditional-variance-skewness-and-kurtosis) (2007) could be applied. By the descriptive statistics, it already becomes apparent that there is excess kurtosis, since the minimum return is roughly 22 st.dev. away from the mean. The probability for this to happen is so small, that this return would be even unlikely if we get a return every nanosecond from the start of the universe. Since Pr(Z>22)=2.44x10^-107 for a st.normal distr. Whereas, the universe exists for roughly 4,35x10^26=13,800,000,000x365x24x3600x10^9 nanoseconds."
   ]
  },
  {
   "cell_type": "code",
   "execution_count": 275,
   "id": "81a5e653",
   "metadata": {},
   "outputs": [],
   "source": [
    "# get annualized realized volatility\n",
    "data['Realized_Vol_5d'] = data['DailyReturn'].rolling(window=5).std() * np.sqrt(252)\n",
    "data['Realized_Vol_20d'] = data['DailyReturn'].rolling(window=20).std() * np.sqrt(252)"
   ]
  },
  {
   "cell_type": "markdown",
   "id": "2d1e47c1",
   "metadata": {},
   "source": [
    "# Deep Learning for Sign Classification"
   ]
  },
  {
   "cell_type": "code",
   "execution_count": 277,
   "id": "0ee9295a",
   "metadata": {},
   "outputs": [],
   "source": [
    "import torch\n",
    "import torch.nn as nn\n",
    "import torch.optim as optim\n",
    "from torch.utils.data import TensorDataset, DataLoader\n",
    "import random\n",
    "from sklearn.preprocessing import StandardScaler\n",
    "\n",
    "torch.manual_seed(42)\n",
    "np.random.seed(42)\n",
    "random.seed(42)"
   ]
  },
  {
   "cell_type": "code",
   "execution_count": 278,
   "id": "3e22b5dc",
   "metadata": {},
   "outputs": [],
   "source": [
    "NUMBER_OF_LAGS = 20  # number of lagged observations\n",
    "TRAIN_SIZE = 5000\n",
    "HIDDEN_DIM = 32\n",
    "NUM_LAYERS = 3\n",
    "DROPOUT = 0.1\n",
    "BATCH_SIZE = 128\n",
    "NUMBER_OF_EPOCHS = 50\n",
    "CLASSIFICATION_THRESHOLD = 0.5"
   ]
  },
  {
   "cell_type": "markdown",
   "id": "5fa17993",
   "metadata": {},
   "source": [
    "TODO: Add more variables"
   ]
  },
  {
   "cell_type": "markdown",
   "id": "b079c64e",
   "metadata": {},
   "source": [
    "10 Year US Treasury Bills (Ticker: ^TNX)"
   ]
  },
  {
   "cell_type": "code",
   "execution_count": 279,
   "id": "8c26ef06",
   "metadata": {},
   "outputs": [
    {
     "name": "stderr",
     "output_type": "stream",
     "text": [
      "C:\\Users\\jdobe\\AppData\\Local\\Temp\\ipykernel_16912\\1549595112.py:1: FutureWarning: YF.download() has changed argument auto_adjust default to True\n",
      "  ten_y_tbill = yf.download(\"^TNX\", start=\"1962-01-02\", end=\"2023-01-01\")\n",
      "[*********************100%***********************]  1 of 1 completed\n",
      "C:\\Users\\jdobe\\AppData\\Local\\Temp\\ipykernel_16912\\1549595112.py:2: FutureWarning: YF.download() has changed argument auto_adjust default to True\n",
      "  three_month_tbill = yf.download(\"^IRX\", start=\"1962-01-02\", end=\"2023-01-01\")\n",
      "[*********************100%***********************]  1 of 1 completed\n",
      "C:\\Users\\jdobe\\AppData\\Local\\Temp\\ipykernel_16912\\1549595112.py:3: FutureWarning: YF.download() has changed argument auto_adjust default to True\n",
      "  oil_price = yf.download(\"CL=F\", start=\"1962-01-02\", end=\"2023-01-01\")\n",
      "[*********************100%***********************]  1 of 1 completed\n",
      "C:\\Users\\jdobe\\AppData\\Local\\Temp\\ipykernel_16912\\1549595112.py:4: FutureWarning: YF.download() has changed argument auto_adjust default to True\n",
      "  vix_index = yf.download(\"^VIX\", start=\"1962-01-02\", end=\"2023-01-01\")\n",
      "[*********************100%***********************]  1 of 1 completed\n"
     ]
    }
   ],
   "source": [
    "ten_y_tbill = yf.download(\"^TNX\", start=\"1962-01-02\", end=\"2023-01-01\")\n",
    "three_month_tbill = yf.download(\"^IRX\", start=\"1962-01-02\", end=\"2023-01-01\")\n",
    "oil_price = yf.download(\"CL=F\", start=\"1962-01-02\", end=\"2023-01-01\")\n",
    "vix_index = yf.download(\"^VIX\", start=\"1962-01-02\", end=\"2023-01-01\")\n",
    "# merge Open price of interest rates with main data\n",
    "data = data.merge(ten_y_tbill[[\"Open\"]], left_index=True, right_index=True, how=\"left\", suffixes=('', '_TNX'))\n",
    "data = data.merge(three_month_tbill[[\"Open\"]], left_index=True, right_index=True, how=\"left\", suffixes=('', '_IRX'))\n",
    "data = data.merge(oil_price[[\"Open\"]], left_index=True, right_index=True, how=\"left\", suffixes=('', '_CL'))\n",
    "data = data.merge(vix_index[[\"Open\"]], left_index=True, right_index=True, how=\"left\", suffixes=('', '_VIX'))\n",
    "\n",
    "# Drop MultiIndex in columns\n",
    "data.columns = ['_'.join([str(level) for level in col if level]).replace('^', '') for col in data.columns]\n",
    "data = data.rename(columns={\n",
    "    ('Open_TNX'): ('ten_y_tnotes'),   \n",
    "    ('Open_IRX'): ('three_months_tbills'),\n",
    "    ('Open_CL=F'): ('oil_price'),\n",
    "    ('Open_VIX'): ('vix_index')\n",
    "})"
   ]
  },
  {
   "cell_type": "code",
   "execution_count": 280,
   "id": "3f92b48b",
   "metadata": {},
   "outputs": [
    {
     "name": "stdout",
     "output_type": "stream",
     "text": [
      "Close_GSPC                0\n",
      "High_GSPC                 0\n",
      "Low_GSPC                  0\n",
      "Open_GSPC                 0\n",
      "Volume_GSPC               0\n",
      "DailyReturn               0\n",
      "Sign_1d                   0\n",
      "Volume_change             0\n",
      "Trading_range             0\n",
      "Realized_Vol_5d           4\n",
      "Realized_Vol_20d         19\n",
      "ten_y_tnotes            121\n",
      "three_months_tbills     121\n",
      "oil_price              9745\n",
      "vix_index              7040\n",
      "dtype: int64\n"
     ]
    }
   ],
   "source": [
    "# print nan values per column\n",
    "print(data.isna().sum())"
   ]
  },
  {
   "cell_type": "code",
   "execution_count": 281,
   "id": "d6a9fafa",
   "metadata": {},
   "outputs": [
    {
     "name": "stderr",
     "output_type": "stream",
     "text": [
      "C:\\Users\\jdobe\\AppData\\Local\\Packages\\PythonSoftwareFoundation.Python.3.11_qbz5n2kfra8p0\\LocalCache\\local-packages\\Python311\\site-packages\\pandas\\core\\arraylike.py:399: RuntimeWarning: invalid value encountered in log\n",
      "  result = getattr(ufunc, method)(*inputs, **kwargs)\n"
     ]
    }
   ],
   "source": [
    "# Add lagged returns as features\n",
    "data['Return_Lag1'] = data['DailyReturn'].shift(1)\n",
    "data['oil_price_return'] = np.log(data['oil_price']).diff()\n",
    "data['vix_return'] = np.log(data['vix_index']).diff()\n",
    "\n",
    "data.drop(columns=['oil_price', 'oil_price_return', 'vix_index', 'vix_return'], inplace=True)  # dropping oil price due to too many NaNs\n",
    "data = data.dropna()\n",
    "\n",
    "# Feature matrix\n",
    "features = np.column_stack([\n",
    "    data['Realized_Vol_5d'].values,\n",
    "    data['Realized_Vol_20d'].values,\n",
    "    data['Return_Lag1'].values,\n",
    "    data['Volume_change'].values,\n",
    "    data['Trading_range'].values,\n",
    "    data['ten_y_tnotes'].values,\n",
    "    data['three_months_tbills'].values\n",
    "    #data['oil_price_return'].values,\n",
    "    #data['vix_index'].values,\n",
    "    #data['vix_return'].values\n",
    "])\n",
    "\n",
    "input_variables = features.shape[1]"
   ]
  },
  {
   "cell_type": "code",
   "execution_count": 282,
   "id": "99da9cc4",
   "metadata": {},
   "outputs": [
    {
     "data": {
      "text/html": [
       "<div>\n",
       "<style scoped>\n",
       "    .dataframe tbody tr th:only-of-type {\n",
       "        vertical-align: middle;\n",
       "    }\n",
       "\n",
       "    .dataframe tbody tr th {\n",
       "        vertical-align: top;\n",
       "    }\n",
       "\n",
       "    .dataframe thead th {\n",
       "        text-align: right;\n",
       "    }\n",
       "</style>\n",
       "<table border=\"1\" class=\"dataframe\">\n",
       "  <thead>\n",
       "    <tr style=\"text-align: right;\">\n",
       "      <th></th>\n",
       "      <th>Close_GSPC</th>\n",
       "      <th>High_GSPC</th>\n",
       "      <th>Low_GSPC</th>\n",
       "      <th>Open_GSPC</th>\n",
       "      <th>Volume_GSPC</th>\n",
       "      <th>DailyReturn</th>\n",
       "      <th>Sign_1d</th>\n",
       "      <th>Volume_change</th>\n",
       "      <th>Trading_range</th>\n",
       "      <th>Realized_Vol_5d</th>\n",
       "      <th>Realized_Vol_20d</th>\n",
       "      <th>ten_y_tnotes</th>\n",
       "      <th>three_months_tbills</th>\n",
       "      <th>Return_Lag1</th>\n",
       "    </tr>\n",
       "  </thead>\n",
       "  <tbody>\n",
       "    <tr>\n",
       "      <th>count</th>\n",
       "      <td>15215.000000</td>\n",
       "      <td>15215.000000</td>\n",
       "      <td>15215.000000</td>\n",
       "      <td>15215.000000</td>\n",
       "      <td>1.521500e+04</td>\n",
       "      <td>15215.000000</td>\n",
       "      <td>15215.000000</td>\n",
       "      <td>15215.000000</td>\n",
       "      <td>15215.000000</td>\n",
       "      <td>15215.000000</td>\n",
       "      <td>15215.000000</td>\n",
       "      <td>15215.000000</td>\n",
       "      <td>15215.000000</td>\n",
       "      <td>15215.000000</td>\n",
       "    </tr>\n",
       "    <tr>\n",
       "      <th>mean</th>\n",
       "      <td>878.858354</td>\n",
       "      <td>884.038934</td>\n",
       "      <td>872.996362</td>\n",
       "      <td>878.705486</td>\n",
       "      <td>1.339083e+09</td>\n",
       "      <td>0.000241</td>\n",
       "      <td>0.527309</td>\n",
       "      <td>0.001778</td>\n",
       "      <td>0.014044</td>\n",
       "      <td>0.132017</td>\n",
       "      <td>0.140714</td>\n",
       "      <td>5.894259</td>\n",
       "      <td>4.399006</td>\n",
       "      <td>0.000256</td>\n",
       "    </tr>\n",
       "    <tr>\n",
       "      <th>std</th>\n",
       "      <td>1006.923877</td>\n",
       "      <td>1012.553158</td>\n",
       "      <td>1000.592084</td>\n",
       "      <td>1006.857058</td>\n",
       "      <td>1.805761e+09</td>\n",
       "      <td>0.010474</td>\n",
       "      <td>0.499270</td>\n",
       "      <td>0.190905</td>\n",
       "      <td>0.008616</td>\n",
       "      <td>0.102531</td>\n",
       "      <td>0.088865</td>\n",
       "      <td>2.995187</td>\n",
       "      <td>3.235931</td>\n",
       "      <td>0.010476</td>\n",
       "    </tr>\n",
       "    <tr>\n",
       "      <th>min</th>\n",
       "      <td>52.320000</td>\n",
       "      <td>52.830002</td>\n",
       "      <td>51.349998</td>\n",
       "      <td>52.320000</td>\n",
       "      <td>1.950000e+06</td>\n",
       "      <td>-0.228997</td>\n",
       "      <td>0.000000</td>\n",
       "      <td>-3.226929</td>\n",
       "      <td>0.000000</td>\n",
       "      <td>0.006436</td>\n",
       "      <td>0.023793</td>\n",
       "      <td>0.484000</td>\n",
       "      <td>-0.108000</td>\n",
       "      <td>-0.228997</td>\n",
       "    </tr>\n",
       "    <tr>\n",
       "      <th>25%</th>\n",
       "      <td>103.849998</td>\n",
       "      <td>104.674999</td>\n",
       "      <td>103.024998</td>\n",
       "      <td>103.849998</td>\n",
       "      <td>2.290500e+07</td>\n",
       "      <td>-0.004348</td>\n",
       "      <td>0.000000</td>\n",
       "      <td>-0.094672</td>\n",
       "      <td>0.008250</td>\n",
       "      <td>0.072485</td>\n",
       "      <td>0.089429</td>\n",
       "      <td>3.855000</td>\n",
       "      <td>1.700000</td>\n",
       "      <td>-0.004327</td>\n",
       "    </tr>\n",
       "    <tr>\n",
       "      <th>50%</th>\n",
       "      <td>418.130005</td>\n",
       "      <td>419.709991</td>\n",
       "      <td>416.399994</td>\n",
       "      <td>417.980011</td>\n",
       "      <td>2.291400e+08</td>\n",
       "      <td>0.000427</td>\n",
       "      <td>1.000000</td>\n",
       "      <td>0.001082</td>\n",
       "      <td>0.012864</td>\n",
       "      <td>0.107967</td>\n",
       "      <td>0.118997</td>\n",
       "      <td>5.680000</td>\n",
       "      <td>4.560000</td>\n",
       "      <td>0.000429</td>\n",
       "    </tr>\n",
       "    <tr>\n",
       "      <th>75%</th>\n",
       "      <td>1296.859985</td>\n",
       "      <td>1304.934998</td>\n",
       "      <td>1287.034973</td>\n",
       "      <td>1296.929993</td>\n",
       "      <td>2.783700e+09</td>\n",
       "      <td>0.005175</td>\n",
       "      <td>1.000000</td>\n",
       "      <td>0.100345</td>\n",
       "      <td>0.017635</td>\n",
       "      <td>0.161888</td>\n",
       "      <td>0.166139</td>\n",
       "      <td>7.650000</td>\n",
       "      <td>6.080000</td>\n",
       "      <td>0.005183</td>\n",
       "    </tr>\n",
       "    <tr>\n",
       "      <th>max</th>\n",
       "      <td>4796.560059</td>\n",
       "      <td>4818.620117</td>\n",
       "      <td>4780.040039</td>\n",
       "      <td>4804.509766</td>\n",
       "      <td>1.145623e+10</td>\n",
       "      <td>0.109572</td>\n",
       "      <td>1.000000</td>\n",
       "      <td>3.314901</td>\n",
       "      <td>0.229042</td>\n",
       "      <td>1.959382</td>\n",
       "      <td>1.030605</td>\n",
       "      <td>15.840000</td>\n",
       "      <td>17.139999</td>\n",
       "      <td>0.109572</td>\n",
       "    </tr>\n",
       "  </tbody>\n",
       "</table>\n",
       "</div>"
      ],
      "text/plain": [
       "         Close_GSPC     High_GSPC      Low_GSPC     Open_GSPC   Volume_GSPC  \\\n",
       "count  15215.000000  15215.000000  15215.000000  15215.000000  1.521500e+04   \n",
       "mean     878.858354    884.038934    872.996362    878.705486  1.339083e+09   \n",
       "std     1006.923877   1012.553158   1000.592084   1006.857058  1.805761e+09   \n",
       "min       52.320000     52.830002     51.349998     52.320000  1.950000e+06   \n",
       "25%      103.849998    104.674999    103.024998    103.849998  2.290500e+07   \n",
       "50%      418.130005    419.709991    416.399994    417.980011  2.291400e+08   \n",
       "75%     1296.859985   1304.934998   1287.034973   1296.929993  2.783700e+09   \n",
       "max     4796.560059   4818.620117   4780.040039   4804.509766  1.145623e+10   \n",
       "\n",
       "        DailyReturn       Sign_1d  Volume_change  Trading_range  \\\n",
       "count  15215.000000  15215.000000   15215.000000   15215.000000   \n",
       "mean       0.000241      0.527309       0.001778       0.014044   \n",
       "std        0.010474      0.499270       0.190905       0.008616   \n",
       "min       -0.228997      0.000000      -3.226929       0.000000   \n",
       "25%       -0.004348      0.000000      -0.094672       0.008250   \n",
       "50%        0.000427      1.000000       0.001082       0.012864   \n",
       "75%        0.005175      1.000000       0.100345       0.017635   \n",
       "max        0.109572      1.000000       3.314901       0.229042   \n",
       "\n",
       "       Realized_Vol_5d  Realized_Vol_20d  ten_y_tnotes  three_months_tbills  \\\n",
       "count     15215.000000      15215.000000  15215.000000         15215.000000   \n",
       "mean          0.132017          0.140714      5.894259             4.399006   \n",
       "std           0.102531          0.088865      2.995187             3.235931   \n",
       "min           0.006436          0.023793      0.484000            -0.108000   \n",
       "25%           0.072485          0.089429      3.855000             1.700000   \n",
       "50%           0.107967          0.118997      5.680000             4.560000   \n",
       "75%           0.161888          0.166139      7.650000             6.080000   \n",
       "max           1.959382          1.030605     15.840000            17.139999   \n",
       "\n",
       "        Return_Lag1  \n",
       "count  15215.000000  \n",
       "mean       0.000256  \n",
       "std        0.010476  \n",
       "min       -0.228997  \n",
       "25%       -0.004327  \n",
       "50%        0.000429  \n",
       "75%        0.005183  \n",
       "max        0.109572  "
      ]
     },
     "execution_count": 282,
     "metadata": {},
     "output_type": "execute_result"
    }
   ],
   "source": [
    "data.to_csv(\"sp500_data_with_features.csv\")\n",
    "data.describe()"
   ]
  },
  {
   "cell_type": "code",
   "execution_count": 283,
   "id": "7ea9e899",
   "metadata": {},
   "outputs": [
    {
     "data": {
      "text/plain": [
       "array([[ 5.02524260e-02,  8.67831509e-02, -3.38154743e-03, ...,\n",
       "         1.51173165e-02,  4.11000013e+00,  2.67000008e+00],\n",
       "       [ 8.89344225e-02,  9.52937548e-02,  3.96850148e-03, ...,\n",
       "         1.41390534e-02,  4.09999990e+00,  2.73000002e+00],\n",
       "       [ 9.23065949e-02,  9.69014332e-02,  9.78035963e-03, ...,\n",
       "         1.57734835e-02,  4.09000015e+00,  2.69000006e+00],\n",
       "       ...,\n",
       "       [ 1.95436910e-01,  2.07382800e-01, -4.05784403e-03, ...,\n",
       "         1.77063619e-02,  3.81800008e+00,  4.33799982e+00],\n",
       "       [ 2.09568934e-01,  1.83736568e-01, -1.20934704e-02, ...,\n",
       "         1.37639095e-02,  3.86800003e+00,  4.33300018e+00],\n",
       "       [ 1.77321180e-01,  1.83585546e-01,  1.73106343e-02, ...,\n",
       "         1.03427692e-02,  3.86899996e+00,  4.29799986e+00]],\n",
       "      shape=(15215, 7))"
      ]
     },
     "execution_count": 283,
     "metadata": {},
     "output_type": "execute_result"
    }
   ],
   "source": [
    "features"
   ]
  },
  {
   "cell_type": "code",
   "execution_count": 284,
   "id": "1b2d0ec1",
   "metadata": {},
   "outputs": [],
   "source": [
    "# Create lagged feature matrix for LSTM\n",
    "def create_lagged_matrix_multifeature(X, window):\n",
    "    out = []\n",
    "    for i in range(window, len(X)):\n",
    "        out.append(X[i-window:i, :])\n",
    "    return np.array(out)\n",
    "\n",
    "X_lagged = create_lagged_matrix_multifeature(features, NUMBER_OF_LAGS)\n",
    "y_target = data['Sign_1d'].values[NUMBER_OF_LAGS:]"
   ]
  },
  {
   "cell_type": "code",
   "execution_count": 285,
   "id": "52431ba0",
   "metadata": {},
   "outputs": [],
   "source": [
    "# Split train/test\n",
    "X_train = X_lagged[:TRAIN_SIZE]\n",
    "y_train = y_target[:TRAIN_SIZE]\n",
    "X_test = X_lagged[TRAIN_SIZE:]\n",
    "y_test = y_target[TRAIN_SIZE:]\n",
    "\n",
    "# Convert to torch tensors\n",
    "X_train_t = torch.tensor(X_train, dtype=torch.float32)\n",
    "y_train_t = torch.tensor(y_train.reshape(-1, 1), dtype=torch.float32)\n",
    "X_test_t = torch.tensor(X_test, dtype=torch.float32)"
   ]
  },
  {
   "cell_type": "markdown",
   "id": "55862638",
   "metadata": {},
   "source": [
    "## Define LSTM Model"
   ]
  },
  {
   "cell_type": "code",
   "execution_count": 286,
   "id": "d6159de9",
   "metadata": {},
   "outputs": [],
   "source": [
    "class SimpleLSTM(nn.Module):\n",
    "    def __init__(self, input_dim=1, hidden_dim=16, num_layers=1, dropout=0.0):\n",
    "        super(SimpleLSTM, self).__init__()\n",
    "        self.lstm = nn.LSTM(input_dim, hidden_dim, num_layers, batch_first=True, dropout=0.0)\n",
    "        self.fc = nn.Linear(hidden_dim, 1)\n",
    "        self.sigmoid = nn.Sigmoid()\n",
    "    def forward(self, x):\n",
    "        out, _ = self.lstm(x)\n",
    "        out = out[:, -1, :]\n",
    "        out = self.fc(out)\n",
    "        return self.sigmoid(out)\n",
    "\n",
    "model = SimpleLSTM(input_dim=input_variables, hidden_dim=HIDDEN_DIM, num_layers=NUM_LAYERS, dropout=DROPOUT)\n",
    "optimizer = optim.Adam(model.parameters(), lr=3e-4)\n",
    "criterion = nn.BCELoss()"
   ]
  },
  {
   "cell_type": "code",
   "execution_count": 287,
   "id": "bb86a56e",
   "metadata": {},
   "outputs": [
    {
     "data": {
      "text/plain": [
       "SimpleLSTM(\n",
       "  (lstm): LSTM(7, 32, num_layers=3, batch_first=True)\n",
       "  (fc): Linear(in_features=32, out_features=1, bias=True)\n",
       "  (sigmoid): Sigmoid()\n",
       ")"
      ]
     },
     "execution_count": 287,
     "metadata": {},
     "output_type": "execute_result"
    }
   ],
   "source": [
    "model"
   ]
  },
  {
   "cell_type": "markdown",
   "id": "e1f0b773",
   "metadata": {},
   "source": [
    "## Model Training"
   ]
  },
  {
   "cell_type": "markdown",
   "id": "cd08cdf2",
   "metadata": {},
   "source": [
    "X_train_t contains batch size, sequence length (number of lags) and number of variables.\n",
    "Pytorch automatically calls forward()-method when input is given to the model."
   ]
  },
  {
   "cell_type": "code",
   "execution_count": 288,
   "id": "c5a311ed",
   "metadata": {},
   "outputs": [
    {
     "name": "stdout",
     "output_type": "stream",
     "text": [
      "Epoch 0: loss = 0.6928\n",
      "Epoch 10: loss = 0.6930\n",
      "Epoch 20: loss = 0.7004\n",
      "Epoch 30: loss = 0.6906\n",
      "Epoch 40: loss = 0.7016\n"
     ]
    }
   ],
   "source": [
    "train_dataset = TensorDataset(X_train_t, y_train_t)\n",
    "train_loader = DataLoader(train_dataset, batch_size=BATCH_SIZE, shuffle=True)\n",
    "\n",
    "model.train()\n",
    "for epoch in range(NUMBER_OF_EPOCHS):     # number of seeing the training data for learning parameters\n",
    "    for X_batch, y_batch in train_loader:\n",
    "        optimizer.zero_grad()\n",
    "        y_pred = model(X_batch)\n",
    "        loss = criterion(y_pred, y_batch)\n",
    "        loss.backward()\n",
    "        optimizer.step()\n",
    "    if epoch % 10 == 0:\n",
    "        print(f\"Epoch {epoch}: loss = {loss.item():.4f}\")"
   ]
  },
  {
   "cell_type": "markdown",
   "id": "8125a42c",
   "metadata": {},
   "source": [
    "### Out of sample Prediction"
   ]
  },
  {
   "cell_type": "code",
   "execution_count": null,
   "id": "0cff9edb",
   "metadata": {},
   "outputs": [],
   "source": [
    "model.eval()\n",
    "with torch.no_grad():\n",
    "    y_pred_test = model(X_test_t).squeeze().numpy()\n",
    "    y_pred_sign = (y_pred_test > CLASSIFICATION_THRESHOLD).astype(int)\n",
    "\n",
    "# --- Results ---\n",
    "results = pd.DataFrame({\n",
    "    'Actual_Sign': y_test,\n",
    "    'Predicted_Sign': y_pred_sign,\n",
    "    'Pos_probability': y_pred_test\n",
    "}, index=data.index[NUMBER_OF_LAGS+TRAIN_SIZE:])"
   ]
  },
  {
   "cell_type": "code",
   "execution_count": 290,
   "id": "90bdf812",
   "metadata": {},
   "outputs": [
    {
     "name": "stdout",
     "output_type": "stream",
     "text": [
      "Classification Report:\n",
      "              precision    recall  f1-score   support\n",
      "\n",
      "           0       0.48      0.11      0.18      4754\n",
      "           1       0.54      0.90      0.67      5441\n",
      "\n",
      "    accuracy                           0.53     10195\n",
      "   macro avg       0.51      0.50      0.43     10195\n",
      "weighted avg       0.51      0.53      0.44     10195\n",
      "\n",
      "Accuracy: 0.529573320255027\n"
     ]
    }
   ],
   "source": [
    "from sklearn.metrics import classification_report, accuracy_score\n",
    "\n",
    "# Classification report\n",
    "print(\"Classification Report:\")\n",
    "print(classification_report(results['Actual_Sign'], results['Predicted_Sign']))\n",
    "print(\"Accuracy:\", accuracy_score(results['Actual_Sign'], results['Predicted_Sign']))"
   ]
  },
  {
   "cell_type": "code",
   "execution_count": null,
   "id": "95fdfb04",
   "metadata": {},
   "outputs": [
    {
     "data": {
      "text/plain": [
       "Text(0.5, 1.0, 'Predicted Probability of Positive Return')"
      ]
     },
     "execution_count": 291,
     "metadata": {},
     "output_type": "execute_result"
    },
    {
     "data": {
      "image/png": "[encoded data removed]",
      "text/plain": [
       "<Figure size 640x480 with 1 Axes>"
      ]
     },
     "metadata": {},
     "output_type": "display_data"
    }
   ],
   "source": [
    "results[\"Pos_probability\"].plot()\n",
    "plt.title(\"Predicted Probability of Positive Return\")\n",
    "#plt.ylim(0, 1)"
   ]
  },
  {
   "cell_type": "markdown",
   "id": "8d2a1c45",
   "metadata": {},
   "source": [
    "# Forecast Volatility"
   ]
  },
  {
   "cell_type": "code",
   "execution_count": 292,
   "id": "c6d8c1e3",
   "metadata": {},
   "outputs": [],
   "source": [
    "# EWMA (RiskMetrics) one-step ahead forecasts (vectorized recursive)\n",
    "lam = 0.94\n",
    "rets = data['DailyReturn'].fillna(0).values\n",
    "sigma2 = np.zeros(len(rets))\n",
    "# init with sample variance of initial window\n",
    "init_w = 250\n",
    "sigma2[:init_w] = np.var(rets[:init_w])\n",
    "for t in range(init_w, len(rets)):\n",
    "    sigma2[t] = lam * sigma2[t-1] + (1 - lam) * rets[t-1]**2   # uses return at t-1 -> no look-ahead\n",
    "\n",
    "# one-day-ahead variance at time t is sigma2[t] (computed from returns up to t-1)\n",
    "ewma_vol = np.sqrt(sigma2) * np.sqrt(252)   # annualized\n",
    "data['EWMA_vol'] = ewma_vol\n",
    "data['RiskMetrics_vol_forecast'] = data['EWMA_vol'].shift(1)\n",
    "data.drop(columns=['EWMA_vol'], inplace=True)  # drop unshifted version"
   ]
  },
  {
   "cell_type": "markdown",
   "id": "2aa1be85",
   "metadata": {},
   "source": [
    "# Bringing two forecasts together to predict stock price"
   ]
  },
  {
   "cell_type": "code",
   "execution_count": 294,
   "id": "6ad6f0a9",
   "metadata": {},
   "outputs": [
    {
     "data": {
      "text/html": [
       "<div>\n",
       "<style scoped>\n",
       "    .dataframe tbody tr th:only-of-type {\n",
       "        vertical-align: middle;\n",
       "    }\n",
       "\n",
       "    .dataframe tbody tr th {\n",
       "        vertical-align: top;\n",
       "    }\n",
       "\n",
       "    .dataframe thead th {\n",
       "        text-align: right;\n",
       "    }\n",
       "</style>\n",
       "<table border=\"1\" class=\"dataframe\">\n",
       "  <thead>\n",
       "    <tr style=\"text-align: right;\">\n",
       "      <th></th>\n",
       "      <th>Actual_Sign</th>\n",
       "      <th>Predicted_Sign</th>\n",
       "      <th>Probability</th>\n",
       "      <th>RiskMetrics_vol_forecast</th>\n",
       "      <th>Daily_Return_S&amp;P500</th>\n",
       "      <th>Close_S&amp;P500</th>\n",
       "    </tr>\n",
       "    <tr>\n",
       "      <th>Date</th>\n",
       "      <th></th>\n",
       "      <th></th>\n",
       "      <th></th>\n",
       "      <th></th>\n",
       "      <th></th>\n",
       "      <th></th>\n",
       "    </tr>\n",
       "  </thead>\n",
       "  <tbody>\n",
       "    <tr>\n",
       "      <th>1982-05-06</th>\n",
       "      <td>1</td>\n",
       "      <td>0</td>\n",
       "      <td>0.490609</td>\n",
       "      <td>0.121222</td>\n",
       "      <td>0.008547</td>\n",
       "      <td>118.680000</td>\n",
       "    </tr>\n",
       "    <tr>\n",
       "      <th>1982-05-07</th>\n",
       "      <td>1</td>\n",
       "      <td>0</td>\n",
       "      <td>0.490801</td>\n",
       "      <td>0.117734</td>\n",
       "      <td>0.006635</td>\n",
       "      <td>119.470001</td>\n",
       "    </tr>\n",
       "    <tr>\n",
       "      <th>1982-05-10</th>\n",
       "      <td>0</td>\n",
       "      <td>0</td>\n",
       "      <td>0.490958</td>\n",
       "      <td>0.118887</td>\n",
       "      <td>-0.009166</td>\n",
       "      <td>118.379997</td>\n",
       "    </tr>\n",
       "    <tr>\n",
       "      <th>1982-05-11</th>\n",
       "      <td>1</td>\n",
       "      <td>0</td>\n",
       "      <td>0.490855</td>\n",
       "      <td>0.118117</td>\n",
       "      <td>0.008747</td>\n",
       "      <td>119.419998</td>\n",
       "    </tr>\n",
       "    <tr>\n",
       "      <th>1982-05-12</th>\n",
       "      <td>0</td>\n",
       "      <td>0</td>\n",
       "      <td>0.490905</td>\n",
       "      <td>0.119936</td>\n",
       "      <td>-0.002096</td>\n",
       "      <td>119.169998</td>\n",
       "    </tr>\n",
       "    <tr>\n",
       "      <th>...</th>\n",
       "      <td>...</td>\n",
       "      <td>...</td>\n",
       "      <td>...</td>\n",
       "      <td>...</td>\n",
       "      <td>...</td>\n",
       "      <td>...</td>\n",
       "    </tr>\n",
       "    <tr>\n",
       "      <th>2022-12-23</th>\n",
       "      <td>1</td>\n",
       "      <td>1</td>\n",
       "      <td>0.532583</td>\n",
       "      <td>0.220183</td>\n",
       "      <td>0.005851</td>\n",
       "      <td>3844.820068</td>\n",
       "    </tr>\n",
       "    <tr>\n",
       "      <th>2022-12-27</th>\n",
       "      <td>0</td>\n",
       "      <td>1</td>\n",
       "      <td>0.532203</td>\n",
       "      <td>0.220852</td>\n",
       "      <td>-0.004058</td>\n",
       "      <td>3829.250000</td>\n",
       "    </tr>\n",
       "    <tr>\n",
       "      <th>2022-12-28</th>\n",
       "      <td>0</td>\n",
       "      <td>1</td>\n",
       "      <td>0.531474</td>\n",
       "      <td>0.215329</td>\n",
       "      <td>-0.012093</td>\n",
       "      <td>3783.219971</td>\n",
       "    </tr>\n",
       "    <tr>\n",
       "      <th>2022-12-29</th>\n",
       "      <td>1</td>\n",
       "      <td>1</td>\n",
       "      <td>0.531207</td>\n",
       "      <td>0.209365</td>\n",
       "      <td>0.017311</td>\n",
       "      <td>3849.280029</td>\n",
       "    </tr>\n",
       "    <tr>\n",
       "      <th>2022-12-30</th>\n",
       "      <td>0</td>\n",
       "      <td>1</td>\n",
       "      <td>0.530708</td>\n",
       "      <td>0.208363</td>\n",
       "      <td>-0.002544</td>\n",
       "      <td>3839.500000</td>\n",
       "    </tr>\n",
       "  </tbody>\n",
       "</table>\n",
       "<p>10195 rows × 6 columns</p>\n",
       "</div>"
      ],
      "text/plain": [
       "            Actual_Sign  Predicted_Sign  Probability  \\\n",
       "Date                                                   \n",
       "1982-05-06            1               0     0.490609   \n",
       "1982-05-07            1               0     0.490801   \n",
       "1982-05-10            0               0     0.490958   \n",
       "1982-05-11            1               0     0.490855   \n",
       "1982-05-12            0               0     0.490905   \n",
       "...                 ...             ...          ...   \n",
       "2022-12-23            1               1     0.532583   \n",
       "2022-12-27            0               1     0.532203   \n",
       "2022-12-28            0               1     0.531474   \n",
       "2022-12-29            1               1     0.531207   \n",
       "2022-12-30            0               1     0.530708   \n",
       "\n",
       "            RiskMetrics_vol_forecast  Daily_Return_S&P500  Close_S&P500  \n",
       "Date                                                                     \n",
       "1982-05-06                  0.121222             0.008547    118.680000  \n",
       "1982-05-07                  0.117734             0.006635    119.470001  \n",
       "1982-05-10                  0.118887            -0.009166    118.379997  \n",
       "1982-05-11                  0.118117             0.008747    119.419998  \n",
       "1982-05-12                  0.119936            -0.002096    119.169998  \n",
       "...                              ...                  ...           ...  \n",
       "2022-12-23                  0.220183             0.005851   3844.820068  \n",
       "2022-12-27                  0.220852            -0.004058   3829.250000  \n",
       "2022-12-28                  0.215329            -0.012093   3783.219971  \n",
       "2022-12-29                  0.209365             0.017311   3849.280029  \n",
       "2022-12-30                  0.208363            -0.002544   3839.500000  \n",
       "\n",
       "[10195 rows x 6 columns]"
      ]
     },
     "execution_count": 294,
     "metadata": {},
     "output_type": "execute_result"
    }
   ],
   "source": [
    "results['RiskMetrics_vol_forecast'] = data['RiskMetrics_vol_forecast']\n",
    "results['Daily_Return_S&P500'] = data['DailyReturn']\n",
    "results['Close_S&P500'] = data['Close_GSPC']\n",
    "results"
   ]
  },
  {
   "cell_type": "markdown",
   "id": "dee9269b",
   "metadata": {},
   "source": [
    "## S&P500 forecasts\n",
    "\n",
    "### Simple/Naive model\n",
    "Use model of the form: (2*p - 1) * sigma * k where k is a calibration constant to scale returns"
   ]
  },
  {
   "cell_type": "code",
   "execution_count": 295,
   "id": "176748b0",
   "metadata": {},
   "outputs": [],
   "source": [
    "from sklearn.linear_model import LinearRegression"
   ]
  },
  {
   "cell_type": "code",
   "execution_count": null,
   "id": "0ccfece2",
   "metadata": {},
   "outputs": [
    {
     "name": "stdout",
     "output_type": "stream",
     "text": [
      "Estimated k: -0.01895123659809835\n"
     ]
    }
   ],
   "source": [
    "# estimate k\n",
    "results['Signal'] = (2 * results['Pos_probability'] - 1)\n",
    "results['expected_signed_volatility'] = results['Signal'] * results['RiskMetrics_vol_forecast']\n",
    "\n",
    "training_size = int(0.8 * len(results))\n",
    "\n",
    "X = results[['expected_signed_volatility']]\n",
    "y = results['Daily_Return_S&P500']\n",
    "\n",
    "X_train = X[:training_size]\n",
    "y_train = y[:training_size]\n",
    "X_test = X[training_size:]\n",
    "y_test = y[training_size:]\n",
    "\n",
    "model = LinearRegression()\n",
    "model.fit(X_train, y_train)\n",
    "k = model.coef_[0]\n",
    "print(\"Estimated k:\", k)"
   ]
  },
  {
   "cell_type": "markdown",
   "id": "0a4801c8",
   "metadata": {},
   "source": [
    "k should not be negative 😅"
   ]
  },
  {
   "cell_type": "code",
   "execution_count": 297,
   "id": "b54b6ba1",
   "metadata": {},
   "outputs": [
    {
     "name": "stderr",
     "output_type": "stream",
     "text": [
      "C:\\Users\\jdobe\\AppData\\Local\\Temp\\ipykernel_16912\\2909796926.py:4: SettingWithCopyWarning: \n",
      "A value is trying to be set on a copy of a slice from a DataFrame.\n",
      "Try using .loc[row_indexer,col_indexer] = value instead\n",
      "\n",
      "See the caveats in the documentation: https://pandas.pydata.org/pandas-docs/stable/user_guide/indexing.html#returning-a-view-versus-a-copy\n",
      "  results['Return_Hat'] = return_hat\n",
      "C:\\Users\\jdobe\\AppData\\Local\\Temp\\ipykernel_16912\\2909796926.py:5: SettingWithCopyWarning: \n",
      "A value is trying to be set on a copy of a slice from a DataFrame.\n",
      "Try using .loc[row_indexer,col_indexer] = value instead\n",
      "\n",
      "See the caveats in the documentation: https://pandas.pydata.org/pandas-docs/stable/user_guide/indexing.html#returning-a-view-versus-a-copy\n",
      "  results[\"predicted Close\"] = np.exp(np.log(results['Close_S&P500'].shift(1)) + results['Return_Hat'])\n"
     ]
    },
    {
     "data": {
      "text/html": [
       "<div>\n",
       "<style scoped>\n",
       "    .dataframe tbody tr th:only-of-type {\n",
       "        vertical-align: middle;\n",
       "    }\n",
       "\n",
       "    .dataframe tbody tr th {\n",
       "        vertical-align: top;\n",
       "    }\n",
       "\n",
       "    .dataframe thead th {\n",
       "        text-align: right;\n",
       "    }\n",
       "</style>\n",
       "<table border=\"1\" class=\"dataframe\">\n",
       "  <thead>\n",
       "    <tr style=\"text-align: right;\">\n",
       "      <th></th>\n",
       "      <th>Actual_Sign</th>\n",
       "      <th>Predicted_Sign</th>\n",
       "      <th>Probability</th>\n",
       "      <th>RiskMetrics_vol_forecast</th>\n",
       "      <th>Daily_Return_S&amp;P500</th>\n",
       "      <th>Close_S&amp;P500</th>\n",
       "      <th>Signal</th>\n",
       "      <th>expected_signed_volatility</th>\n",
       "      <th>Return_Hat</th>\n",
       "      <th>predicted Close</th>\n",
       "    </tr>\n",
       "    <tr>\n",
       "      <th>Date</th>\n",
       "      <th></th>\n",
       "      <th></th>\n",
       "      <th></th>\n",
       "      <th></th>\n",
       "      <th></th>\n",
       "      <th></th>\n",
       "      <th></th>\n",
       "      <th></th>\n",
       "      <th></th>\n",
       "      <th></th>\n",
       "    </tr>\n",
       "  </thead>\n",
       "  <tbody>\n",
       "    <tr>\n",
       "      <th>2014-11-24</th>\n",
       "      <td>1</td>\n",
       "      <td>1</td>\n",
       "      <td>0.523400</td>\n",
       "      <td>0.105934</td>\n",
       "      <td>0.002860</td>\n",
       "      <td>2069.409912</td>\n",
       "      <td>0.046800</td>\n",
       "      <td>0.004958</td>\n",
       "      <td>-0.000094</td>\n",
       "      <td>NaN</td>\n",
       "    </tr>\n",
       "    <tr>\n",
       "      <th>2014-11-25</th>\n",
       "      <td>0</td>\n",
       "      <td>1</td>\n",
       "      <td>0.523423</td>\n",
       "      <td>0.104695</td>\n",
       "      <td>-0.001151</td>\n",
       "      <td>2067.030029</td>\n",
       "      <td>0.046847</td>\n",
       "      <td>0.004905</td>\n",
       "      <td>-0.000093</td>\n",
       "      <td>2069.217571</td>\n",
       "    </tr>\n",
       "    <tr>\n",
       "      <th>2014-11-26</th>\n",
       "      <td>1</td>\n",
       "      <td>1</td>\n",
       "      <td>0.523450</td>\n",
       "      <td>0.102113</td>\n",
       "      <td>0.002802</td>\n",
       "      <td>2072.830078</td>\n",
       "      <td>0.046899</td>\n",
       "      <td>0.004789</td>\n",
       "      <td>-0.000091</td>\n",
       "      <td>2066.842438</td>\n",
       "    </tr>\n",
       "    <tr>\n",
       "      <th>2014-11-28</th>\n",
       "      <td>0</td>\n",
       "      <td>1</td>\n",
       "      <td>0.523406</td>\n",
       "      <td>0.099104</td>\n",
       "      <td>-0.002546</td>\n",
       "      <td>2067.560059</td>\n",
       "      <td>0.046811</td>\n",
       "      <td>0.004639</td>\n",
       "      <td>-0.000088</td>\n",
       "      <td>2072.647846</td>\n",
       "    </tr>\n",
       "    <tr>\n",
       "      <th>2014-12-01</th>\n",
       "      <td>0</td>\n",
       "      <td>1</td>\n",
       "      <td>0.523328</td>\n",
       "      <td>0.096700</td>\n",
       "      <td>-0.006853</td>\n",
       "      <td>2053.439941</td>\n",
       "      <td>0.046657</td>\n",
       "      <td>0.004512</td>\n",
       "      <td>-0.000086</td>\n",
       "      <td>2067.383284</td>\n",
       "    </tr>\n",
       "    <tr>\n",
       "      <th>...</th>\n",
       "      <td>...</td>\n",
       "      <td>...</td>\n",
       "      <td>...</td>\n",
       "      <td>...</td>\n",
       "      <td>...</td>\n",
       "      <td>...</td>\n",
       "      <td>...</td>\n",
       "      <td>...</td>\n",
       "      <td>...</td>\n",
       "      <td>...</td>\n",
       "    </tr>\n",
       "    <tr>\n",
       "      <th>2022-12-23</th>\n",
       "      <td>1</td>\n",
       "      <td>1</td>\n",
       "      <td>0.532583</td>\n",
       "      <td>0.220183</td>\n",
       "      <td>0.005851</td>\n",
       "      <td>3844.820068</td>\n",
       "      <td>0.065166</td>\n",
       "      <td>0.014348</td>\n",
       "      <td>-0.000272</td>\n",
       "      <td>3821.350646</td>\n",
       "    </tr>\n",
       "    <tr>\n",
       "      <th>2022-12-27</th>\n",
       "      <td>0</td>\n",
       "      <td>1</td>\n",
       "      <td>0.532203</td>\n",
       "      <td>0.220852</td>\n",
       "      <td>-0.004058</td>\n",
       "      <td>3829.250000</td>\n",
       "      <td>0.064407</td>\n",
       "      <td>0.014224</td>\n",
       "      <td>-0.000270</td>\n",
       "      <td>3843.783766</td>\n",
       "    </tr>\n",
       "    <tr>\n",
       "      <th>2022-12-28</th>\n",
       "      <td>0</td>\n",
       "      <td>1</td>\n",
       "      <td>0.531474</td>\n",
       "      <td>0.215329</td>\n",
       "      <td>-0.012093</td>\n",
       "      <td>3783.219971</td>\n",
       "      <td>0.062947</td>\n",
       "      <td>0.013554</td>\n",
       "      <td>-0.000257</td>\n",
       "      <td>3828.266495</td>\n",
       "    </tr>\n",
       "    <tr>\n",
       "      <th>2022-12-29</th>\n",
       "      <td>1</td>\n",
       "      <td>1</td>\n",
       "      <td>0.531207</td>\n",
       "      <td>0.209365</td>\n",
       "      <td>0.017311</td>\n",
       "      <td>3849.280029</td>\n",
       "      <td>0.062414</td>\n",
       "      <td>0.013067</td>\n",
       "      <td>-0.000248</td>\n",
       "      <td>3782.283205</td>\n",
       "    </tr>\n",
       "    <tr>\n",
       "      <th>2022-12-30</th>\n",
       "      <td>0</td>\n",
       "      <td>1</td>\n",
       "      <td>0.530708</td>\n",
       "      <td>0.208363</td>\n",
       "      <td>-0.002544</td>\n",
       "      <td>3839.500000</td>\n",
       "      <td>0.061415</td>\n",
       "      <td>0.012797</td>\n",
       "      <td>-0.000243</td>\n",
       "      <td>3848.346642</td>\n",
       "    </tr>\n",
       "  </tbody>\n",
       "</table>\n",
       "<p>2039 rows × 10 columns</p>\n",
       "</div>"
      ],
      "text/plain": [
       "            Actual_Sign  Predicted_Sign  Probability  \\\n",
       "Date                                                   \n",
       "2014-11-24            1               1     0.523400   \n",
       "2014-11-25            0               1     0.523423   \n",
       "2014-11-26            1               1     0.523450   \n",
       "2014-11-28            0               1     0.523406   \n",
       "2014-12-01            0               1     0.523328   \n",
       "...                 ...             ...          ...   \n",
       "2022-12-23            1               1     0.532583   \n",
       "2022-12-27            0               1     0.532203   \n",
       "2022-12-28            0               1     0.531474   \n",
       "2022-12-29            1               1     0.531207   \n",
       "2022-12-30            0               1     0.530708   \n",
       "\n",
       "            RiskMetrics_vol_forecast  Daily_Return_S&P500  Close_S&P500  \\\n",
       "Date                                                                      \n",
       "2014-11-24                  0.105934             0.002860   2069.409912   \n",
       "2014-11-25                  0.104695            -0.001151   2067.030029   \n",
       "2014-11-26                  0.102113             0.002802   2072.830078   \n",
       "2014-11-28                  0.099104            -0.002546   2067.560059   \n",
       "2014-12-01                  0.096700            -0.006853   2053.439941   \n",
       "...                              ...                  ...           ...   \n",
       "2022-12-23                  0.220183             0.005851   3844.820068   \n",
       "2022-12-27                  0.220852            -0.004058   3829.250000   \n",
       "2022-12-28                  0.215329            -0.012093   3783.219971   \n",
       "2022-12-29                  0.209365             0.017311   3849.280029   \n",
       "2022-12-30                  0.208363            -0.002544   3839.500000   \n",
       "\n",
       "              Signal  expected_signed_volatility  Return_Hat  predicted Close  \n",
       "Date                                                                           \n",
       "2014-11-24  0.046800                    0.004958   -0.000094              NaN  \n",
       "2014-11-25  0.046847                    0.004905   -0.000093      2069.217571  \n",
       "2014-11-26  0.046899                    0.004789   -0.000091      2066.842438  \n",
       "2014-11-28  0.046811                    0.004639   -0.000088      2072.647846  \n",
       "2014-12-01  0.046657                    0.004512   -0.000086      2067.383284  \n",
       "...              ...                         ...         ...              ...  \n",
       "2022-12-23  0.065166                    0.014348   -0.000272      3821.350646  \n",
       "2022-12-27  0.064407                    0.014224   -0.000270      3843.783766  \n",
       "2022-12-28  0.062947                    0.013554   -0.000257      3828.266495  \n",
       "2022-12-29  0.062414                    0.013067   -0.000248      3782.283205  \n",
       "2022-12-30  0.061415                    0.012797   -0.000243      3848.346642  \n",
       "\n",
       "[2039 rows x 10 columns]"
      ]
     },
     "execution_count": 297,
     "metadata": {},
     "output_type": "execute_result"
    }
   ],
   "source": [
    "full_results = results.copy()\n",
    "results = results.iloc[training_size:]\n",
    "return_hat = results['expected_signed_volatility'] * k\n",
    "results['Return_Hat'] = return_hat\n",
    "results[\"predicted Close\"] = np.exp(np.log(results['Close_S&P500'].shift(1)) + results['Return_Hat'])\n",
    "results"
   ]
  },
  {
   "cell_type": "code",
   "execution_count": 298,
   "id": "b4597de5",
   "metadata": {},
   "outputs": [
    {
     "name": "stdout",
     "output_type": "stream",
     "text": [
      "Mean Squared Error of Return Prediction: 0.00014159184744990836\n"
     ]
    }
   ],
   "source": [
    "# evaluate predicted return vs actual return\n",
    "from sklearn.metrics import mean_squared_error\n",
    "mse = mean_squared_error(results['Daily_Return_S&P500'], results['Return_Hat'])\n",
    "print(\"Mean Squared Error of Return Prediction:\", mse)"
   ]
  },
  {
   "cell_type": "code",
   "execution_count": 299,
   "id": "b51ae6aa",
   "metadata": {},
   "outputs": [
    {
     "name": "stdout",
     "output_type": "stream",
     "text": [
      "Mean Squared Error of Price Prediction: 1346.9310406543136\n"
     ]
    }
   ],
   "source": [
    "# evaluated predicted price vs actual price\n",
    "results = results.dropna()\n",
    "mse_price = mean_squared_error(results['Close_S&P500'], results['predicted Close'])\n",
    "print(\"Mean Squared Error of Price Prediction:\", mse_price)"
   ]
  },
  {
   "cell_type": "markdown",
   "id": "5e58141f",
   "metadata": {},
   "source": [
    "### Sophisticated Approach: Another NN for Return Prediction"
   ]
  },
  {
   "cell_type": "code",
   "execution_count": null,
   "id": "6a6e6f54",
   "metadata": {},
   "outputs": [],
   "source": [
    "y = full_results[\"Daily_Return_S&P500\"]\n",
    "X = full_results[[\"Pos_probability\", \"RiskMetrics_vol_forecast\"]]"
   ]
  },
  {
   "cell_type": "code",
   "execution_count": 301,
   "id": "7ecd6f18",
   "metadata": {},
   "outputs": [],
   "source": [
    "# Training and test set split\n",
    "training_size = int(0.8 * len(full_results))\n",
    "X_train = X[:training_size]\n",
    "y_train = y[:training_size]\n",
    "X_test = X[training_size:]\n",
    "y_test = y[training_size:]\n",
    "\n",
    "# transform to tensors\n",
    "X_train_t = torch.tensor(X_train.values, dtype=torch.float32).unsqueeze(1)\n",
    "y_train_t = torch.tensor(y_train.values.reshape(-1, 1), dtype=torch.float32)\n",
    "X_test_t = torch.tensor(X_test.values, dtype=torch.float32).unsqueeze(1)        "
   ]
  },
  {
   "cell_type": "code",
   "execution_count": 302,
   "id": "9f04bd5e",
   "metadata": {},
   "outputs": [],
   "source": [
    "class ReturnGRU(nn.Module):\n",
    "    def __init__(self, input_dim=1, hidden_dim=16, num_layers=1, dropout=0.0):\n",
    "        super(ReturnGRU, self).__init__()\n",
    "        self.gru = nn.GRU(input_dim, hidden_dim, num_layers, batch_first=True, dropout=dropout)\n",
    "        self.fc = nn.Linear(hidden_dim, 1)\n",
    "    def forward(self, x):\n",
    "        out, _ = self.gru(x)\n",
    "        out = out[:, -1, :]\n",
    "        out = self.fc(out)\n",
    "        return out\n",
    "\n",
    "hidden_dim = 16\n",
    "num_layers = 1\n",
    "dropout = 0.0\n",
    "\n",
    "model = ReturnGRU(input_dim=X.shape[1], hidden_dim=hidden_dim, num_layers=num_layers, dropout=dropout)\n",
    "optimizer = optim.Adam(model.parameters(), lr=3e-4)\n",
    "criterion = nn.MSELoss()\n",
    "batch_size = 32\n",
    "num_epochs = 30\n",
    "train_dataset = TensorDataset(X_train_t, y_train_t)\n",
    "train_loader = DataLoader(train_dataset, batch_size=batch_size, shuffle=True)\n"
   ]
  },
  {
   "cell_type": "code",
   "execution_count": 303,
   "id": "2b1a60a5",
   "metadata": {},
   "outputs": [
    {
     "name": "stdout",
     "output_type": "stream",
     "text": [
      "Epoch 0: loss = 0.000149\n",
      "Epoch 10: loss = 0.000029\n",
      "Epoch 20: loss = 0.000086\n",
      "Epoch 30: loss = 0.000093\n"
     ]
    }
   ],
   "source": [
    "model.train()\n",
    "for epoch in range(num_epochs+1):\n",
    "    for X_batch, y_batch in train_loader:\n",
    "        optimizer.zero_grad()\n",
    "        y_pred = model(X_batch)\n",
    "        loss = criterion(y_pred, y_batch)\n",
    "        loss.backward()\n",
    "        optimizer.step()\n",
    "    if epoch % 10 == 0:\n",
    "        print(f\"Epoch {epoch}: loss = {loss.item():.6f}\")\n"
   ]
  },
  {
   "cell_type": "code",
   "execution_count": 304,
   "id": "b996e193",
   "metadata": {},
   "outputs": [
    {
     "name": "stdout",
     "output_type": "stream",
     "text": [
      "Mean Squared Error of Return Prediction (GRU): 0.00014135524120845497\n"
     ]
    }
   ],
   "source": [
    "model.eval()\n",
    "with torch.no_grad():\n",
    "    y_pred_test = model(X_test_t).squeeze().numpy()\n",
    "return_results = pd.DataFrame({\n",
    "    'Actual_Return': y_test,\n",
    "    'Predicted_Return': y_pred_test\n",
    "})\n",
    "\n",
    "mse = mean_squared_error(return_results['Actual_Return'], return_results['Predicted_Return'])\n",
    "print(\"Mean Squared Error of Return Prediction (GRU):\", mse)\n"
   ]
  },
  {
   "cell_type": "code",
   "execution_count": 305,
   "id": "44ae4f8f",
   "metadata": {},
   "outputs": [
    {
     "data": {
      "text/html": [
       "<div>\n",
       "<style scoped>\n",
       "    .dataframe tbody tr th:only-of-type {\n",
       "        vertical-align: middle;\n",
       "    }\n",
       "\n",
       "    .dataframe tbody tr th {\n",
       "        vertical-align: top;\n",
       "    }\n",
       "\n",
       "    .dataframe thead th {\n",
       "        text-align: right;\n",
       "    }\n",
       "</style>\n",
       "<table border=\"1\" class=\"dataframe\">\n",
       "  <thead>\n",
       "    <tr style=\"text-align: right;\">\n",
       "      <th></th>\n",
       "      <th>Actual_Return</th>\n",
       "      <th>Predicted_Return</th>\n",
       "      <th>Close_S&amp;P500</th>\n",
       "      <th>Predicted_Close</th>\n",
       "    </tr>\n",
       "    <tr>\n",
       "      <th>Date</th>\n",
       "      <th></th>\n",
       "      <th></th>\n",
       "      <th></th>\n",
       "      <th></th>\n",
       "    </tr>\n",
       "  </thead>\n",
       "  <tbody>\n",
       "    <tr>\n",
       "      <th>2014-11-24</th>\n",
       "      <td>0.002860</td>\n",
       "      <td>0.000590</td>\n",
       "      <td>2069.409912</td>\n",
       "      <td>NaN</td>\n",
       "    </tr>\n",
       "    <tr>\n",
       "      <th>2014-11-25</th>\n",
       "      <td>-0.001151</td>\n",
       "      <td>0.000592</td>\n",
       "      <td>2067.030029</td>\n",
       "      <td>2070.634742</td>\n",
       "    </tr>\n",
       "    <tr>\n",
       "      <th>2014-11-26</th>\n",
       "      <td>0.002802</td>\n",
       "      <td>0.000597</td>\n",
       "      <td>2072.830078</td>\n",
       "      <td>2068.264130</td>\n",
       "    </tr>\n",
       "    <tr>\n",
       "      <th>2014-11-28</th>\n",
       "      <td>-0.002546</td>\n",
       "      <td>0.000605</td>\n",
       "      <td>2067.560059</td>\n",
       "      <td>2074.084068</td>\n",
       "    </tr>\n",
       "    <tr>\n",
       "      <th>2014-12-01</th>\n",
       "      <td>-0.006853</td>\n",
       "      <td>0.000612</td>\n",
       "      <td>2053.439941</td>\n",
       "      <td>2068.826197</td>\n",
       "    </tr>\n",
       "    <tr>\n",
       "      <th>...</th>\n",
       "      <td>...</td>\n",
       "      <td>...</td>\n",
       "      <td>...</td>\n",
       "      <td>...</td>\n",
       "    </tr>\n",
       "    <tr>\n",
       "      <th>2022-12-23</th>\n",
       "      <td>0.005851</td>\n",
       "      <td>0.000160</td>\n",
       "      <td>3844.820068</td>\n",
       "      <td>3823.002155</td>\n",
       "    </tr>\n",
       "    <tr>\n",
       "      <th>2022-12-27</th>\n",
       "      <td>-0.004058</td>\n",
       "      <td>0.000168</td>\n",
       "      <td>3829.250000</td>\n",
       "      <td>3845.467569</td>\n",
       "    </tr>\n",
       "    <tr>\n",
       "      <th>2022-12-28</th>\n",
       "      <td>-0.012093</td>\n",
       "      <td>0.000194</td>\n",
       "      <td>3783.219971</td>\n",
       "      <td>3829.991484</td>\n",
       "    </tr>\n",
       "    <tr>\n",
       "      <th>2022-12-29</th>\n",
       "      <td>0.017311</td>\n",
       "      <td>0.000209</td>\n",
       "      <td>3849.280029</td>\n",
       "      <td>3784.009111</td>\n",
       "    </tr>\n",
       "    <tr>\n",
       "      <th>2022-12-30</th>\n",
       "      <td>-0.002544</td>\n",
       "      <td>0.000222</td>\n",
       "      <td>3839.500000</td>\n",
       "      <td>3850.134956</td>\n",
       "    </tr>\n",
       "  </tbody>\n",
       "</table>\n",
       "<p>2039 rows × 4 columns</p>\n",
       "</div>"
      ],
      "text/plain": [
       "            Actual_Return  Predicted_Return  Close_S&P500  Predicted_Close\n",
       "Date                                                                      \n",
       "2014-11-24       0.002860          0.000590   2069.409912              NaN\n",
       "2014-11-25      -0.001151          0.000592   2067.030029      2070.634742\n",
       "2014-11-26       0.002802          0.000597   2072.830078      2068.264130\n",
       "2014-11-28      -0.002546          0.000605   2067.560059      2074.084068\n",
       "2014-12-01      -0.006853          0.000612   2053.439941      2068.826197\n",
       "...                   ...               ...           ...              ...\n",
       "2022-12-23       0.005851          0.000160   3844.820068      3823.002155\n",
       "2022-12-27      -0.004058          0.000168   3829.250000      3845.467569\n",
       "2022-12-28      -0.012093          0.000194   3783.219971      3829.991484\n",
       "2022-12-29       0.017311          0.000209   3849.280029      3784.009111\n",
       "2022-12-30      -0.002544          0.000222   3839.500000      3850.134956\n",
       "\n",
       "[2039 rows x 4 columns]"
      ]
     },
     "execution_count": 305,
     "metadata": {},
     "output_type": "execute_result"
    }
   ],
   "source": [
    "return_results['Close_S&P500'] = full_results['Close_S&P500'].iloc[training_size:].values\n",
    "return_results[\"Predicted_Close\"] = np.exp(np.log(return_results['Close_S&P500'].shift(1)) + return_results['Predicted_Return'])\n",
    "return_results "
   ]
  },
  {
   "cell_type": "code",
   "execution_count": 306,
   "id": "f865b588",
   "metadata": {},
   "outputs": [
    {
     "name": "stdout",
     "output_type": "stream",
     "text": [
      "Mean Squared Error of Price Prediction (GRU): 1345.653382479582\n"
     ]
    }
   ],
   "source": [
    "return_results.dropna(inplace=True)\n",
    "mse_price = mean_squared_error(return_results['Close_S&P500'], return_results['Predicted_Close'])\n",
    "print(\"Mean Squared Error of Price Prediction (GRU):\", mse_price)"
   ]
  }
 ],
 "metadata": {
  "kernelspec": {
   "display_name": "Python 3",
   "language": "python",
   "name": "python3"
  },
  "language_info": {
   "codemirror_mode": {
    "name": "ipython",
    "version": 3
   },
   "file_extension": ".py",
   "mimetype": "text/x-python",
   "name": "python",
   "nbconvert_exporter": "python",
   "pygments_lexer": "ipython3",
   "version": "3.11.9"
  }
 },
 "nbformat": 4,
 "nbformat_minor": 5
}
