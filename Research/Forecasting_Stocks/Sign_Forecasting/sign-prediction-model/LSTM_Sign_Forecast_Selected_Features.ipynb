{
 "cells": [
  {
   "cell_type": "code",
   "execution_count": 592,
   "id": "e9d93d47",
   "metadata": {},
   "outputs": [],
   "source": [
    "import yfinance as yf\n",
    "import numpy as np\n",
    "import pandas as pd\n",
    "import matplotlib.pyplot as plt\n",
    "from scipy import stats"
   ]
  },
  {
   "cell_type": "code",
   "execution_count": 593,
   "id": "e0b3a7de",
   "metadata": {},
   "outputs": [
    {
     "name": "stderr",
     "output_type": "stream",
     "text": [
      "C:\\Users\\jdobe\\AppData\\Local\\Temp\\ipykernel_20912\\2274404261.py:2: FutureWarning: YF.download() has changed argument auto_adjust default to True\n",
      "  data = yf.download(ticker, start=\"1962-01-02\", end=\"2023-01-01\")\n",
      "[*********************100%***********************]  1 of 1 completed\n"
     ]
    }
   ],
   "source": [
    "ticker = \"^GSPC\"\n",
    "data = yf.download(ticker, start=\"1962-01-02\", end=\"2023-01-01\")"
   ]
  },
  {
   "cell_type": "code",
   "execution_count": 594,
   "id": "771d525b",
   "metadata": {},
   "outputs": [
    {
     "name": "stdout",
     "output_type": "stream",
     "text": [
      "Price           Close       High        Low       Open   Volume\n",
      "Ticker          ^GSPC      ^GSPC      ^GSPC      ^GSPC    ^GSPC\n",
      "Date                                                           \n",
      "1962-01-02  70.959999  71.959999  70.709999  71.550003  3120000\n",
      "1962-01-03  71.129997  71.480003  70.379997  70.959999  3590000\n",
      "1962-01-04  70.639999  71.620003  70.449997  71.129997  4450000\n",
      "1962-01-05  69.660004  70.839996  69.349998  70.639999  4630000\n",
      "1962-01-08  69.120003  69.839996  68.169998  69.660004  4620000\n",
      "(15356, 5)\n"
     ]
    }
   ],
   "source": [
    "print(data.head())\n",
    "print(data.shape)"
   ]
  },
  {
   "cell_type": "code",
   "execution_count": 595,
   "id": "f37a7439",
   "metadata": {},
   "outputs": [],
   "source": [
    "# Create variable Log Returns and further\n",
    "data[\"DailyReturn\"] = np.log(data[\"Close\"]).diff()\n",
    "data['Sign_1d'] = (data['DailyReturn'] > 0).astype(int)\n",
    "data['Volume_change'] = np.log(data['Volume']).diff().shift(1)\n",
    "data['Trading_range'] = np.log(data['High'] / data['Low']).shift(1)\n",
    "\n",
    "data = data.iloc[1:]"
   ]
  },
  {
   "cell_type": "code",
   "execution_count": 596,
   "id": "2812433e",
   "metadata": {},
   "outputs": [
    {
     "data": {
      "text/plain": [
       "count    15355.000000\n",
       "mean         0.000260\n",
       "std          0.010460\n",
       "min         -0.228997\n",
       "25%         -0.004327\n",
       "50%          0.000435\n",
       "75%          0.005185\n",
       "max          0.109572\n",
       "Name: DailyReturn, dtype: float64"
      ]
     },
     "execution_count": 596,
     "metadata": {},
     "output_type": "execute_result"
    }
   ],
   "source": [
    "data[\"DailyReturn\"].describe()"
   ]
  },
  {
   "cell_type": "code",
   "execution_count": 597,
   "id": "75236a8a",
   "metadata": {},
   "outputs": [
    {
     "data": {
      "image/png": "[encoded data removed]",
      "text/plain": [
       "<Figure size 1000x600 with 1 Axes>"
      ]
     },
     "metadata": {},
     "output_type": "display_data"
    }
   ],
   "source": [
    "# plot the distribution of daily returns\n",
    "plt.figure(figsize=(10, 6))\n",
    "plt.hist(data[\"DailyReturn\"], bins=100, density=True, alpha=0.6, color='g')\n",
    "plt.title('Distribution of Daily Log Returns')\n",
    "plt.xlabel('Daily Log Return')\n",
    "plt.ylabel('Density')\n",
    "plt.grid()\n",
    "plt.show()"
   ]
  },
  {
   "cell_type": "markdown",
   "id": "66b071d1",
   "metadata": {},
   "source": [
    "NOTE: If I use log returns, then there is a zero asset return (mean=0.0002). This would make the use of volatility as predictor for sign return described in Christofferson & Diebold (2006) not applicable to my project."
   ]
  },
  {
   "cell_type": "code",
   "execution_count": 598,
   "id": "4674c013",
   "metadata": {},
   "outputs": [
    {
     "name": "stdout",
     "output_type": "stream",
     "text": [
      "Jarque-Bera test statistic: 404272.34287851123, p-value: 0.0\n"
     ]
    }
   ],
   "source": [
    "# Check for normality of returns\n",
    "jb_stat, jb_p = stats.jarque_bera(data[\"DailyReturn\"].dropna())\n",
    "print(f\"Jarque-Bera test statistic: {jb_stat}, p-value: {jb_p}\")"
   ]
  },
  {
   "cell_type": "markdown",
   "id": "7a74b448",
   "metadata": {},
   "source": [
    "Hence, the Daily Returns do not follow a normal distribution and sign forecastibility with zero mean asset return but asymmetric distribution from [Christofferson et al.](https://economics.sas.upenn.edu/pier/working-paper/2006/direction-change-forecasts-based-conditional-variance-skewness-and-kurtosis) (2007) could be applied. By the descriptive statistics, it already becomes apparent that there is excess kurtosis, since the minimum return is roughly 22 st.dev. away from the mean. The probability for this to happen is so small, that this return would be even unlikely if we get a return every nanosecond from the start of the universe. Since Pr(Z>22)=2.44x10^-107 for a st.normal distr. Whereas, the universe exists for roughly 4,35x10^26=13,800,000,000x365x24x3600x10^9 nanoseconds."
   ]
  },
  {
   "cell_type": "code",
   "execution_count": 599,
   "id": "81a5e653",
   "metadata": {},
   "outputs": [],
   "source": [
    "# get annualized realized volatility\n",
    "data['Realized_Vol_5d'] = data['DailyReturn'].rolling(window=5).std() * np.sqrt(252)\n",
    "data['Realized_Vol_20d'] = data['DailyReturn'].rolling(window=20).std() * np.sqrt(252)"
   ]
  },
  {
   "cell_type": "markdown",
   "id": "2d1e47c1",
   "metadata": {},
   "source": [
    "# Deep Learning for Sign Classification"
   ]
  },
  {
   "cell_type": "code",
   "execution_count": 600,
   "id": "18e7492c",
   "metadata": {},
   "outputs": [],
   "source": [
    "import torch\n",
    "import torch.nn as nn\n",
    "import torch.optim as optim\n",
    "from torch.utils.data import TensorDataset, DataLoader\n",
    "import random\n",
    "\n",
    "torch.manual_seed(42)\n",
    "np.random.seed(42)\n",
    "random.seed(42)"
   ]
  },
  {
   "cell_type": "markdown",
   "id": "7e9bd06e",
   "metadata": {},
   "source": [
    "## Create loss function that maximizes classification accuracy"
   ]
  },
  {
   "cell_type": "code",
   "execution_count": 601,
   "id": "99fb4142",
   "metadata": {},
   "outputs": [],
   "source": [
    "class MaximumUtilityLoss(nn.Module):\n",
    "    \"\"\"\n",
    "    Differentiable approximation of the Elliott-Lieli (2013) Maximum Utility estimator.\n",
    "    Optimizes correct classification rather than probability calibration.\n",
    "    \"\"\"\n",
    "    def __init__(self, c=0.0, sharpness=10.0, w_pos=1.0, w_neg=1.0):\n",
    "        super().__init__()\n",
    "        self.c = c\n",
    "        self.sharpness = sharpness\n",
    "        self.w_pos = w_pos\n",
    "        self.w_neg = w_neg\n",
    "\n",
    "    def forward(self, logits, y):\n",
    "        y_sign = 2 * y - 1 # -1 or 1\n",
    "        pred = torch.tanh(self.sharpness * (logits - self.c))  # get a sign approximation\n",
    "        b = torch.where(y > 0.5, self.w_pos, self.w_neg)\n",
    "        loss = 1-torch.mean(b * y_sign * pred)\n",
    "        return loss"
   ]
  },
  {
   "cell_type": "code",
   "execution_count": 602,
   "id": "3e22b5dc",
   "metadata": {},
   "outputs": [],
   "source": [
    "NUMBER_OF_LAGS = 5  # number of lagged observations\n",
    "TRAIN_SIZE = 10000\n",
    "HIDDEN_DIM = 64\n",
    "NUM_LAYERS = 4\n",
    "DROPOUT = 0.0\n",
    "BATCH_SIZE = 32\n",
    "NUMBER_OF_EPOCHS = 50\n",
    "CLASSIFICATION_THRESHOLD = 0.5\n",
    "LR = 3e-4"
   ]
  },
  {
   "cell_type": "markdown",
   "id": "5fa17993",
   "metadata": {},
   "source": [
    "TODO: Add more variables"
   ]
  },
  {
   "cell_type": "markdown",
   "id": "b079c64e",
   "metadata": {},
   "source": [
    "10 Year US Treasury Bills (Ticker: ^TNX)"
   ]
  },
  {
   "cell_type": "code",
   "execution_count": 603,
   "id": "8c26ef06",
   "metadata": {},
   "outputs": [
    {
     "name": "stderr",
     "output_type": "stream",
     "text": [
      "C:\\Users\\jdobe\\AppData\\Local\\Temp\\ipykernel_20912\\1549595112.py:1: FutureWarning: YF.download() has changed argument auto_adjust default to True\n",
      "  ten_y_tbill = yf.download(\"^TNX\", start=\"1962-01-02\", end=\"2023-01-01\")\n",
      "[*********************100%***********************]  1 of 1 completed\n",
      "C:\\Users\\jdobe\\AppData\\Local\\Temp\\ipykernel_20912\\1549595112.py:2: FutureWarning: YF.download() has changed argument auto_adjust default to True\n",
      "  three_month_tbill = yf.download(\"^IRX\", start=\"1962-01-02\", end=\"2023-01-01\")\n",
      "[*********************100%***********************]  1 of 1 completed\n",
      "C:\\Users\\jdobe\\AppData\\Local\\Temp\\ipykernel_20912\\1549595112.py:3: FutureWarning: YF.download() has changed argument auto_adjust default to True\n",
      "  oil_price = yf.download(\"CL=F\", start=\"1962-01-02\", end=\"2023-01-01\")\n",
      "[*********************100%***********************]  1 of 1 completed\n",
      "C:\\Users\\jdobe\\AppData\\Local\\Temp\\ipykernel_20912\\1549595112.py:4: FutureWarning: YF.download() has changed argument auto_adjust default to True\n",
      "  vix_index = yf.download(\"^VIX\", start=\"1962-01-02\", end=\"2023-01-01\")\n",
      "[*********************100%***********************]  1 of 1 completed\n"
     ]
    }
   ],
   "source": [
    "ten_y_tbill = yf.download(\"^TNX\", start=\"1962-01-02\", end=\"2023-01-01\")\n",
    "three_month_tbill = yf.download(\"^IRX\", start=\"1962-01-02\", end=\"2023-01-01\")\n",
    "oil_price = yf.download(\"CL=F\", start=\"1962-01-02\", end=\"2023-01-01\")\n",
    "vix_index = yf.download(\"^VIX\", start=\"1962-01-02\", end=\"2023-01-01\")\n",
    "# merge Open price of interest rates with main data\n",
    "data = data.merge(ten_y_tbill[[\"Open\"]], left_index=True, right_index=True, how=\"left\", suffixes=('', '_TNX'))\n",
    "data = data.merge(three_month_tbill[[\"Open\"]], left_index=True, right_index=True, how=\"left\", suffixes=('', '_IRX'))\n",
    "data = data.merge(oil_price[[\"Open\"]], left_index=True, right_index=True, how=\"left\", suffixes=('', '_CL'))\n",
    "data = data.merge(vix_index[[\"Open\"]], left_index=True, right_index=True, how=\"left\", suffixes=('', '_VIX'))\n",
    "\n",
    "# Drop MultiIndex in columns\n",
    "data.columns = ['_'.join([str(level) for level in col if level]).replace('^', '') for col in data.columns]\n",
    "data = data.rename(columns={\n",
    "    ('Open_TNX'): ('ten_y_tnotes'),   \n",
    "    ('Open_IRX'): ('three_months_tbills'),\n",
    "    ('Open_CL=F'): ('oil_price'),\n",
    "    ('Open_VIX'): ('vix_index')\n",
    "})"
   ]
  },
  {
   "cell_type": "code",
   "execution_count": 604,
   "id": "3f92b48b",
   "metadata": {},
   "outputs": [],
   "source": [
    "# print nan values per column\n",
    "#print(data.isna().sum())"
   ]
  },
  {
   "cell_type": "code",
   "execution_count": 605,
   "id": "d6a9fafa",
   "metadata": {},
   "outputs": [
    {
     "name": "stderr",
     "output_type": "stream",
     "text": [
      "C:\\Users\\jdobe\\AppData\\Local\\Packages\\PythonSoftwareFoundation.Python.3.11_qbz5n2kfra8p0\\LocalCache\\local-packages\\Python311\\site-packages\\pandas\\core\\arraylike.py:399: RuntimeWarning: invalid value encountered in log\n",
      "  result = getattr(ufunc, method)(*inputs, **kwargs)\n"
     ]
    }
   ],
   "source": [
    "# Add lagged returns as features\n",
    "data['Return_Lag1'] = data['DailyReturn'].shift(1)\n",
    "data['oil_price_return'] = np.log(data['oil_price']).diff()\n",
    "data['vix_return'] = np.log(data['vix_index']).diff()\n",
    "\n",
    "data.drop(columns=['oil_price', 'oil_price_return', 'vix_index', 'vix_return'], inplace=True)  # dropping oil price due to too many NaNs\n",
    "data = data.dropna()\n",
    "\n",
    "# Feature matrix\n",
    "features = np.column_stack([\n",
    "    data['Realized_Vol_5d'].values,\n",
    "    data['Realized_Vol_20d'].values,\n",
    "    data['Return_Lag1'].values,\n",
    "    data['Volume_change'].values,\n",
    "    data['Trading_range'].values,\n",
    "    data['ten_y_tnotes'].values,\n",
    "    data['three_months_tbills'].values\n",
    "    #data['oil_price_return'].values,\n",
    "    #data['vix_index'].values,\n",
    "    #data['vix_return'].values\n",
    "])\n",
    "\n",
    "input_variables = features.shape[1]"
   ]
  },
  {
   "cell_type": "code",
   "execution_count": 606,
   "id": "99da9cc4",
   "metadata": {},
   "outputs": [],
   "source": [
    "#data.describe()"
   ]
  },
  {
   "cell_type": "code",
   "execution_count": 607,
   "id": "7ea9e899",
   "metadata": {},
   "outputs": [],
   "source": [
    "#features"
   ]
  },
  {
   "cell_type": "code",
   "execution_count": 608,
   "id": "1b2d0ec1",
   "metadata": {},
   "outputs": [],
   "source": [
    "# Create lagged feature matrix for LSTM\n",
    "def create_lagged_matrix_multifeature(X, window):\n",
    "    out = []\n",
    "    for i in range(window, len(X)):\n",
    "        out.append(X[i-window:i, :])\n",
    "    return np.array(out)\n",
    "\n",
    "X_lagged = create_lagged_matrix_multifeature(features, NUMBER_OF_LAGS)\n",
    "y_target = data['Sign_1d'].values[NUMBER_OF_LAGS:]"
   ]
  },
  {
   "cell_type": "code",
   "execution_count": 609,
   "id": "52431ba0",
   "metadata": {},
   "outputs": [],
   "source": [
    "# Split train/test\n",
    "X_train = X_lagged[:TRAIN_SIZE]\n",
    "y_train = y_target[:TRAIN_SIZE]\n",
    "X_test = X_lagged[TRAIN_SIZE:]\n",
    "y_test = y_target[TRAIN_SIZE:]\n",
    "\n",
    "# Convert to torch tensors\n",
    "X_train_t = torch.tensor(X_train, dtype=torch.float32)\n",
    "y_train_t = torch.tensor(y_train.reshape(-1, 1), dtype=torch.float32)\n",
    "X_test_t = torch.tensor(X_test, dtype=torch.float32)"
   ]
  },
  {
   "cell_type": "markdown",
   "id": "55862638",
   "metadata": {},
   "source": [
    "## Define LSTM Model"
   ]
  },
  {
   "cell_type": "code",
   "execution_count": 610,
   "id": "d6159de9",
   "metadata": {},
   "outputs": [],
   "source": [
    "class SimpleLSTM(nn.Module):\n",
    "    def __init__(self, input_dim=1, hidden_dim=16, num_layers=1, dropout=0.0):\n",
    "        super(SimpleLSTM, self).__init__()\n",
    "        self.lstm = nn.LSTM(input_dim, hidden_dim, num_layers, batch_first=True, dropout=0.0)\n",
    "        self.fc = nn.Linear(hidden_dim, 1)\n",
    "        self.sigmoid = nn.Sigmoid()\n",
    "    def forward(self, x):\n",
    "        out, _ = self.lstm(x)\n",
    "        out = out[:, -1, :]\n",
    "        out = self.fc(out)\n",
    "        return out\n",
    "\n",
    "model = SimpleLSTM(input_dim=input_variables, hidden_dim=HIDDEN_DIM, num_layers=NUM_LAYERS, dropout=DROPOUT)\n",
    "optimizer = optim.Adam(model.parameters(), lr=LR)\n",
    "#criterion = nn.BCEWithLogitsLoss()\n",
    "pos_weight = (len(y_train_t) / y_train_t.sum())     # ratio of negatives to positives\n",
    "neg_weight = (len(y_train_t) / (len(y_train_t) - y_train_t.sum()))\n",
    "criterion = MaximumUtilityLoss(w_pos=pos_weight, w_neg=neg_weight, sharpness=6)"
   ]
  },
  {
   "cell_type": "code",
   "execution_count": 611,
   "id": "bb86a56e",
   "metadata": {},
   "outputs": [
    {
     "data": {
      "text/plain": [
       "SimpleLSTM(\n",
       "  (lstm): LSTM(7, 64, num_layers=4, batch_first=True)\n",
       "  (fc): Linear(in_features=64, out_features=1, bias=True)\n",
       "  (sigmoid): Sigmoid()\n",
       ")"
      ]
     },
     "execution_count": 611,
     "metadata": {},
     "output_type": "execute_result"
    }
   ],
   "source": [
    "model"
   ]
  },
  {
   "cell_type": "markdown",
   "id": "e1f0b773",
   "metadata": {},
   "source": [
    "## Model Training"
   ]
  },
  {
   "cell_type": "markdown",
   "id": "cd08cdf2",
   "metadata": {},
   "source": [
    "X_train_t contains batch size, sequence length (number of lags) and number of variables.\n",
    "Pytorch automatically calls forward()-method when input is given to the model."
   ]
  },
  {
   "cell_type": "code",
   "execution_count": 612,
   "id": "c5a311ed",
   "metadata": {},
   "outputs": [
    {
     "name": "stdout",
     "output_type": "stream",
     "text": [
      "Epoch 0: loss = 0.9203\n",
      "Epoch 10: loss = 0.5810\n",
      "Epoch 20: loss = 0.5810\n",
      "Epoch 30: loss = 1.3321\n",
      "Epoch 40: loss = 0.8314\n",
      "Epoch 50: loss = 1.6695\n"
     ]
    }
   ],
   "source": [
    "train_dataset = TensorDataset(X_train_t, y_train_t)\n",
    "train_loader = DataLoader(train_dataset, batch_size=BATCH_SIZE, shuffle=True)\n",
    "\n",
    "model.train()\n",
    "for epoch in range(NUMBER_OF_EPOCHS+1):     # number of seeing the training data for learning parameters\n",
    "    for X_batch, y_batch in train_loader:\n",
    "        optimizer.zero_grad()\n",
    "        y_pred = model(X_batch)\n",
    "        loss = criterion(y_pred, y_batch)\n",
    "        loss.backward()\n",
    "        optimizer.step()\n",
    "    if epoch % 10 == 0:\n",
    "        print(f\"Epoch {epoch}: loss = {loss.item():.4f}\")"
   ]
  },
  {
   "cell_type": "markdown",
   "id": "8125a42c",
   "metadata": {},
   "source": [
    "### Out of sample Prediction"
   ]
  },
  {
   "cell_type": "code",
   "execution_count": 613,
   "id": "0cff9edb",
   "metadata": {},
   "outputs": [],
   "source": [
    "model.eval()\n",
    "with torch.no_grad():\n",
    "    y_pred_test = torch.sigmoid(model(X_test_t)).squeeze().numpy()\n",
    "    y_pred_sign = (y_pred_test > CLASSIFICATION_THRESHOLD).astype(int)\n",
    "\n",
    "# --- Results ---\n",
    "results = pd.DataFrame({\n",
    "    'Actual_Sign': y_test,\n",
    "    'Predicted_Sign': y_pred_sign,\n",
    "    'Pos_probability': y_pred_test\n",
    "}, index=data.index[NUMBER_OF_LAGS+TRAIN_SIZE:])"
   ]
  },
  {
   "cell_type": "code",
   "execution_count": 614,
   "id": "cf4a8a5e",
   "metadata": {},
   "outputs": [
    {
     "name": "stdout",
     "output_type": "stream",
     "text": [
      "Accuracy: 0.5096\n"
     ]
    }
   ],
   "source": [
    "# count correct predictions\n",
    "correct_predictions = (results['Actual_Sign'] == results['Predicted_Sign']).sum()\n",
    "accuracy = correct_predictions / len(results)\n",
    "print(f\"Accuracy: {accuracy:.4f}\")"
   ]
  },
  {
   "cell_type": "code",
   "execution_count": 615,
   "id": "90bdf812",
   "metadata": {},
   "outputs": [
    {
     "name": "stdout",
     "output_type": "stream",
     "text": [
      "Classification Report:\n",
      "              precision    recall  f1-score   support\n",
      "\n",
      "           0       0.47      0.47      0.47      2396\n",
      "           1       0.55      0.54      0.54      2814\n",
      "\n",
      "    accuracy                           0.51      5210\n",
      "   macro avg       0.51      0.51      0.51      5210\n",
      "weighted avg       0.51      0.51      0.51      5210\n",
      "\n",
      "Accuracy: 0.5095969289827256\n"
     ]
    }
   ],
   "source": [
    "from sklearn.metrics import classification_report, accuracy_score\n",
    "\n",
    "# Classification report\n",
    "print(\"Classification Report:\")\n",
    "print(classification_report(results['Actual_Sign'], results['Predicted_Sign']))\n",
    "print(\"Accuracy:\", accuracy_score(results['Actual_Sign'], results['Predicted_Sign']))"
   ]
  },
  {
   "cell_type": "code",
   "execution_count": 616,
   "id": "95fdfb04",
   "metadata": {},
   "outputs": [
    {
     "data": {
      "text/plain": [
       "Text(0.5, 1.0, 'Predicted Probability of Positive Return')"
      ]
     },
     "execution_count": 616,
     "metadata": {},
     "output_type": "execute_result"
    },
    {
     "data": {
      "image/png": "[encoded data removed]",
      "text/plain": [
       "<Figure size 640x480 with 1 Axes>"
      ]
     },
     "metadata": {},
     "output_type": "display_data"
    }
   ],
   "source": [
    "results[\"Pos_probability\"].plot()\n",
    "plt.title(\"Predicted Probability of Positive Return\")\n",
    "#plt.ylim(0, 1)"
   ]
  },
  {
   "cell_type": "markdown",
   "id": "8d2a1c45",
   "metadata": {},
   "source": [
    "# Forecast Volatility"
   ]
  },
  {
   "cell_type": "code",
   "execution_count": 617,
   "id": "c6d8c1e3",
   "metadata": {},
   "outputs": [],
   "source": [
    "# EWMA (RiskMetrics) one-step ahead forecasts (vectorized recursive)\n",
    "lam = 0.94\n",
    "rets = data['DailyReturn'].fillna(0).values\n",
    "sigma2 = np.zeros(len(rets))\n",
    "# init with sample variance of initial window\n",
    "init_w = 250\n",
    "sigma2[:init_w] = np.var(rets[:init_w])\n",
    "for t in range(init_w, len(rets)):\n",
    "    sigma2[t] = lam * sigma2[t-1] + (1 - lam) * rets[t-1]**2   # uses return at t-1 -> no look-ahead\n",
    "\n",
    "# one-day-ahead variance at time t is sigma2[t] (computed from returns up to t-1)\n",
    "ewma_vol = np.sqrt(sigma2) * np.sqrt(252)   # annualized\n",
    "data['EWMA_vol'] = ewma_vol\n",
    "data['RiskMetrics_vol_forecast'] = data['EWMA_vol'].shift(1)\n",
    "data.drop(columns=['EWMA_vol'], inplace=True)  # drop unshifted version"
   ]
  },
  {
   "cell_type": "markdown",
   "id": "2aa1be85",
   "metadata": {},
   "source": [
    "# Bringing two forecasts together to predict stock price"
   ]
  },
  {
   "cell_type": "code",
   "execution_count": 618,
   "id": "6ad6f0a9",
   "metadata": {},
   "outputs": [
    {
     "data": {
      "text/html": [
       "<div>\n",
       "<style scoped>\n",
       "    .dataframe tbody tr th:only-of-type {\n",
       "        vertical-align: middle;\n",
       "    }\n",
       "\n",
       "    .dataframe tbody tr th {\n",
       "        vertical-align: top;\n",
       "    }\n",
       "\n",
       "    .dataframe thead th {\n",
       "        text-align: right;\n",
       "    }\n",
       "</style>\n",
       "<table border=\"1\" class=\"dataframe\">\n",
       "  <thead>\n",
       "    <tr style=\"text-align: right;\">\n",
       "      <th></th>\n",
       "      <th>Actual_Sign</th>\n",
       "      <th>Predicted_Sign</th>\n",
       "      <th>Pos_probability</th>\n",
       "      <th>RiskMetrics_vol_forecast</th>\n",
       "      <th>Daily_Return_S&amp;P500</th>\n",
       "      <th>Close_S&amp;P500</th>\n",
       "    </tr>\n",
       "    <tr>\n",
       "      <th>Date</th>\n",
       "      <th></th>\n",
       "      <th></th>\n",
       "      <th></th>\n",
       "      <th></th>\n",
       "      <th></th>\n",
       "      <th></th>\n",
       "    </tr>\n",
       "  </thead>\n",
       "  <tbody>\n",
       "    <tr>\n",
       "      <th>2002-04-16</th>\n",
       "      <td>1</td>\n",
       "      <td>0</td>\n",
       "      <td>0.349996</td>\n",
       "      <td>0.160370</td>\n",
       "      <td>0.023148</td>\n",
       "      <td>1128.369995</td>\n",
       "    </tr>\n",
       "    <tr>\n",
       "      <th>2002-04-17</th>\n",
       "      <td>0</td>\n",
       "      <td>0</td>\n",
       "      <td>0.354891</td>\n",
       "      <td>0.158300</td>\n",
       "      <td>-0.002040</td>\n",
       "      <td>1126.069946</td>\n",
       "    </tr>\n",
       "    <tr>\n",
       "      <th>2002-04-18</th>\n",
       "      <td>0</td>\n",
       "      <td>0</td>\n",
       "      <td>0.353397</td>\n",
       "      <td>0.177925</td>\n",
       "      <td>-0.001422</td>\n",
       "      <td>1124.469971</td>\n",
       "    </tr>\n",
       "    <tr>\n",
       "      <th>2002-04-19</th>\n",
       "      <td>1</td>\n",
       "      <td>0</td>\n",
       "      <td>0.349444</td>\n",
       "      <td>0.172687</td>\n",
       "      <td>0.000622</td>\n",
       "      <td>1125.170044</td>\n",
       "    </tr>\n",
       "    <tr>\n",
       "      <th>2002-04-22</th>\n",
       "      <td>0</td>\n",
       "      <td>0</td>\n",
       "      <td>0.346463</td>\n",
       "      <td>0.167518</td>\n",
       "      <td>-0.015531</td>\n",
       "      <td>1107.829956</td>\n",
       "    </tr>\n",
       "    <tr>\n",
       "      <th>...</th>\n",
       "      <td>...</td>\n",
       "      <td>...</td>\n",
       "      <td>...</td>\n",
       "      <td>...</td>\n",
       "      <td>...</td>\n",
       "      <td>...</td>\n",
       "    </tr>\n",
       "    <tr>\n",
       "      <th>2022-12-23</th>\n",
       "      <td>1</td>\n",
       "      <td>0</td>\n",
       "      <td>0.294528</td>\n",
       "      <td>0.220183</td>\n",
       "      <td>0.005851</td>\n",
       "      <td>3844.820068</td>\n",
       "    </tr>\n",
       "    <tr>\n",
       "      <th>2022-12-27</th>\n",
       "      <td>0</td>\n",
       "      <td>0</td>\n",
       "      <td>0.289983</td>\n",
       "      <td>0.220852</td>\n",
       "      <td>-0.004058</td>\n",
       "      <td>3829.250000</td>\n",
       "    </tr>\n",
       "    <tr>\n",
       "      <th>2022-12-28</th>\n",
       "      <td>0</td>\n",
       "      <td>0</td>\n",
       "      <td>0.272291</td>\n",
       "      <td>0.215329</td>\n",
       "      <td>-0.012093</td>\n",
       "      <td>3783.219971</td>\n",
       "    </tr>\n",
       "    <tr>\n",
       "      <th>2022-12-29</th>\n",
       "      <td>1</td>\n",
       "      <td>0</td>\n",
       "      <td>0.284286</td>\n",
       "      <td>0.209365</td>\n",
       "      <td>0.017311</td>\n",
       "      <td>3849.280029</td>\n",
       "    </tr>\n",
       "    <tr>\n",
       "      <th>2022-12-30</th>\n",
       "      <td>0</td>\n",
       "      <td>0</td>\n",
       "      <td>0.281014</td>\n",
       "      <td>0.208363</td>\n",
       "      <td>-0.002544</td>\n",
       "      <td>3839.500000</td>\n",
       "    </tr>\n",
       "  </tbody>\n",
       "</table>\n",
       "<p>5210 rows × 6 columns</p>\n",
       "</div>"
      ],
      "text/plain": [
       "            Actual_Sign  Predicted_Sign  Pos_probability  \\\n",
       "Date                                                       \n",
       "2002-04-16            1               0         0.349996   \n",
       "2002-04-17            0               0         0.354891   \n",
       "2002-04-18            0               0         0.353397   \n",
       "2002-04-19            1               0         0.349444   \n",
       "2002-04-22            0               0         0.346463   \n",
       "...                 ...             ...              ...   \n",
       "2022-12-23            1               0         0.294528   \n",
       "2022-12-27            0               0         0.289983   \n",
       "2022-12-28            0               0         0.272291   \n",
       "2022-12-29            1               0         0.284286   \n",
       "2022-12-30            0               0         0.281014   \n",
       "\n",
       "            RiskMetrics_vol_forecast  Daily_Return_S&P500  Close_S&P500  \n",
       "Date                                                                     \n",
       "2002-04-16                  0.160370             0.023148   1128.369995  \n",
       "2002-04-17                  0.158300            -0.002040   1126.069946  \n",
       "2002-04-18                  0.177925            -0.001422   1124.469971  \n",
       "2002-04-19                  0.172687             0.000622   1125.170044  \n",
       "2002-04-22                  0.167518            -0.015531   1107.829956  \n",
       "...                              ...                  ...           ...  \n",
       "2022-12-23                  0.220183             0.005851   3844.820068  \n",
       "2022-12-27                  0.220852            -0.004058   3829.250000  \n",
       "2022-12-28                  0.215329            -0.012093   3783.219971  \n",
       "2022-12-29                  0.209365             0.017311   3849.280029  \n",
       "2022-12-30                  0.208363            -0.002544   3839.500000  \n",
       "\n",
       "[5210 rows x 6 columns]"
      ]
     },
     "execution_count": 618,
     "metadata": {},
     "output_type": "execute_result"
    }
   ],
   "source": [
    "results['RiskMetrics_vol_forecast'] = data['RiskMetrics_vol_forecast']\n",
    "results['Daily_Return_S&P500'] = data['DailyReturn']\n",
    "results['Close_S&P500'] = data['Close_GSPC']\n",
    "results"
   ]
  },
  {
   "cell_type": "code",
   "execution_count": 619,
   "id": "ffd7c080",
   "metadata": {},
   "outputs": [],
   "source": [
    "results.to_csv(\"LSTM_Sign_Forecast_Selected_Features.csv\")"
   ]
  }
 ],
 "metadata": {
  "kernelspec": {
   "display_name": "Python 3",
   "language": "python",
   "name": "python3"
  },
  "language_info": {
   "codemirror_mode": {
    "name": "ipython",
    "version": 3
   },
   "file_extension": ".py",
   "mimetype": "text/x-python",
   "name": "python",
   "nbconvert_exporter": "python",
   "pygments_lexer": "ipython3",
   "version": "3.11.9"
  }
 },
 "nbformat": 4,
 "nbformat_minor": 5
}
