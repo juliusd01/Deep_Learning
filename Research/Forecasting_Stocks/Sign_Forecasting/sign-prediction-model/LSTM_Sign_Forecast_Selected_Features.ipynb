{
 "cells": [
  {
   "cell_type": "code",
   "execution_count": 33,
   "id": "e9d93d47",
   "metadata": {},
   "outputs": [],
   "source": [
    "import yfinance as yf\n",
    "import numpy as np\n",
    "import pandas as pd\n",
    "import arch\n",
    "import matplotlib.pyplot as plt"
   ]
  },
  {
   "cell_type": "code",
   "execution_count": 34,
   "id": "e0b3a7de",
   "metadata": {},
   "outputs": [
    {
     "name": "stderr",
     "output_type": "stream",
     "text": [
      "C:\\Users\\jdobe\\AppData\\Local\\Temp\\ipykernel_5512\\2274404261.py:2: FutureWarning: YF.download() has changed argument auto_adjust default to True\n",
      "  data = yf.download(ticker, start=\"1962-01-02\", end=\"2023-01-01\")\n",
      "[*********************100%***********************]  1 of 1 completed\n"
     ]
    }
   ],
   "source": [
    "ticker = \"^GSPC\"\n",
    "data = yf.download(ticker, start=\"1962-01-02\", end=\"2023-01-01\")"
   ]
  },
  {
   "cell_type": "code",
   "execution_count": 35,
   "id": "771d525b",
   "metadata": {},
   "outputs": [
    {
     "name": "stdout",
     "output_type": "stream",
     "text": [
      "Price           Close       High        Low       Open   Volume\n",
      "Ticker          ^GSPC      ^GSPC      ^GSPC      ^GSPC    ^GSPC\n",
      "Date                                                           \n",
      "1962-01-02  70.959999  71.959999  70.709999  71.550003  3120000\n",
      "1962-01-03  71.129997  71.480003  70.379997  70.959999  3590000\n",
      "1962-01-04  70.639999  71.620003  70.449997  71.129997  4450000\n",
      "1962-01-05  69.660004  70.839996  69.349998  70.639999  4630000\n",
      "1962-01-08  69.120003  69.839996  68.169998  69.660004  4620000\n",
      "(15356, 5)\n"
     ]
    }
   ],
   "source": [
    "print(data.head())\n",
    "print(data.shape)"
   ]
  },
  {
   "cell_type": "code",
   "execution_count": 36,
   "id": "f37a7439",
   "metadata": {},
   "outputs": [],
   "source": [
    "# Create variable Log Returns and further\n",
    "data[\"DailyReturn\"] = np.log(data[\"Close\"]).diff()\n",
    "data['Sign_1d'] = (data['DailyReturn'] > 0).astype(int)\n",
    "data['Volume_change'] = np.log(data['Volume']).diff()\n",
    "data['Trading_range'] = np.log(data['High'] / data['Low'])\n",
    "\n",
    "data = data.iloc[1:]"
   ]
  },
  {
   "cell_type": "code",
   "execution_count": 37,
   "id": "e97f2d75",
   "metadata": {},
   "outputs": [
    {
     "name": "stdout",
     "output_type": "stream",
     "text": [
      "Iteration:      1,   Func. Count:      6,   Neg. LLF: 780727851372.1755\n",
      "Iteration:      2,   Func. Count:     14,   Neg. LLF: 18031389.150344383\n",
      "Iteration:      3,   Func. Count:     21,   Neg. LLF: 54663.01721751453\n",
      "Iteration:      4,   Func. Count:     27,   Neg. LLF: 54549.42168044949\n",
      "Iteration:      5,   Func. Count:     33,   Neg. LLF: 56596.042303034905\n",
      "Iteration:      6,   Func. Count:     39,   Neg. LLF: 54588.092763351\n",
      "Iteration:      7,   Func. Count:     45,   Neg. LLF: 54518.354737768575\n",
      "Iteration:      8,   Func. Count:     51,   Neg. LLF: 54565.79750354307\n",
      "Iteration:      9,   Func. Count:     57,   Neg. LLF: 54511.77134661394\n",
      "Iteration:     10,   Func. Count:     62,   Neg. LLF: 54511.761345715364\n",
      "Iteration:     11,   Func. Count:     67,   Neg. LLF: 54511.76129966311\n",
      "Iteration:     12,   Func. Count:     72,   Neg. LLF: 54511.7612991028\n",
      "Optimization terminated successfully    (Exit mode 0)\n",
      "            Current function value: 54511.7612991028\n",
      "            Iterations: 12\n",
      "            Function evaluations: 72\n",
      "            Gradient evaluations: 12\n"
     ]
    }
   ],
   "source": [
    "model = arch.arch_model(data[\"DailyReturn\"]*1000, vol=\"GARCH\", p=1, q=1)\n",
    "model_fit = model.fit()"
   ]
  },
  {
   "cell_type": "markdown",
   "id": "2d1e47c1",
   "metadata": {},
   "source": [
    "# Deep Learning"
   ]
  },
  {
   "cell_type": "code",
   "execution_count": 38,
   "id": "0ee9295a",
   "metadata": {},
   "outputs": [],
   "source": [
    "import torch\n",
    "import torch.nn as nn\n",
    "import torch.optim as optim\n",
    "from torch.utils.data import TensorDataset, DataLoader\n",
    "import random\n",
    "from sklearn.preprocessing import StandardScaler\n",
    "\n",
    "torch.manual_seed(42)\n",
    "np.random.seed(42)\n",
    "random.seed(42)"
   ]
  },
  {
   "cell_type": "code",
   "execution_count": 39,
   "id": "3e22b5dc",
   "metadata": {},
   "outputs": [],
   "source": [
    "NUMBER_OF_LAGS = 20  # number of lagged observations\n",
    "TRAIN_SIZE = 5000\n",
    "HIDDEN_DIM = 16\n",
    "NUM_LAYERS = 1\n",
    "DROPOUT = 0.0\n",
    "BATCH_SIZE = 5000\n",
    "NUMBER_OF_EPOCHS = 50\n",
    "CLASSIFICATION_THRESHOLD = 0.5"
   ]
  },
  {
   "cell_type": "markdown",
   "id": "5fa17993",
   "metadata": {},
   "source": [
    "TODO: Add more variables"
   ]
  },
  {
   "cell_type": "markdown",
   "id": "b079c64e",
   "metadata": {},
   "source": [
    "10 Year US Treasury Bills (Ticker: ^TNX)"
   ]
  },
  {
   "cell_type": "code",
   "execution_count": 40,
   "id": "8c26ef06",
   "metadata": {},
   "outputs": [
    {
     "name": "stderr",
     "output_type": "stream",
     "text": [
      "C:\\Users\\jdobe\\AppData\\Local\\Temp\\ipykernel_5512\\577084386.py:1: FutureWarning: YF.download() has changed argument auto_adjust default to True\n",
      "  ten_y_tbill = yf.download(\"^TNX\", start=\"1962-01-02\", end=\"2023-01-01\")\n",
      "[*********************100%***********************]  1 of 1 completed\n",
      "C:\\Users\\jdobe\\AppData\\Local\\Temp\\ipykernel_5512\\577084386.py:2: FutureWarning: YF.download() has changed argument auto_adjust default to True\n",
      "  three_month_tbill = yf.download(\"^IRX\", start=\"1962-01-02\", end=\"2023-01-01\")\n",
      "[*********************100%***********************]  1 of 1 completed\n"
     ]
    }
   ],
   "source": [
    "ten_y_tbill = yf.download(\"^TNX\", start=\"1962-01-02\", end=\"2023-01-01\")\n",
    "three_month_tbill = yf.download(\"^IRX\", start=\"1962-01-02\", end=\"2023-01-01\")\n",
    "# merge Close price of interest rates with main data\n",
    "data = data.merge(ten_y_tbill[[\"Close\"]], left_index=True, right_index=True, how=\"left\", suffixes=('', '_TNX'))\n",
    "data = data.merge(three_month_tbill[[\"Close\"]], left_index=True, right_index=True, how=\"left\", suffixes=('', '_IRX'))\n",
    "\n",
    "# Drop MultiIndex in columns\n",
    "data.columns = ['_'.join([str(level) for level in col if level]).replace('^', '') for col in data.columns]\n",
    "data = data.rename(columns={\n",
    "    ('Close_TNX'): ('ten_y_tnotes'),   # or any new tuple you want\n",
    "    ('Close_IRX'): ('three_months_tbills')\n",
    "})"
   ]
  },
  {
   "cell_type": "code",
   "execution_count": 41,
   "id": "d6a9fafa",
   "metadata": {},
   "outputs": [],
   "source": [
    "# Add lagged returns as features\n",
    "data['Return_Lag1'] = data['DailyReturn'].shift(1)\n",
    "data['GARCH_volatility'] = model_fit.conditional_volatility\n",
    "\n",
    "data = data.dropna()\n",
    "\n",
    "# Feature matrix: inv_vol + lagged returns\n",
    "features = np.column_stack([\n",
    "    data['GARCH_volatility'].values,\n",
    "    data['Return_Lag1'].values,\n",
    "    data['Volume_change'].values,\n",
    "    data['Trading_range'].values,\n",
    "    data['ten_y_tnotes'].values,\n",
    "    data['three_months_tbills'].values\n",
    "])\n",
    "\n",
    "input_variables = features.shape[1]\n",
    "\n",
    "scaler = StandardScaler()\n",
    "features_scaled = scaler.fit_transform(features)"
   ]
  },
  {
   "cell_type": "code",
   "execution_count": 42,
   "id": "99da9cc4",
   "metadata": {},
   "outputs": [],
   "source": [
    "data.to_csv(\"sp500_data_with_features.csv\")"
   ]
  },
  {
   "cell_type": "markdown",
   "id": "4cb52ede",
   "metadata": {},
   "source": [
    "Currently, the past returns and inverse volatility are used for predicting the next return. This might not be economically sensible as many people believe returns are independent and form a martingale difference sequence (MDS). "
   ]
  },
  {
   "cell_type": "code",
   "execution_count": 43,
   "id": "7ea9e899",
   "metadata": {},
   "outputs": [
    {
     "data": {
      "text/plain": [
       "array([[ 5.68052228e+00,  2.39282503e-03,  2.14751894e-01,\n",
       "         1.64712079e-02,  3.99000001e+00,  2.72000003e+00],\n",
       "       [ 5.93868951e+00, -6.91260248e-03,  3.96527719e-02,\n",
       "         2.12576365e-02,  4.01999998e+00,  2.74000001e+00],\n",
       "       [ 7.27679593e+00, -1.39702301e-02, -2.16216300e-03,\n",
       "         2.42023006e-02,  4.03000021e+00,  2.77999997e+00],\n",
       "       ...,\n",
       "       [ 1.20964653e+01, -4.05784403e-03,  1.74101770e-02,\n",
       "         1.77063619e-02,  3.88700008e+00,  4.33799982e+00],\n",
       "       [ 1.21473612e+01, -1.20934704e-02, -2.62335980e-02,\n",
       "         1.37639095e-02,  3.83500004e+00,  4.29500008e+00],\n",
       "       [ 1.26780394e+01,  1.73106343e-02, -7.95852819e-03,\n",
       "         1.03427692e-02,  3.87899995e+00,  4.26000023e+00]],\n",
       "      shape=(15233, 6))"
      ]
     },
     "execution_count": 43,
     "metadata": {},
     "output_type": "execute_result"
    }
   ],
   "source": [
    "features"
   ]
  },
  {
   "cell_type": "markdown",
   "id": "525080c2",
   "metadata": {},
   "source": [
    "By using StandardScaler, each variable will be standard normally distributed."
   ]
  },
  {
   "cell_type": "code",
   "execution_count": 44,
   "id": "1b2d0ec1",
   "metadata": {},
   "outputs": [],
   "source": [
    "# Create lagged feature matrix for LSTM\n",
    "def create_lagged_matrix_multifeature(X, window):\n",
    "    out = []\n",
    "    for i in range(window, len(X)):\n",
    "        out.append(X[i-window:i, :])\n",
    "    return np.array(out)\n",
    "\n",
    "X_lagged = create_lagged_matrix_multifeature(features, NUMBER_OF_LAGS)\n",
    "y_target = data['Sign_1d'].values[NUMBER_OF_LAGS:]"
   ]
  },
  {
   "cell_type": "code",
   "execution_count": 45,
   "id": "52431ba0",
   "metadata": {},
   "outputs": [],
   "source": [
    "# Split train/test\n",
    "X_train = X_lagged[:TRAIN_SIZE]\n",
    "y_train = y_target[:TRAIN_SIZE]\n",
    "X_test = X_lagged[TRAIN_SIZE:]\n",
    "y_test = y_target[TRAIN_SIZE:]\n",
    "\n",
    "# Convert to torch tensors\n",
    "X_train_t = torch.tensor(X_train, dtype=torch.float32)\n",
    "y_train_t = torch.tensor(y_train.reshape(-1, 1), dtype=torch.float32)\n",
    "X_test_t = torch.tensor(X_test, dtype=torch.float32)"
   ]
  },
  {
   "cell_type": "markdown",
   "id": "55862638",
   "metadata": {},
   "source": [
    "## Define LSTM Model"
   ]
  },
  {
   "cell_type": "code",
   "execution_count": 46,
   "id": "d6159de9",
   "metadata": {},
   "outputs": [],
   "source": [
    "class SimpleLSTM(nn.Module):\n",
    "    def __init__(self, input_dim=1, hidden_dim=16, num_layers=1, dropout=0.0):\n",
    "        super(SimpleLSTM, self).__init__()\n",
    "        self.lstm = nn.LSTM(input_dim, hidden_dim, num_layers, batch_first=True, dropout=0.0)\n",
    "        self.fc = nn.Linear(hidden_dim, 1)\n",
    "        self.sigmoid = nn.Sigmoid()\n",
    "    def forward(self, x):\n",
    "        out, _ = self.lstm(x)\n",
    "        out = out[:, -1, :]\n",
    "        out = self.fc(out)\n",
    "        return self.sigmoid(out)\n",
    "\n",
    "model = SimpleLSTM(input_dim=input_variables, hidden_dim=HIDDEN_DIM, num_layers=NUM_LAYERS, dropout=DROPOUT)\n",
    "optimizer = optim.Adam(model.parameters(), lr=0.01)\n",
    "criterion = nn.BCELoss()"
   ]
  },
  {
   "cell_type": "code",
   "execution_count": 47,
   "id": "bb86a56e",
   "metadata": {},
   "outputs": [
    {
     "data": {
      "text/plain": [
       "SimpleLSTM(\n",
       "  (lstm): LSTM(6, 16, batch_first=True)\n",
       "  (fc): Linear(in_features=16, out_features=1, bias=True)\n",
       "  (sigmoid): Sigmoid()\n",
       ")"
      ]
     },
     "execution_count": 47,
     "metadata": {},
     "output_type": "execute_result"
    }
   ],
   "source": [
    "model"
   ]
  },
  {
   "cell_type": "markdown",
   "id": "e1f0b773",
   "metadata": {},
   "source": [
    "## Model Training"
   ]
  },
  {
   "cell_type": "markdown",
   "id": "cd08cdf2",
   "metadata": {},
   "source": [
    "X_train_t contains batch size, sequence length (number of lags) and number of variables.\n",
    "Pytorch automatically calls forward()-method when input is given to the model."
   ]
  },
  {
   "cell_type": "code",
   "execution_count": 48,
   "id": "c5a311ed",
   "metadata": {},
   "outputs": [
    {
     "name": "stdout",
     "output_type": "stream",
     "text": [
      "Epoch 0: loss = 0.6940\n",
      "Epoch 10: loss = 0.6918\n",
      "Epoch 20: loss = 0.6911\n",
      "Epoch 30: loss = 0.6898\n",
      "Epoch 40: loss = 0.6892\n"
     ]
    }
   ],
   "source": [
    "train_dataset = TensorDataset(X_train_t, y_train_t)\n",
    "train_loader = DataLoader(train_dataset, batch_size=BATCH_SIZE, shuffle=True)\n",
    "\n",
    "model.train()\n",
    "for epoch in range(NUMBER_OF_EPOCHS):     # number of seeing the training data for learning parameters\n",
    "    for X_batch, y_batch in train_loader:\n",
    "        optimizer.zero_grad()\n",
    "        y_pred = model(X_batch)\n",
    "        loss = criterion(y_pred, y_batch)\n",
    "        loss.backward()\n",
    "        optimizer.step()\n",
    "    if epoch % 10 == 0:\n",
    "        print(f\"Epoch {epoch}: loss = {loss.item():.4f}\")"
   ]
  },
  {
   "cell_type": "markdown",
   "id": "8125a42c",
   "metadata": {},
   "source": [
    "### Out of sample Prediction"
   ]
  },
  {
   "cell_type": "code",
   "execution_count": 49,
   "id": "0cff9edb",
   "metadata": {},
   "outputs": [],
   "source": [
    "model.eval()\n",
    "with torch.no_grad():\n",
    "    y_pred_test = model(X_test_t).squeeze().numpy()\n",
    "    y_pred_sign = (y_pred_test > CLASSIFICATION_THRESHOLD).astype(int)\n",
    "\n",
    "# --- Results ---\n",
    "results = pd.DataFrame({\n",
    "    'Actual_Sign': y_test,\n",
    "    'Predicted_Sign': y_pred_sign,\n",
    "    'Probability': y_pred_test\n",
    "}, index=data.index[NUMBER_OF_LAGS+TRAIN_SIZE:])"
   ]
  },
  {
   "cell_type": "code",
   "execution_count": 50,
   "id": "90bdf812",
   "metadata": {},
   "outputs": [
    {
     "name": "stdout",
     "output_type": "stream",
     "text": [
      "Classification Report:\n",
      "              precision    recall  f1-score   support\n",
      "\n",
      "           0       0.47      0.26      0.34      4762\n",
      "           1       0.54      0.75      0.62      5451\n",
      "\n",
      "    accuracy                           0.52     10213\n",
      "   macro avg       0.50      0.50      0.48     10213\n",
      "weighted avg       0.51      0.52      0.49     10213\n",
      "\n",
      "Accuracy: 0.5195339273474983\n"
     ]
    }
   ],
   "source": [
    "from sklearn.metrics import classification_report, accuracy_score\n",
    "\n",
    "# Classification report\n",
    "print(\"Classification Report:\")\n",
    "print(classification_report(results['Actual_Sign'], results['Predicted_Sign']))\n",
    "print(\"Accuracy:\", accuracy_score(results['Actual_Sign'], results['Predicted_Sign']))"
   ]
  },
  {
   "cell_type": "code",
   "execution_count": 51,
   "id": "95fdfb04",
   "metadata": {},
   "outputs": [
    {
     "data": {
      "text/plain": [
       "Text(0.5, 1.0, 'Predicted Probability of Positive Return')"
      ]
     },
     "execution_count": 51,
     "metadata": {},
     "output_type": "execute_result"
    },
    {
     "data": {
      "image/png": "[encoded data removed]",
      "text/plain": [
       "<Figure size 640x480 with 1 Axes>"
      ]
     },
     "metadata": {},
     "output_type": "display_data"
    }
   ],
   "source": [
    "results[\"Probability\"].plot()\n",
    "plt.title(\"Predicted Probability of Positive Return\")\n",
    "#plt.ylim(0, 1)"
   ]
  },
  {
   "cell_type": "code",
   "execution_count": 52,
   "id": "6ad6f0a9",
   "metadata": {},
   "outputs": [
    {
     "data": {
      "text/html": [
       "<div>\n",
       "<style scoped>\n",
       "    .dataframe tbody tr th:only-of-type {\n",
       "        vertical-align: middle;\n",
       "    }\n",
       "\n",
       "    .dataframe tbody tr th {\n",
       "        vertical-align: top;\n",
       "    }\n",
       "\n",
       "    .dataframe thead th {\n",
       "        text-align: right;\n",
       "    }\n",
       "</style>\n",
       "<table border=\"1\" class=\"dataframe\">\n",
       "  <thead>\n",
       "    <tr style=\"text-align: right;\">\n",
       "      <th></th>\n",
       "      <th>Actual_Sign</th>\n",
       "      <th>Predicted_Sign</th>\n",
       "      <th>Probability</th>\n",
       "      <th>GARCH_volatility</th>\n",
       "      <th>Daily_Return_S&amp;P500</th>\n",
       "      <th>Close_S&amp;P500</th>\n",
       "    </tr>\n",
       "    <tr>\n",
       "      <th>Date</th>\n",
       "      <th></th>\n",
       "      <th></th>\n",
       "      <th></th>\n",
       "      <th></th>\n",
       "      <th></th>\n",
       "      <th></th>\n",
       "    </tr>\n",
       "  </thead>\n",
       "  <tbody>\n",
       "    <tr>\n",
       "      <th>1982-04-12</th>\n",
       "      <td>0</td>\n",
       "      <td>0</td>\n",
       "      <td>0.495733</td>\n",
       "      <td>8.281639</td>\n",
       "      <td>-0.001895</td>\n",
       "      <td>116.000000</td>\n",
       "    </tr>\n",
       "    <tr>\n",
       "      <th>1982-04-13</th>\n",
       "      <td>0</td>\n",
       "      <td>0</td>\n",
       "      <td>0.488419</td>\n",
       "      <td>7.939953</td>\n",
       "      <td>-0.000086</td>\n",
       "      <td>115.989998</td>\n",
       "    </tr>\n",
       "    <tr>\n",
       "      <th>1982-04-14</th>\n",
       "      <td>0</td>\n",
       "      <td>0</td>\n",
       "      <td>0.493605</td>\n",
       "      <td>7.586358</td>\n",
       "      <td>-0.001380</td>\n",
       "      <td>115.830002</td>\n",
       "    </tr>\n",
       "    <tr>\n",
       "      <th>1982-04-15</th>\n",
       "      <td>1</td>\n",
       "      <td>0</td>\n",
       "      <td>0.492227</td>\n",
       "      <td>7.276068</td>\n",
       "      <td>0.004479</td>\n",
       "      <td>116.349998</td>\n",
       "    </tr>\n",
       "    <tr>\n",
       "      <th>1982-04-16</th>\n",
       "      <td>1</td>\n",
       "      <td>0</td>\n",
       "      <td>0.494679</td>\n",
       "      <td>7.071575</td>\n",
       "      <td>0.003946</td>\n",
       "      <td>116.809998</td>\n",
       "    </tr>\n",
       "    <tr>\n",
       "      <th>...</th>\n",
       "      <td>...</td>\n",
       "      <td>...</td>\n",
       "      <td>...</td>\n",
       "      <td>...</td>\n",
       "      <td>...</td>\n",
       "      <td>...</td>\n",
       "    </tr>\n",
       "    <tr>\n",
       "      <th>2022-12-23</th>\n",
       "      <td>1</td>\n",
       "      <td>1</td>\n",
       "      <td>0.576629</td>\n",
       "      <td>13.196030</td>\n",
       "      <td>0.005851</td>\n",
       "      <td>3844.820068</td>\n",
       "    </tr>\n",
       "    <tr>\n",
       "      <th>2022-12-27</th>\n",
       "      <td>0</td>\n",
       "      <td>1</td>\n",
       "      <td>0.571894</td>\n",
       "      <td>12.644213</td>\n",
       "      <td>-0.004058</td>\n",
       "      <td>3829.250000</td>\n",
       "    </tr>\n",
       "    <tr>\n",
       "      <th>2022-12-28</th>\n",
       "      <td>0</td>\n",
       "      <td>1</td>\n",
       "      <td>0.578917</td>\n",
       "      <td>12.096465</td>\n",
       "      <td>-0.012093</td>\n",
       "      <td>3783.219971</td>\n",
       "    </tr>\n",
       "    <tr>\n",
       "      <th>2022-12-29</th>\n",
       "      <td>1</td>\n",
       "      <td>1</td>\n",
       "      <td>0.582970</td>\n",
       "      <td>12.147361</td>\n",
       "      <td>0.017311</td>\n",
       "      <td>3849.280029</td>\n",
       "    </tr>\n",
       "    <tr>\n",
       "      <th>2022-12-30</th>\n",
       "      <td>0</td>\n",
       "      <td>1</td>\n",
       "      <td>0.585608</td>\n",
       "      <td>12.678039</td>\n",
       "      <td>-0.002544</td>\n",
       "      <td>3839.500000</td>\n",
       "    </tr>\n",
       "  </tbody>\n",
       "</table>\n",
       "<p>10213 rows × 6 columns</p>\n",
       "</div>"
      ],
      "text/plain": [
       "            Actual_Sign  Predicted_Sign  Probability  GARCH_volatility  \\\n",
       "Date                                                                     \n",
       "1982-04-12            0               0     0.495733          8.281639   \n",
       "1982-04-13            0               0     0.488419          7.939953   \n",
       "1982-04-14            0               0     0.493605          7.586358   \n",
       "1982-04-15            1               0     0.492227          7.276068   \n",
       "1982-04-16            1               0     0.494679          7.071575   \n",
       "...                 ...             ...          ...               ...   \n",
       "2022-12-23            1               1     0.576629         13.196030   \n",
       "2022-12-27            0               1     0.571894         12.644213   \n",
       "2022-12-28            0               1     0.578917         12.096465   \n",
       "2022-12-29            1               1     0.582970         12.147361   \n",
       "2022-12-30            0               1     0.585608         12.678039   \n",
       "\n",
       "            Daily_Return_S&P500  Close_S&P500  \n",
       "Date                                           \n",
       "1982-04-12            -0.001895    116.000000  \n",
       "1982-04-13            -0.000086    115.989998  \n",
       "1982-04-14            -0.001380    115.830002  \n",
       "1982-04-15             0.004479    116.349998  \n",
       "1982-04-16             0.003946    116.809998  \n",
       "...                         ...           ...  \n",
       "2022-12-23             0.005851   3844.820068  \n",
       "2022-12-27            -0.004058   3829.250000  \n",
       "2022-12-28            -0.012093   3783.219971  \n",
       "2022-12-29             0.017311   3849.280029  \n",
       "2022-12-30            -0.002544   3839.500000  \n",
       "\n",
       "[10213 rows x 6 columns]"
      ]
     },
     "execution_count": 52,
     "metadata": {},
     "output_type": "execute_result"
    }
   ],
   "source": [
    "results['GARCH_volatility'] = data['GARCH_volatility']\n",
    "results['Daily_Return_S&P500'] = data['DailyReturn']\n",
    "results['Close_S&P500'] = data['Close_GSPC']\n",
    "results"
   ]
  },
  {
   "cell_type": "markdown",
   "id": "dee9269b",
   "metadata": {},
   "source": [
    "## S&P500 forecasts\n",
    "\n",
    "### Simple/Naive model\n",
    "Use model of the form: (2*p - 1) * sigma * k where k is a calibration constant to scale returns"
   ]
  },
  {
   "cell_type": "code",
   "execution_count": 53,
   "id": "176748b0",
   "metadata": {},
   "outputs": [],
   "source": [
    "from sklearn.linear_model import LinearRegression"
   ]
  },
  {
   "cell_type": "code",
   "execution_count": 54,
   "id": "0ccfece2",
   "metadata": {},
   "outputs": [
    {
     "name": "stdout",
     "output_type": "stream",
     "text": [
      "Estimated k: 4.89484636570874e-05\n"
     ]
    }
   ],
   "source": [
    "# estimate k\n",
    "results['Signal'] = (2 * results['Probability'] - 1)\n",
    "results['expected_signed_volatility'] = results['Signal'] * results['GARCH_volatility']\n",
    "\n",
    "training_size = int(0.8 * len(results))\n",
    "\n",
    "X = results[['expected_signed_volatility']]\n",
    "y = results['Daily_Return_S&P500']\n",
    "\n",
    "X_train = X[:training_size]\n",
    "y_train = y[:training_size]\n",
    "X_test = X[training_size:]\n",
    "y_test = y[training_size:]\n",
    "\n",
    "model = LinearRegression()\n",
    "model.fit(X_train, y_train)\n",
    "k = model.coef_[0]\n",
    "print(\"Estimated k:\", k)"
   ]
  },
  {
   "cell_type": "code",
   "execution_count": 55,
   "id": "b54b6ba1",
   "metadata": {},
   "outputs": [
    {
     "name": "stderr",
     "output_type": "stream",
     "text": [
      "C:\\Users\\jdobe\\AppData\\Local\\Temp\\ipykernel_5512\\2909796926.py:4: SettingWithCopyWarning: \n",
      "A value is trying to be set on a copy of a slice from a DataFrame.\n",
      "Try using .loc[row_indexer,col_indexer] = value instead\n",
      "\n",
      "See the caveats in the documentation: https://pandas.pydata.org/pandas-docs/stable/user_guide/indexing.html#returning-a-view-versus-a-copy\n",
      "  results['Return_Hat'] = return_hat\n",
      "C:\\Users\\jdobe\\AppData\\Local\\Temp\\ipykernel_5512\\2909796926.py:5: SettingWithCopyWarning: \n",
      "A value is trying to be set on a copy of a slice from a DataFrame.\n",
      "Try using .loc[row_indexer,col_indexer] = value instead\n",
      "\n",
      "See the caveats in the documentation: https://pandas.pydata.org/pandas-docs/stable/user_guide/indexing.html#returning-a-view-versus-a-copy\n",
      "  results[\"predicted Close\"] = np.exp(np.log(results['Close_S&P500'].shift(1)) + results['Return_Hat'])\n"
     ]
    },
    {
     "data": {
      "text/html": [
       "<div>\n",
       "<style scoped>\n",
       "    .dataframe tbody tr th:only-of-type {\n",
       "        vertical-align: middle;\n",
       "    }\n",
       "\n",
       "    .dataframe tbody tr th {\n",
       "        vertical-align: top;\n",
       "    }\n",
       "\n",
       "    .dataframe thead th {\n",
       "        text-align: right;\n",
       "    }\n",
       "</style>\n",
       "<table border=\"1\" class=\"dataframe\">\n",
       "  <thead>\n",
       "    <tr style=\"text-align: right;\">\n",
       "      <th></th>\n",
       "      <th>Actual_Sign</th>\n",
       "      <th>Predicted_Sign</th>\n",
       "      <th>Probability</th>\n",
       "      <th>GARCH_volatility</th>\n",
       "      <th>Daily_Return_S&amp;P500</th>\n",
       "      <th>Close_S&amp;P500</th>\n",
       "      <th>Signal</th>\n",
       "      <th>expected_signed_volatility</th>\n",
       "      <th>Return_Hat</th>\n",
       "      <th>predicted Close</th>\n",
       "    </tr>\n",
       "    <tr>\n",
       "      <th>Date</th>\n",
       "      <th></th>\n",
       "      <th></th>\n",
       "      <th></th>\n",
       "      <th></th>\n",
       "      <th></th>\n",
       "      <th></th>\n",
       "      <th></th>\n",
       "      <th></th>\n",
       "      <th></th>\n",
       "      <th></th>\n",
       "    </tr>\n",
       "  </thead>\n",
       "  <tbody>\n",
       "    <tr>\n",
       "      <th>2014-11-18</th>\n",
       "      <td>1</td>\n",
       "      <td>1</td>\n",
       "      <td>0.607615</td>\n",
       "      <td>6.295260</td>\n",
       "      <td>0.005121</td>\n",
       "      <td>2051.800049</td>\n",
       "      <td>0.215231</td>\n",
       "      <td>1.354933</td>\n",
       "      <td>0.000066</td>\n",
       "      <td>NaN</td>\n",
       "    </tr>\n",
       "    <tr>\n",
       "      <th>2014-11-19</th>\n",
       "      <td>0</td>\n",
       "      <td>1</td>\n",
       "      <td>0.609773</td>\n",
       "      <td>6.213957</td>\n",
       "      <td>-0.001502</td>\n",
       "      <td>2048.719971</td>\n",
       "      <td>0.219545</td>\n",
       "      <td>1.364246</td>\n",
       "      <td>0.000067</td>\n",
       "      <td>2051.937068</td>\n",
       "    </tr>\n",
       "    <tr>\n",
       "      <th>2014-11-20</th>\n",
       "      <td>1</td>\n",
       "      <td>1</td>\n",
       "      <td>0.612997</td>\n",
       "      <td>6.000979</td>\n",
       "      <td>0.001965</td>\n",
       "      <td>2052.750000</td>\n",
       "      <td>0.225995</td>\n",
       "      <td>1.356191</td>\n",
       "      <td>0.000066</td>\n",
       "      <td>2048.855976</td>\n",
       "    </tr>\n",
       "    <tr>\n",
       "      <th>2014-11-21</th>\n",
       "      <td>1</td>\n",
       "      <td>1</td>\n",
       "      <td>0.616881</td>\n",
       "      <td>5.788090</td>\n",
       "      <td>0.005223</td>\n",
       "      <td>2063.500000</td>\n",
       "      <td>0.233763</td>\n",
       "      <td>1.353040</td>\n",
       "      <td>0.000066</td>\n",
       "      <td>2052.885957</td>\n",
       "    </tr>\n",
       "    <tr>\n",
       "      <th>2014-11-24</th>\n",
       "      <td>1</td>\n",
       "      <td>1</td>\n",
       "      <td>0.615046</td>\n",
       "      <td>5.763117</td>\n",
       "      <td>0.002860</td>\n",
       "      <td>2069.409912</td>\n",
       "      <td>0.230093</td>\n",
       "      <td>1.326051</td>\n",
       "      <td>0.000065</td>\n",
       "      <td>2063.633942</td>\n",
       "    </tr>\n",
       "    <tr>\n",
       "      <th>...</th>\n",
       "      <td>...</td>\n",
       "      <td>...</td>\n",
       "      <td>...</td>\n",
       "      <td>...</td>\n",
       "      <td>...</td>\n",
       "      <td>...</td>\n",
       "      <td>...</td>\n",
       "      <td>...</td>\n",
       "      <td>...</td>\n",
       "      <td>...</td>\n",
       "    </tr>\n",
       "    <tr>\n",
       "      <th>2022-12-23</th>\n",
       "      <td>1</td>\n",
       "      <td>1</td>\n",
       "      <td>0.576629</td>\n",
       "      <td>13.196030</td>\n",
       "      <td>0.005851</td>\n",
       "      <td>3844.820068</td>\n",
       "      <td>0.153258</td>\n",
       "      <td>2.022403</td>\n",
       "      <td>0.000099</td>\n",
       "      <td>3822.768303</td>\n",
       "    </tr>\n",
       "    <tr>\n",
       "      <th>2022-12-27</th>\n",
       "      <td>0</td>\n",
       "      <td>1</td>\n",
       "      <td>0.571894</td>\n",
       "      <td>12.644213</td>\n",
       "      <td>-0.004058</td>\n",
       "      <td>3829.250000</td>\n",
       "      <td>0.143788</td>\n",
       "      <td>1.818089</td>\n",
       "      <td>0.000089</td>\n",
       "      <td>3845.162244</td>\n",
       "    </tr>\n",
       "    <tr>\n",
       "      <th>2022-12-28</th>\n",
       "      <td>0</td>\n",
       "      <td>1</td>\n",
       "      <td>0.578917</td>\n",
       "      <td>12.096465</td>\n",
       "      <td>-0.012093</td>\n",
       "      <td>3783.219971</td>\n",
       "      <td>0.157834</td>\n",
       "      <td>1.909236</td>\n",
       "      <td>0.000093</td>\n",
       "      <td>3829.607876</td>\n",
       "    </tr>\n",
       "    <tr>\n",
       "      <th>2022-12-29</th>\n",
       "      <td>1</td>\n",
       "      <td>1</td>\n",
       "      <td>0.582970</td>\n",
       "      <td>12.147361</td>\n",
       "      <td>0.017311</td>\n",
       "      <td>3849.280029</td>\n",
       "      <td>0.165941</td>\n",
       "      <td>2.015741</td>\n",
       "      <td>0.000099</td>\n",
       "      <td>3783.593270</td>\n",
       "    </tr>\n",
       "    <tr>\n",
       "      <th>2022-12-30</th>\n",
       "      <td>0</td>\n",
       "      <td>1</td>\n",
       "      <td>0.585608</td>\n",
       "      <td>12.678039</td>\n",
       "      <td>-0.002544</td>\n",
       "      <td>3839.500000</td>\n",
       "      <td>0.171217</td>\n",
       "      <td>2.170691</td>\n",
       "      <td>0.000106</td>\n",
       "      <td>3849.689045</td>\n",
       "    </tr>\n",
       "  </tbody>\n",
       "</table>\n",
       "<p>2043 rows × 10 columns</p>\n",
       "</div>"
      ],
      "text/plain": [
       "            Actual_Sign  Predicted_Sign  Probability  GARCH_volatility  \\\n",
       "Date                                                                     \n",
       "2014-11-18            1               1     0.607615          6.295260   \n",
       "2014-11-19            0               1     0.609773          6.213957   \n",
       "2014-11-20            1               1     0.612997          6.000979   \n",
       "2014-11-21            1               1     0.616881          5.788090   \n",
       "2014-11-24            1               1     0.615046          5.763117   \n",
       "...                 ...             ...          ...               ...   \n",
       "2022-12-23            1               1     0.576629         13.196030   \n",
       "2022-12-27            0               1     0.571894         12.644213   \n",
       "2022-12-28            0               1     0.578917         12.096465   \n",
       "2022-12-29            1               1     0.582970         12.147361   \n",
       "2022-12-30            0               1     0.585608         12.678039   \n",
       "\n",
       "            Daily_Return_S&P500  Close_S&P500    Signal  \\\n",
       "Date                                                      \n",
       "2014-11-18             0.005121   2051.800049  0.215231   \n",
       "2014-11-19            -0.001502   2048.719971  0.219545   \n",
       "2014-11-20             0.001965   2052.750000  0.225995   \n",
       "2014-11-21             0.005223   2063.500000  0.233763   \n",
       "2014-11-24             0.002860   2069.409912  0.230093   \n",
       "...                         ...           ...       ...   \n",
       "2022-12-23             0.005851   3844.820068  0.153258   \n",
       "2022-12-27            -0.004058   3829.250000  0.143788   \n",
       "2022-12-28            -0.012093   3783.219971  0.157834   \n",
       "2022-12-29             0.017311   3849.280029  0.165941   \n",
       "2022-12-30            -0.002544   3839.500000  0.171217   \n",
       "\n",
       "            expected_signed_volatility  Return_Hat  predicted Close  \n",
       "Date                                                                 \n",
       "2014-11-18                    1.354933    0.000066              NaN  \n",
       "2014-11-19                    1.364246    0.000067      2051.937068  \n",
       "2014-11-20                    1.356191    0.000066      2048.855976  \n",
       "2014-11-21                    1.353040    0.000066      2052.885957  \n",
       "2014-11-24                    1.326051    0.000065      2063.633942  \n",
       "...                                ...         ...              ...  \n",
       "2022-12-23                    2.022403    0.000099      3822.768303  \n",
       "2022-12-27                    1.818089    0.000089      3845.162244  \n",
       "2022-12-28                    1.909236    0.000093      3829.607876  \n",
       "2022-12-29                    2.015741    0.000099      3783.593270  \n",
       "2022-12-30                    2.170691    0.000106      3849.689045  \n",
       "\n",
       "[2043 rows x 10 columns]"
      ]
     },
     "execution_count": 55,
     "metadata": {},
     "output_type": "execute_result"
    }
   ],
   "source": [
    "full_results = results.copy()\n",
    "results = results.iloc[training_size:]\n",
    "return_hat = results['expected_signed_volatility'] * k\n",
    "results['Return_Hat'] = return_hat\n",
    "results[\"predicted Close\"] = np.exp(np.log(results['Close_S&P500'].shift(1)) + results['Return_Hat'])\n",
    "results"
   ]
  },
  {
   "cell_type": "code",
   "execution_count": 56,
   "id": "b4597de5",
   "metadata": {},
   "outputs": [
    {
     "name": "stdout",
     "output_type": "stream",
     "text": [
      "Mean Squared Error of Return Prediction: 0.00014119079636823486\n"
     ]
    }
   ],
   "source": [
    "# evaluate predicted return vs actual return\n",
    "from sklearn.metrics import mean_squared_error\n",
    "mse = mean_squared_error(results['Daily_Return_S&P500'], results['Return_Hat'])\n",
    "print(\"Mean Squared Error of Return Prediction:\", mse)"
   ]
  },
  {
   "cell_type": "code",
   "execution_count": 57,
   "id": "b51ae6aa",
   "metadata": {},
   "outputs": [
    {
     "name": "stdout",
     "output_type": "stream",
     "text": [
      "Mean Squared Error of Price Prediction: 1343.6648706693213\n"
     ]
    }
   ],
   "source": [
    "# evaluated predicted price vs actual price\n",
    "results = results.dropna()\n",
    "mse_price = mean_squared_error(results['Close_S&P500'], results['predicted Close'])\n",
    "print(\"Mean Squared Error of Price Prediction:\", mse_price)"
   ]
  },
  {
   "cell_type": "markdown",
   "id": "5e58141f",
   "metadata": {},
   "source": [
    "### Sophisticated Approach: Another NN for Return Prediction"
   ]
  },
  {
   "cell_type": "code",
   "execution_count": 58,
   "id": "6a6e6f54",
   "metadata": {},
   "outputs": [],
   "source": [
    "y = full_results[\"Daily_Return_S&P500\"]\n",
    "X = full_results[[\"Probability\", \"GARCH_volatility\"]]"
   ]
  },
  {
   "cell_type": "code",
   "execution_count": 59,
   "id": "7ecd6f18",
   "metadata": {},
   "outputs": [],
   "source": [
    "# Training and test set split\n",
    "training_size = int(0.8 * len(full_results))\n",
    "X_train = X[:training_size]\n",
    "y_train = y[:training_size]\n",
    "X_test = X[training_size:]\n",
    "y_test = y[training_size:]\n",
    "\n",
    "# transform to tensors\n",
    "X_train_t = torch.tensor(X_train.values, dtype=torch.float32).unsqueeze(1)\n",
    "y_train_t = torch.tensor(y_train.values.reshape(-1, 1), dtype=torch.float32)\n",
    "X_test_t = torch.tensor(X_test.values, dtype=torch.float32).unsqueeze(1)        "
   ]
  },
  {
   "cell_type": "code",
   "execution_count": 60,
   "id": "9f04bd5e",
   "metadata": {},
   "outputs": [],
   "source": [
    "class ReturnGRU(nn.Module):\n",
    "    def __init__(self, input_dim=1, hidden_dim=16, num_layers=1, dropout=0.0):\n",
    "        super(ReturnGRU, self).__init__()\n",
    "        self.gru = nn.GRU(input_dim, hidden_dim, num_layers, batch_first=True, dropout=dropout)\n",
    "        self.fc = nn.Linear(hidden_dim, 1)\n",
    "    def forward(self, x):\n",
    "        out, _ = self.gru(x)\n",
    "        out = out[:, -1, :]\n",
    "        out = self.fc(out)\n",
    "        return out\n",
    "\n",
    "hidden_dim = 16\n",
    "num_layers = 1\n",
    "dropout = 0.0\n",
    "\n",
    "model = ReturnGRU(input_dim=X.shape[1], hidden_dim=hidden_dim, num_layers=num_layers, dropout=dropout)\n",
    "optimizer = optim.Adam(model.parameters(), lr=3e-4)\n",
    "criterion = nn.MSELoss()\n",
    "batch_size = 32\n",
    "num_epochs = 30\n",
    "train_dataset = TensorDataset(X_train_t, y_train_t)\n",
    "train_loader = DataLoader(train_dataset, batch_size=batch_size, shuffle=True)\n"
   ]
  },
  {
   "cell_type": "code",
   "execution_count": 61,
   "id": "2b1a60a5",
   "metadata": {},
   "outputs": [
    {
     "name": "stdout",
     "output_type": "stream",
     "text": [
      "Epoch 0: loss = 0.000168\n",
      "Epoch 10: loss = 0.000047\n",
      "Epoch 20: loss = 0.000016\n",
      "Epoch 30: loss = 0.000043\n"
     ]
    }
   ],
   "source": [
    "model.train()\n",
    "for epoch in range(num_epochs+1):\n",
    "    for X_batch, y_batch in train_loader:\n",
    "        optimizer.zero_grad()\n",
    "        y_pred = model(X_batch)\n",
    "        loss = criterion(y_pred, y_batch)\n",
    "        loss.backward()\n",
    "        optimizer.step()\n",
    "    if epoch % 10 == 0:\n",
    "        print(f\"Epoch {epoch}: loss = {loss.item():.6f}\")\n"
   ]
  },
  {
   "cell_type": "code",
   "execution_count": 62,
   "id": "b996e193",
   "metadata": {},
   "outputs": [
    {
     "name": "stdout",
     "output_type": "stream",
     "text": [
      "Mean Squared Error of Return Prediction (GRU): 0.00014141076663023593\n"
     ]
    }
   ],
   "source": [
    "model.eval()\n",
    "with torch.no_grad():\n",
    "    y_pred_test = model(X_test_t).squeeze().numpy()\n",
    "return_results = pd.DataFrame({\n",
    "    'Actual_Return': y_test,\n",
    "    'Predicted_Return': y_pred_test\n",
    "})\n",
    "\n",
    "mse = mean_squared_error(return_results['Actual_Return'], return_results['Predicted_Return'])\n",
    "print(\"Mean Squared Error of Return Prediction (GRU):\", mse)\n"
   ]
  },
  {
   "cell_type": "code",
   "execution_count": 63,
   "id": "44ae4f8f",
   "metadata": {},
   "outputs": [
    {
     "data": {
      "text/html": [
       "<div>\n",
       "<style scoped>\n",
       "    .dataframe tbody tr th:only-of-type {\n",
       "        vertical-align: middle;\n",
       "    }\n",
       "\n",
       "    .dataframe tbody tr th {\n",
       "        vertical-align: top;\n",
       "    }\n",
       "\n",
       "    .dataframe thead th {\n",
       "        text-align: right;\n",
       "    }\n",
       "</style>\n",
       "<table border=\"1\" class=\"dataframe\">\n",
       "  <thead>\n",
       "    <tr style=\"text-align: right;\">\n",
       "      <th></th>\n",
       "      <th>Actual_Return</th>\n",
       "      <th>Predicted_Return</th>\n",
       "      <th>Close_S&amp;P500</th>\n",
       "      <th>Predicted_Close</th>\n",
       "    </tr>\n",
       "    <tr>\n",
       "      <th>Date</th>\n",
       "      <th></th>\n",
       "      <th></th>\n",
       "      <th></th>\n",
       "      <th></th>\n",
       "    </tr>\n",
       "  </thead>\n",
       "  <tbody>\n",
       "    <tr>\n",
       "      <th>2014-11-18</th>\n",
       "      <td>0.005121</td>\n",
       "      <td>-0.000103</td>\n",
       "      <td>2051.800049</td>\n",
       "      <td>NaN</td>\n",
       "    </tr>\n",
       "    <tr>\n",
       "      <th>2014-11-19</th>\n",
       "      <td>-0.001502</td>\n",
       "      <td>-0.000094</td>\n",
       "      <td>2048.719971</td>\n",
       "      <td>2051.607074</td>\n",
       "    </tr>\n",
       "    <tr>\n",
       "      <th>2014-11-20</th>\n",
       "      <td>0.001965</td>\n",
       "      <td>-0.000083</td>\n",
       "      <td>2052.750000</td>\n",
       "      <td>2048.550660</td>\n",
       "    </tr>\n",
       "    <tr>\n",
       "      <th>2014-11-21</th>\n",
       "      <td>0.005223</td>\n",
       "      <td>-0.000075</td>\n",
       "      <td>2063.500000</td>\n",
       "      <td>2052.595963</td>\n",
       "    </tr>\n",
       "    <tr>\n",
       "      <th>2014-11-24</th>\n",
       "      <td>0.002860</td>\n",
       "      <td>-0.000084</td>\n",
       "      <td>2069.409912</td>\n",
       "      <td>2063.326855</td>\n",
       "    </tr>\n",
       "    <tr>\n",
       "      <th>...</th>\n",
       "      <td>...</td>\n",
       "      <td>...</td>\n",
       "      <td>...</td>\n",
       "      <td>...</td>\n",
       "    </tr>\n",
       "    <tr>\n",
       "      <th>2022-12-23</th>\n",
       "      <td>0.005851</td>\n",
       "      <td>0.000327</td>\n",
       "      <td>3844.820068</td>\n",
       "      <td>3823.639714</td>\n",
       "    </tr>\n",
       "    <tr>\n",
       "      <th>2022-12-27</th>\n",
       "      <td>-0.004058</td>\n",
       "      <td>0.000233</td>\n",
       "      <td>3829.250000</td>\n",
       "      <td>3845.715493</td>\n",
       "    </tr>\n",
       "    <tr>\n",
       "      <th>2022-12-28</th>\n",
       "      <td>-0.012093</td>\n",
       "      <td>0.000140</td>\n",
       "      <td>3783.219971</td>\n",
       "      <td>3829.787902</td>\n",
       "    </tr>\n",
       "    <tr>\n",
       "      <th>2022-12-29</th>\n",
       "      <td>0.017311</td>\n",
       "      <td>0.000151</td>\n",
       "      <td>3849.280029</td>\n",
       "      <td>3783.790142</td>\n",
       "    </tr>\n",
       "    <tr>\n",
       "      <th>2022-12-30</th>\n",
       "      <td>-0.002544</td>\n",
       "      <td>0.000240</td>\n",
       "      <td>3839.500000</td>\n",
       "      <td>3850.205294</td>\n",
       "    </tr>\n",
       "  </tbody>\n",
       "</table>\n",
       "<p>2043 rows × 4 columns</p>\n",
       "</div>"
      ],
      "text/plain": [
       "            Actual_Return  Predicted_Return  Close_S&P500  Predicted_Close\n",
       "Date                                                                      \n",
       "2014-11-18       0.005121         -0.000103   2051.800049              NaN\n",
       "2014-11-19      -0.001502         -0.000094   2048.719971      2051.607074\n",
       "2014-11-20       0.001965         -0.000083   2052.750000      2048.550660\n",
       "2014-11-21       0.005223         -0.000075   2063.500000      2052.595963\n",
       "2014-11-24       0.002860         -0.000084   2069.409912      2063.326855\n",
       "...                   ...               ...           ...              ...\n",
       "2022-12-23       0.005851          0.000327   3844.820068      3823.639714\n",
       "2022-12-27      -0.004058          0.000233   3829.250000      3845.715493\n",
       "2022-12-28      -0.012093          0.000140   3783.219971      3829.787902\n",
       "2022-12-29       0.017311          0.000151   3849.280029      3783.790142\n",
       "2022-12-30      -0.002544          0.000240   3839.500000      3850.205294\n",
       "\n",
       "[2043 rows x 4 columns]"
      ]
     },
     "execution_count": 63,
     "metadata": {},
     "output_type": "execute_result"
    }
   ],
   "source": [
    "return_results['Close_S&P500'] = full_results['Close_S&P500'].iloc[training_size:].values\n",
    "return_results[\"Predicted_Close\"] = np.exp(np.log(return_results['Close_S&P500'].shift(1)) + return_results['Predicted_Return'])\n",
    "return_results "
   ]
  },
  {
   "cell_type": "code",
   "execution_count": 64,
   "id": "f865b588",
   "metadata": {},
   "outputs": [
    {
     "name": "stdout",
     "output_type": "stream",
     "text": [
      "Mean Squared Error of Price Prediction (GRU): 1346.5344010912138\n"
     ]
    }
   ],
   "source": [
    "return_results.dropna(inplace=True)\n",
    "mse_price = mean_squared_error(return_results['Close_S&P500'], return_results['Predicted_Close'])\n",
    "print(\"Mean Squared Error of Price Prediction (GRU):\", mse_price)"
   ]
  }
 ],
 "metadata": {
  "kernelspec": {
   "display_name": "Python 3",
   "language": "python",
   "name": "python3"
  },
  "language_info": {
   "codemirror_mode": {
    "name": "ipython",
    "version": 3
   },
   "file_extension": ".py",
   "mimetype": "text/x-python",
   "name": "python",
   "nbconvert_exporter": "python",
   "pygments_lexer": "ipython3",
   "version": "3.11.9"
  }
 },
 "nbformat": 4,
 "nbformat_minor": 5
}
