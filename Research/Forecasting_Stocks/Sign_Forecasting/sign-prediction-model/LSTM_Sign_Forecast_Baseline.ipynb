{
 "cells": [
  {
   "cell_type": "code",
   "execution_count": 1,
   "id": "e9d93d47",
   "metadata": {},
   "outputs": [],
   "source": [
    "import yfinance as yf\n",
    "import numpy as np\n",
    "import pandas as pd\n",
    "import arch\n",
    "import matplotlib.pyplot as plt"
   ]
  },
  {
   "cell_type": "code",
   "execution_count": 2,
   "id": "e0b3a7de",
   "metadata": {},
   "outputs": [
    {
     "name": "stderr",
     "output_type": "stream",
     "text": [
      "C:\\Users\\jdobe\\AppData\\Local\\Temp\\ipykernel_11836\\2793084089.py:2: FutureWarning: YF.download() has changed argument auto_adjust default to True\n",
      "  data = yf.download(ticker, start=\"1960-01-01\", end=\"2023-01-01\")\n",
      "[*********************100%***********************]  1 of 1 completed\n"
     ]
    }
   ],
   "source": [
    "ticker = \"^GSPC\"\n",
    "data = yf.download(ticker, start=\"1960-01-01\", end=\"2023-01-01\")"
   ]
  },
  {
   "cell_type": "code",
   "execution_count": 3,
   "id": "771d525b",
   "metadata": {},
   "outputs": [
    {
     "name": "stdout",
     "output_type": "stream",
     "text": [
      "Price           Close       High        Low       Open   Volume\n",
      "Ticker          ^GSPC      ^GSPC      ^GSPC      ^GSPC    ^GSPC\n",
      "Date                                                           \n",
      "1960-01-04  59.910000  59.910000  59.910000  59.910000  3990000\n",
      "1960-01-05  60.389999  60.389999  60.389999  60.389999  3710000\n",
      "1960-01-06  60.130001  60.130001  60.130001  60.130001  3730000\n",
      "1960-01-07  59.689999  59.689999  59.689999  59.689999  3310000\n",
      "1960-01-08  59.500000  59.500000  59.500000  59.500000  3290000\n",
      "(15858, 5)\n"
     ]
    }
   ],
   "source": [
    "print(data.head())\n",
    "print(data.shape)"
   ]
  },
  {
   "cell_type": "code",
   "execution_count": 4,
   "id": "f37a7439",
   "metadata": {},
   "outputs": [],
   "source": [
    "# Create variable Log Returns and further\n",
    "data[\"DailyReturn\"] = np.log(data[\"Close\"]).diff()\n",
    "data['Sign_1d'] = (data['DailyReturn'] > 0).astype(int)\n",
    "data = data.iloc[1:]"
   ]
  },
  {
   "cell_type": "code",
   "execution_count": 5,
   "id": "e97f2d75",
   "metadata": {},
   "outputs": [
    {
     "name": "stdout",
     "output_type": "stream",
     "text": [
      "Iteration:      1,   Func. Count:      6,   Neg. LLF: 923796090312.3402\n",
      "Iteration:      2,   Func. Count:     14,   Neg. LLF: 12188402.664294241\n",
      "Iteration:      3,   Func. Count:     21,   Neg. LLF: 56316.15451782483\n",
      "Iteration:      4,   Func. Count:     27,   Neg. LLF: 56192.376620714\n",
      "Iteration:      5,   Func. Count:     33,   Neg. LLF: 5583550820.0031395\n",
      "Iteration:      6,   Func. Count:     39,   Neg. LLF: 56370.391117195555\n",
      "Iteration:      7,   Func. Count:     45,   Neg. LLF: 56169.7555719136\n",
      "Iteration:      8,   Func. Count:     51,   Neg. LLF: 56178.99098546479\n",
      "Iteration:      9,   Func. Count:     57,   Neg. LLF: 56157.648427601016\n",
      "Iteration:     10,   Func. Count:     62,   Neg. LLF: 56157.628385307726\n",
      "Iteration:     11,   Func. Count:     67,   Neg. LLF: 56157.628269854904\n",
      "Iteration:     12,   Func. Count:     72,   Neg. LLF: 56157.628261777616\n",
      "Iteration:     13,   Func. Count:     76,   Neg. LLF: 56157.62826177861\n",
      "Optimization terminated successfully    (Exit mode 0)\n",
      "            Current function value: 56157.628261777616\n",
      "            Iterations: 13\n",
      "            Function evaluations: 76\n",
      "            Gradient evaluations: 13\n"
     ]
    }
   ],
   "source": [
    "model = arch.arch_model(data[\"DailyReturn\"]*1000, vol=\"GARCH\", p=1, q=1)\n",
    "model_fit = model.fit()"
   ]
  },
  {
   "cell_type": "code",
   "execution_count": 6,
   "id": "ae5e09de",
   "metadata": {},
   "outputs": [
    {
     "data": {
      "text/html": [
       "<div>\n",
       "<style scoped>\n",
       "    .dataframe tbody tr th:only-of-type {\n",
       "        vertical-align: middle;\n",
       "    }\n",
       "\n",
       "    .dataframe tbody tr th {\n",
       "        vertical-align: top;\n",
       "    }\n",
       "\n",
       "    .dataframe thead tr th {\n",
       "        text-align: left;\n",
       "    }\n",
       "\n",
       "    .dataframe thead tr:last-of-type th {\n",
       "        text-align: right;\n",
       "    }\n",
       "</style>\n",
       "<table border=\"1\" class=\"dataframe\">\n",
       "  <thead>\n",
       "    <tr>\n",
       "      <th>Price</th>\n",
       "      <th>Close</th>\n",
       "      <th>High</th>\n",
       "      <th>Low</th>\n",
       "      <th>Open</th>\n",
       "      <th>Volume</th>\n",
       "      <th>DailyReturn</th>\n",
       "      <th>Sign_1d</th>\n",
       "      <th>GARCH_volatility</th>\n",
       "      <th>inv_vol</th>\n",
       "    </tr>\n",
       "    <tr>\n",
       "      <th>Ticker</th>\n",
       "      <th>^GSPC</th>\n",
       "      <th>^GSPC</th>\n",
       "      <th>^GSPC</th>\n",
       "      <th>^GSPC</th>\n",
       "      <th>^GSPC</th>\n",
       "      <th></th>\n",
       "      <th></th>\n",
       "      <th></th>\n",
       "      <th></th>\n",
       "    </tr>\n",
       "    <tr>\n",
       "      <th>Date</th>\n",
       "      <th></th>\n",
       "      <th></th>\n",
       "      <th></th>\n",
       "      <th></th>\n",
       "      <th></th>\n",
       "      <th></th>\n",
       "      <th></th>\n",
       "      <th></th>\n",
       "      <th></th>\n",
       "    </tr>\n",
       "  </thead>\n",
       "  <tbody>\n",
       "    <tr>\n",
       "      <th>1960-01-05</th>\n",
       "      <td>60.389999</td>\n",
       "      <td>60.389999</td>\n",
       "      <td>60.389999</td>\n",
       "      <td>60.389999</td>\n",
       "      <td>3710000</td>\n",
       "      <td>0.007980</td>\n",
       "      <td>1</td>\n",
       "      <td>7.376043</td>\n",
       "      <td>0.135574</td>\n",
       "    </tr>\n",
       "    <tr>\n",
       "      <th>1960-01-06</th>\n",
       "      <td>60.130001</td>\n",
       "      <td>60.130001</td>\n",
       "      <td>60.130001</td>\n",
       "      <td>60.130001</td>\n",
       "      <td>3730000</td>\n",
       "      <td>-0.004315</td>\n",
       "      <td>0</td>\n",
       "      <td>7.429550</td>\n",
       "      <td>0.134598</td>\n",
       "    </tr>\n",
       "    <tr>\n",
       "      <th>1960-01-07</th>\n",
       "      <td>59.689999</td>\n",
       "      <td>59.689999</td>\n",
       "      <td>59.689999</td>\n",
       "      <td>59.689999</td>\n",
       "      <td>3310000</td>\n",
       "      <td>-0.007344</td>\n",
       "      <td>0</td>\n",
       "      <td>7.262138</td>\n",
       "      <td>0.137701</td>\n",
       "    </tr>\n",
       "    <tr>\n",
       "      <th>1960-01-08</th>\n",
       "      <td>59.500000</td>\n",
       "      <td>59.500000</td>\n",
       "      <td>59.500000</td>\n",
       "      <td>59.500000</td>\n",
       "      <td>3290000</td>\n",
       "      <td>-0.003188</td>\n",
       "      <td>0</td>\n",
       "      <td>7.365763</td>\n",
       "      <td>0.135763</td>\n",
       "    </tr>\n",
       "    <tr>\n",
       "      <th>1960-01-11</th>\n",
       "      <td>58.770000</td>\n",
       "      <td>58.770000</td>\n",
       "      <td>58.770000</td>\n",
       "      <td>58.770000</td>\n",
       "      <td>3470000</td>\n",
       "      <td>-0.012345</td>\n",
       "      <td>0</td>\n",
       "      <td>7.138952</td>\n",
       "      <td>0.140077</td>\n",
       "    </tr>\n",
       "  </tbody>\n",
       "</table>\n",
       "</div>"
      ],
      "text/plain": [
       "Price           Close       High        Low       Open   Volume DailyReturn  \\\n",
       "Ticker          ^GSPC      ^GSPC      ^GSPC      ^GSPC    ^GSPC               \n",
       "Date                                                                          \n",
       "1960-01-05  60.389999  60.389999  60.389999  60.389999  3710000    0.007980   \n",
       "1960-01-06  60.130001  60.130001  60.130001  60.130001  3730000   -0.004315   \n",
       "1960-01-07  59.689999  59.689999  59.689999  59.689999  3310000   -0.007344   \n",
       "1960-01-08  59.500000  59.500000  59.500000  59.500000  3290000   -0.003188   \n",
       "1960-01-11  58.770000  58.770000  58.770000  58.770000  3470000   -0.012345   \n",
       "\n",
       "Price      Sign_1d GARCH_volatility   inv_vol  \n",
       "Ticker                                         \n",
       "Date                                           \n",
       "1960-01-05       1         7.376043  0.135574  \n",
       "1960-01-06       0         7.429550  0.134598  \n",
       "1960-01-07       0         7.262138  0.137701  \n",
       "1960-01-08       0         7.365763  0.135763  \n",
       "1960-01-11       0         7.138952  0.140077  "
      ]
     },
     "execution_count": 6,
     "metadata": {},
     "output_type": "execute_result"
    }
   ],
   "source": [
    "data['GARCH_volatility'] = model_fit.conditional_volatility\n",
    "data['inv_vol'] = 1 / data['GARCH_volatility']\n",
    "data.head()"
   ]
  },
  {
   "cell_type": "markdown",
   "id": "2d1e47c1",
   "metadata": {},
   "source": [
    "# Deep Learning"
   ]
  },
  {
   "cell_type": "code",
   "execution_count": 7,
   "id": "0ee9295a",
   "metadata": {},
   "outputs": [],
   "source": [
    "import torch\n",
    "import torch.nn as nn\n",
    "import torch.optim as optim\n",
    "from torch.utils.data import TensorDataset, DataLoader\n",
    "import random\n",
    "from sklearn.preprocessing import StandardScaler\n",
    "\n",
    "torch.manual_seed(42)\n",
    "np.random.seed(42)\n",
    "random.seed(42)"
   ]
  },
  {
   "cell_type": "markdown",
   "id": "3d003bdb",
   "metadata": {},
   "source": [
    "The window size is actually quite important, because it determines how many lags should be considered. "
   ]
  },
  {
   "cell_type": "code",
   "execution_count": 8,
   "id": "3e22b5dc",
   "metadata": {},
   "outputs": [],
   "source": [
    "NUMBER_OF_LAGS = 20  # number of lagged observations\n",
    "TRAIN_SIZE = 5000\n",
    "HIDDEN_DIM = 16\n",
    "NUM_LAYERS = 1\n",
    "DROPOUT = 0.0\n",
    "BATCH_SIZE = 5000\n",
    "NUMBER_OF_EPOCHS = 50\n",
    "CLASSIFICATION_THRESHOLD = 0.5"
   ]
  },
  {
   "cell_type": "code",
   "execution_count": 9,
   "id": "d6a9fafa",
   "metadata": {},
   "outputs": [],
   "source": [
    "data = data.copy()\n",
    "\n",
    "# Add lagged returns as features\n",
    "data['Lag1'] = data['DailyReturn'].shift(1)\n",
    "\n",
    "data = data.dropna()\n",
    "\n",
    "# Feature matrix: inv_vol + lagged returns\n",
    "features = np.column_stack([\n",
    "    data['GARCH_volatility'].values,\n",
    "    data['Lag1'].values\n",
    "])\n",
    "\n",
    "input_variables = features.shape[1]\n",
    "\n",
    "scaler = StandardScaler()\n",
    "features_scaled = scaler.fit_transform(features)"
   ]
  },
  {
   "cell_type": "markdown",
   "id": "4cb52ede",
   "metadata": {},
   "source": [
    "Currently, the past returns and inverse volatility are used for predicting the next return. This might not be economically sensible as many people believe returns are independent and form a martingale difference sequence (MDS). "
   ]
  },
  {
   "cell_type": "code",
   "execution_count": 10,
   "id": "7ea9e899",
   "metadata": {},
   "outputs": [
    {
     "data": {
      "text/plain": [
       "array([[ 7.42955007e+00,  7.98008466e-03],\n",
       "       [ 7.26213762e+00, -4.31461540e-03],\n",
       "       [ 7.36576344e+00, -7.34442364e-03],\n",
       "       ...,\n",
       "       [ 1.20469256e+01, -4.05784403e-03],\n",
       "       [ 1.20998034e+01, -1.20934704e-02],\n",
       "       [ 1.26312890e+01,  1.73106343e-02]], shape=(15856, 2))"
      ]
     },
     "execution_count": 10,
     "metadata": {},
     "output_type": "execute_result"
    }
   ],
   "source": [
    "features"
   ]
  },
  {
   "cell_type": "markdown",
   "id": "525080c2",
   "metadata": {},
   "source": [
    "By using StandardScaler, each variable will be standard normally distributed."
   ]
  },
  {
   "cell_type": "code",
   "execution_count": 11,
   "id": "1b2d0ec1",
   "metadata": {},
   "outputs": [],
   "source": [
    "# Create lagged feature matrix for LSTM\n",
    "def create_lagged_matrix_multifeature(X, window):\n",
    "    out = []\n",
    "    for i in range(window, len(X)):\n",
    "        out.append(X[i-window:i, :])\n",
    "    return np.array(out)\n",
    "\n",
    "X_lagged = create_lagged_matrix_multifeature(features_scaled, NUMBER_OF_LAGS)\n",
    "y_target = data['Sign_1d'].values[NUMBER_OF_LAGS:]"
   ]
  },
  {
   "cell_type": "code",
   "execution_count": 12,
   "id": "52431ba0",
   "metadata": {},
   "outputs": [],
   "source": [
    "# Split train/test\n",
    "X_train = X_lagged[:TRAIN_SIZE]\n",
    "y_train = y_target[:TRAIN_SIZE]\n",
    "X_test = X_lagged[TRAIN_SIZE:]\n",
    "y_test = y_target[TRAIN_SIZE:]\n",
    "\n",
    "# Convert to torch tensors\n",
    "X_train_t = torch.tensor(X_train, dtype=torch.float32)\n",
    "y_train_t = torch.tensor(y_train.reshape(-1, 1), dtype=torch.float32)\n",
    "X_test_t = torch.tensor(X_test, dtype=torch.float32)"
   ]
  },
  {
   "cell_type": "markdown",
   "id": "55862638",
   "metadata": {},
   "source": [
    "## Define LSTM Model"
   ]
  },
  {
   "cell_type": "code",
   "execution_count": 13,
   "id": "d6159de9",
   "metadata": {},
   "outputs": [],
   "source": [
    "class SimpleLSTM(nn.Module):\n",
    "    def __init__(self, input_dim=1, hidden_dim=16, num_layers=1, dropout=0.0):\n",
    "        super(SimpleLSTM, self).__init__()\n",
    "        self.lstm = nn.LSTM(input_dim, hidden_dim, num_layers, batch_first=True, dropout=0.0)\n",
    "        self.fc = nn.Linear(hidden_dim, 1)\n",
    "        self.sigmoid = nn.Sigmoid()\n",
    "    def forward(self, x):\n",
    "        out, _ = self.lstm(x)\n",
    "        out = out[:, -1, :]\n",
    "        out = self.fc(out)\n",
    "        return self.sigmoid(out)\n",
    "\n",
    "model = SimpleLSTM(input_dim=input_variables, hidden_dim=HIDDEN_DIM, num_layers=NUM_LAYERS, dropout=DROPOUT)\n",
    "optimizer = optim.Adam(model.parameters(), lr=0.01)\n",
    "criterion = nn.BCELoss()"
   ]
  },
  {
   "cell_type": "code",
   "execution_count": 14,
   "id": "bb86a56e",
   "metadata": {},
   "outputs": [
    {
     "data": {
      "text/plain": [
       "SimpleLSTM(\n",
       "  (lstm): LSTM(2, 16, batch_first=True)\n",
       "  (fc): Linear(in_features=16, out_features=1, bias=True)\n",
       "  (sigmoid): Sigmoid()\n",
       ")"
      ]
     },
     "execution_count": 14,
     "metadata": {},
     "output_type": "execute_result"
    }
   ],
   "source": [
    "model"
   ]
  },
  {
   "cell_type": "markdown",
   "id": "e1f0b773",
   "metadata": {},
   "source": [
    "## Model Training"
   ]
  },
  {
   "cell_type": "markdown",
   "id": "cd08cdf2",
   "metadata": {},
   "source": [
    "X_train_t contains batch size, sequence length (number of lags) and number of variables.\n",
    "Pytorch automatically calls forward()-method when input is given to the model."
   ]
  },
  {
   "cell_type": "code",
   "execution_count": 15,
   "id": "c5a311ed",
   "metadata": {},
   "outputs": [
    {
     "name": "stdout",
     "output_type": "stream",
     "text": [
      "Epoch 0: loss = 0.7143\n",
      "Epoch 10: loss = 0.6918\n",
      "Epoch 20: loss = 0.6915\n",
      "Epoch 30: loss = 0.6910\n",
      "Epoch 40: loss = 0.6906\n"
     ]
    }
   ],
   "source": [
    "train_dataset = TensorDataset(X_train_t, y_train_t)\n",
    "train_loader = DataLoader(train_dataset, batch_size=BATCH_SIZE, shuffle=True)\n",
    "\n",
    "model.train()\n",
    "for epoch in range(NUMBER_OF_EPOCHS):     # number of seeing the training data for learning parameters\n",
    "    for X_batch, y_batch in train_loader:\n",
    "        optimizer.zero_grad()\n",
    "        y_pred = model(X_batch)\n",
    "        loss = criterion(y_pred, y_batch)\n",
    "        loss.backward()\n",
    "        optimizer.step()\n",
    "    if epoch % 10 == 0:\n",
    "        print(f\"Epoch {epoch}: loss = {loss.item():.4f}\")"
   ]
  },
  {
   "cell_type": "markdown",
   "id": "8125a42c",
   "metadata": {},
   "source": [
    "### Out of sample Prediction"
   ]
  },
  {
   "cell_type": "code",
   "execution_count": 16,
   "id": "0cff9edb",
   "metadata": {},
   "outputs": [],
   "source": [
    "model.eval()\n",
    "with torch.no_grad():\n",
    "    y_pred_test = model(X_test_t).squeeze().numpy()\n",
    "    y_pred_sign = (y_pred_test > CLASSIFICATION_THRESHOLD).astype(int)\n",
    "\n",
    "# --- Results ---\n",
    "results = pd.DataFrame({\n",
    "    'Actual': y_test,\n",
    "    'Predicted': y_pred_sign,\n",
    "    'Probability': y_pred_test\n",
    "}, index=data.index[NUMBER_OF_LAGS+TRAIN_SIZE:])"
   ]
  },
  {
   "cell_type": "code",
   "execution_count": 17,
   "id": "90bdf812",
   "metadata": {},
   "outputs": [
    {
     "name": "stdout",
     "output_type": "stream",
     "text": [
      "Classification Report:\n",
      "              precision    recall  f1-score   support\n",
      "\n",
      "           0       0.48      0.39      0.43      5063\n",
      "           1       0.54      0.63      0.58      5773\n",
      "\n",
      "    accuracy                           0.51     10836\n",
      "   macro avg       0.51      0.51      0.50     10836\n",
      "weighted avg       0.51      0.51      0.51     10836\n",
      "\n",
      "Accuracy: 0.5148578811369509\n"
     ]
    }
   ],
   "source": [
    "from sklearn.metrics import classification_report, accuracy_score\n",
    "\n",
    "# Classification report\n",
    "print(\"Classification Report:\")\n",
    "print(classification_report(results['Actual'], results['Predicted']))\n",
    "print(\"Accuracy:\", accuracy_score(results['Actual'], results['Predicted']))"
   ]
  },
  {
   "cell_type": "code",
   "execution_count": 18,
   "id": "95fdfb04",
   "metadata": {},
   "outputs": [
    {
     "data": {
      "text/plain": [
       "Text(0.5, 1.0, 'Predicted Probability of Positive Return')"
      ]
     },
     "execution_count": 18,
     "metadata": {},
     "output_type": "execute_result"
    },
    {
     "data": {
      "image/png": "[encoded data removed]",
      "text/plain": [
       "<Figure size 640x480 with 1 Axes>"
      ]
     },
     "metadata": {},
     "output_type": "display_data"
    }
   ],
   "source": [
    "results[\"Probability\"].plot()\n",
    "plt.title(\"Predicted Probability of Positive Return\")\n",
    "#plt.ylim(0, 1)"
   ]
  }
 ],
 "metadata": {
  "kernelspec": {
   "display_name": "Python 3",
   "language": "python",
   "name": "python3"
  },
  "language_info": {
   "codemirror_mode": {
    "name": "ipython",
    "version": 3
   },
   "file_extension": ".py",
   "mimetype": "text/x-python",
   "name": "python",
   "nbconvert_exporter": "python",
   "pygments_lexer": "ipython3",
   "version": "3.11.9"
  }
 },
 "nbformat": 4,
 "nbformat_minor": 5
}
