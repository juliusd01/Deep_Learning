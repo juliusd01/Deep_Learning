{
 "cells": [
  {
   "cell_type": "code",
   "execution_count": 181,
   "id": "e9d93d47",
   "metadata": {},
   "outputs": [],
   "source": [
    "import yfinance as yf\n",
    "import numpy as np\n",
    "import pandas as pd\n",
    "import arch\n",
    "import matplotlib.pyplot as plt"
   ]
  },
  {
   "cell_type": "code",
   "execution_count": 182,
   "id": "e0b3a7de",
   "metadata": {},
   "outputs": [
    {
     "name": "stderr",
     "output_type": "stream",
     "text": [
      "C:\\Users\\jdobe\\AppData\\Local\\Temp\\ipykernel_17672\\2274404261.py:2: FutureWarning: YF.download() has changed argument auto_adjust default to True\n",
      "  data = yf.download(ticker, start=\"1962-01-02\", end=\"2023-01-01\")\n",
      "[*********************100%***********************]  1 of 1 completed\n"
     ]
    }
   ],
   "source": [
    "ticker = \"^GSPC\"\n",
    "data = yf.download(ticker, start=\"1962-01-02\", end=\"2023-01-01\")"
   ]
  },
  {
   "cell_type": "code",
   "execution_count": 183,
   "id": "771d525b",
   "metadata": {},
   "outputs": [
    {
     "name": "stdout",
     "output_type": "stream",
     "text": [
      "Price           Close       High        Low       Open   Volume\n",
      "Ticker          ^GSPC      ^GSPC      ^GSPC      ^GSPC    ^GSPC\n",
      "Date                                                           \n",
      "1962-01-02  70.959999  71.959999  70.709999  71.550003  3120000\n",
      "1962-01-03  71.129997  71.480003  70.379997  70.959999  3590000\n",
      "1962-01-04  70.639999  71.620003  70.449997  71.129997  4450000\n",
      "1962-01-05  69.660004  70.839996  69.349998  70.639999  4630000\n",
      "1962-01-08  69.120003  69.839996  68.169998  69.660004  4620000\n",
      "(15356, 5)\n"
     ]
    }
   ],
   "source": [
    "print(data.head())\n",
    "print(data.shape)"
   ]
  },
  {
   "cell_type": "code",
   "execution_count": 184,
   "id": "f37a7439",
   "metadata": {},
   "outputs": [],
   "source": [
    "# Create variable Log Returns and further\n",
    "data[\"DailyReturn\"] = np.log(data[\"Close\"]).diff()\n",
    "data['Sign_1d'] = (data['DailyReturn'] > 0).astype(int)\n",
    "data['Volume_change'] = np.log(data['Volume']).diff()\n",
    "data['Trading_range'] = np.log(data['High'] / data['Low'])\n",
    "\n",
    "data = data.iloc[1:]"
   ]
  },
  {
   "cell_type": "code",
   "execution_count": 185,
   "id": "e97f2d75",
   "metadata": {},
   "outputs": [
    {
     "name": "stdout",
     "output_type": "stream",
     "text": [
      "Iteration:      1,   Func. Count:      6,   Neg. LLF: 780727851372.1755\n",
      "Iteration:      2,   Func. Count:     14,   Neg. LLF: 18031389.150344383\n",
      "Iteration:      3,   Func. Count:     21,   Neg. LLF: 54663.01721751453\n",
      "Iteration:      4,   Func. Count:     27,   Neg. LLF: 54549.42168044949\n",
      "Iteration:      5,   Func. Count:     33,   Neg. LLF: 56596.042303034905\n",
      "Iteration:      6,   Func. Count:     39,   Neg. LLF: 54588.092763351\n",
      "Iteration:      7,   Func. Count:     45,   Neg. LLF: 54518.354737768575\n",
      "Iteration:      8,   Func. Count:     51,   Neg. LLF: 54565.79750354307\n",
      "Iteration:      9,   Func. Count:     57,   Neg. LLF: 54511.77134661394\n",
      "Iteration:     10,   Func. Count:     62,   Neg. LLF: 54511.761345715364\n",
      "Iteration:     11,   Func. Count:     67,   Neg. LLF: 54511.76129966311\n",
      "Iteration:     12,   Func. Count:     72,   Neg. LLF: 54511.7612991028\n",
      "Optimization terminated successfully    (Exit mode 0)\n",
      "            Current function value: 54511.7612991028\n",
      "            Iterations: 12\n",
      "            Function evaluations: 72\n",
      "            Gradient evaluations: 12\n"
     ]
    }
   ],
   "source": [
    "model = arch.arch_model(data[\"DailyReturn\"]*1000, vol=\"GARCH\", p=1, q=1)\n",
    "model_fit = model.fit()"
   ]
  },
  {
   "cell_type": "markdown",
   "id": "2d1e47c1",
   "metadata": {},
   "source": [
    "# Deep Learning"
   ]
  },
  {
   "cell_type": "code",
   "execution_count": 186,
   "id": "0ee9295a",
   "metadata": {},
   "outputs": [],
   "source": [
    "import torch\n",
    "import torch.nn as nn\n",
    "import torch.optim as optim\n",
    "from torch.utils.data import TensorDataset, DataLoader\n",
    "import random\n",
    "from sklearn.preprocessing import StandardScaler\n",
    "\n",
    "torch.manual_seed(42)\n",
    "np.random.seed(42)\n",
    "random.seed(42)"
   ]
  },
  {
   "cell_type": "code",
   "execution_count": 187,
   "id": "3e22b5dc",
   "metadata": {},
   "outputs": [],
   "source": [
    "NUMBER_OF_LAGS = 20  # number of lagged observations\n",
    "TRAIN_SIZE = 5000\n",
    "HIDDEN_DIM = 16\n",
    "NUM_LAYERS = 1\n",
    "DROPOUT = 0.0\n",
    "BATCH_SIZE = 5000\n",
    "NUMBER_OF_EPOCHS = 50\n",
    "CLASSIFICATION_THRESHOLD = 0.5"
   ]
  },
  {
   "cell_type": "markdown",
   "id": "5fa17993",
   "metadata": {},
   "source": [
    "TODO: Add more variables"
   ]
  },
  {
   "cell_type": "markdown",
   "id": "b079c64e",
   "metadata": {},
   "source": [
    "10 Year US Treasury Bills (Ticker: ^TNX)"
   ]
  },
  {
   "cell_type": "code",
   "execution_count": 188,
   "id": "8c26ef06",
   "metadata": {},
   "outputs": [
    {
     "name": "stderr",
     "output_type": "stream",
     "text": [
      "C:\\Users\\jdobe\\AppData\\Local\\Temp\\ipykernel_17672\\1516876090.py:1: FutureWarning: YF.download() has changed argument auto_adjust default to True\n",
      "  ten_y_tbill = yf.download(\"^TNX\", start=\"1962-01-02\", end=\"2023-01-01\")\n",
      "[*********************100%***********************]  1 of 1 completed\n",
      "C:\\Users\\jdobe\\AppData\\Local\\Temp\\ipykernel_17672\\1516876090.py:2: FutureWarning: YF.download() has changed argument auto_adjust default to True\n",
      "  three_month_tbill = yf.download(\"^IRX\", start=\"1962-01-02\", end=\"2023-01-01\")\n",
      "[*********************100%***********************]  1 of 1 completed"
     ]
    },
    {
     "name": "stdout",
     "output_type": "stream",
     "text": [
      "Index(['Close_GSPC', 'High_GSPC', 'Low_GSPC', 'Open_GSPC', 'Volume_GSPC',\n",
      "       'DailyReturn', 'Sign_1d', 'Volume_change', 'Trading_range',\n",
      "       'ten_y_tnotes', 'three_months_tbills'],\n",
      "      dtype='object') \n",
      "--------\n",
      "             Close_GSPC  High_GSPC   Low_GSPC  Open_GSPC  Volume_GSPC  \\\n",
      "Date                                                                   \n",
      "1962-01-03   71.129997  71.480003  70.379997  70.959999      3590000   \n",
      "1962-01-04   70.639999  71.620003  70.449997  71.129997      4450000   \n",
      "1962-01-05   69.660004  70.839996  69.349998  70.639999      4630000   \n",
      "1962-01-08   69.120003  69.839996  68.169998  69.660004      4620000   \n",
      "1962-01-09   69.150002  69.930000  68.830002  69.120003      3600000   \n",
      "\n",
      "            DailyReturn  Sign_1d  Volume_change  Trading_range  ten_y_tnotes  \\\n",
      "Date                                                                           \n",
      "1962-01-03     0.002393        1       0.140319       0.015509          4.03   \n",
      "1962-01-04    -0.006913        0       0.214752       0.016471          3.99   \n",
      "1962-01-05    -0.013970        0       0.039653       0.021258          4.02   \n",
      "1962-01-08    -0.007782        0      -0.002162       0.024202          4.03   \n",
      "1962-01-09     0.000434        1      -0.249461       0.015855          4.05   \n",
      "\n",
      "            three_months_tbills  \n",
      "Date                             \n",
      "1962-01-03                 2.73  \n",
      "1962-01-04                 2.72  \n",
      "1962-01-05                 2.74  \n",
      "1962-01-08                 2.78  \n",
      "1962-01-09                 2.78  \n"
     ]
    },
    {
     "name": "stderr",
     "output_type": "stream",
     "text": [
      "\n"
     ]
    }
   ],
   "source": [
    "ten_y_tbill = yf.download(\"^TNX\", start=\"1962-01-02\", end=\"2023-01-01\")\n",
    "three_month_tbill = yf.download(\"^IRX\", start=\"1962-01-02\", end=\"2023-01-01\")\n",
    "# merge Close price of interest rates with main data\n",
    "data = data.merge(ten_y_tbill[[\"Close\"]], left_index=True, right_index=True, how=\"left\", suffixes=('', '_TNX'))\n",
    "data = data.merge(three_month_tbill[[\"Close\"]], left_index=True, right_index=True, how=\"left\", suffixes=('', '_IRX'))\n",
    "\n",
    "# Drop MultiIndex in columns\n",
    "data.columns = ['_'.join([str(level) for level in col if level]).replace('^', '') for col in data.columns]\n",
    "data = data.rename(columns={\n",
    "    ('Close_TNX'): ('ten_y_tnotes'),   # or any new tuple you want\n",
    "    ('Close_IRX'): ('three_months_tbills')\n",
    "})\n",
    "print(data.columns, \"\\n--------\\n\", data.head())"
   ]
  },
  {
   "cell_type": "code",
   "execution_count": 189,
   "id": "d6a9fafa",
   "metadata": {},
   "outputs": [],
   "source": [
    "# Add lagged returns as features\n",
    "data['Lag1'] = data['DailyReturn'].shift(1)\n",
    "data['GARCH_volatility'] = model_fit.conditional_volatility\n",
    "\n",
    "data = data.dropna()\n",
    "\n",
    "# Feature matrix: inv_vol + lagged returns\n",
    "features = np.column_stack([\n",
    "    data['GARCH_volatility'].values,\n",
    "    data['Lag1'].values,\n",
    "    data['Volume_change'].values,\n",
    "    data['Trading_range'].values,\n",
    "    data['ten_y_tnotes'].values,\n",
    "    data['three_months_tbills'].values\n",
    "])\n",
    "\n",
    "input_variables = features.shape[1]\n",
    "\n",
    "scaler = StandardScaler()\n",
    "features_scaled = scaler.fit_transform(features)"
   ]
  },
  {
   "cell_type": "markdown",
   "id": "4cb52ede",
   "metadata": {},
   "source": [
    "Currently, the past returns and inverse volatility are used for predicting the next return. This might not be economically sensible as many people believe returns are independent and form a martingale difference sequence (MDS). "
   ]
  },
  {
   "cell_type": "code",
   "execution_count": 190,
   "id": "7ea9e899",
   "metadata": {},
   "outputs": [
    {
     "data": {
      "text/plain": [
       "array([[ 5.68052228e+00,  2.39282503e-03,  2.14751894e-01,\n",
       "         1.64712079e-02,  3.99000001e+00,  2.72000003e+00],\n",
       "       [ 5.93868951e+00, -6.91260248e-03,  3.96527719e-02,\n",
       "         2.12576365e-02,  4.01999998e+00,  2.74000001e+00],\n",
       "       [ 7.27679593e+00, -1.39702301e-02, -2.16216300e-03,\n",
       "         2.42023006e-02,  4.03000021e+00,  2.77999997e+00],\n",
       "       ...,\n",
       "       [ 1.20964653e+01, -4.05784403e-03,  1.74101770e-02,\n",
       "         1.77063619e-02,  3.88700008e+00,  4.33799982e+00],\n",
       "       [ 1.21473612e+01, -1.20934704e-02, -2.62335980e-02,\n",
       "         1.37639095e-02,  3.83500004e+00,  4.29500008e+00],\n",
       "       [ 1.26780394e+01,  1.73106343e-02, -7.95852819e-03,\n",
       "         1.03427692e-02,  3.87899995e+00,  4.26000023e+00]],\n",
       "      shape=(15233, 6))"
      ]
     },
     "execution_count": 190,
     "metadata": {},
     "output_type": "execute_result"
    }
   ],
   "source": [
    "features"
   ]
  },
  {
   "cell_type": "markdown",
   "id": "525080c2",
   "metadata": {},
   "source": [
    "By using StandardScaler, each variable will be standard normally distributed."
   ]
  },
  {
   "cell_type": "code",
   "execution_count": 191,
   "id": "1b2d0ec1",
   "metadata": {},
   "outputs": [],
   "source": [
    "# Create lagged feature matrix for LSTM\n",
    "def create_lagged_matrix_multifeature(X, window):\n",
    "    out = []\n",
    "    for i in range(window, len(X)):\n",
    "        out.append(X[i-window:i, :])\n",
    "    return np.array(out)\n",
    "\n",
    "X_lagged = create_lagged_matrix_multifeature(features_scaled, NUMBER_OF_LAGS)\n",
    "y_target = data['Sign_1d'].values[NUMBER_OF_LAGS:]"
   ]
  },
  {
   "cell_type": "code",
   "execution_count": 192,
   "id": "52431ba0",
   "metadata": {},
   "outputs": [],
   "source": [
    "# Split train/test\n",
    "X_train = X_lagged[:TRAIN_SIZE]\n",
    "y_train = y_target[:TRAIN_SIZE]\n",
    "X_test = X_lagged[TRAIN_SIZE:]\n",
    "y_test = y_target[TRAIN_SIZE:]\n",
    "\n",
    "# Convert to torch tensors\n",
    "X_train_t = torch.tensor(X_train, dtype=torch.float32)\n",
    "y_train_t = torch.tensor(y_train.reshape(-1, 1), dtype=torch.float32)\n",
    "X_test_t = torch.tensor(X_test, dtype=torch.float32)"
   ]
  },
  {
   "cell_type": "markdown",
   "id": "55862638",
   "metadata": {},
   "source": [
    "## Define LSTM Model"
   ]
  },
  {
   "cell_type": "code",
   "execution_count": 193,
   "id": "d6159de9",
   "metadata": {},
   "outputs": [],
   "source": [
    "class SimpleLSTM(nn.Module):\n",
    "    def __init__(self, input_dim=1, hidden_dim=16, num_layers=1, dropout=0.0):\n",
    "        super(SimpleLSTM, self).__init__()\n",
    "        self.lstm = nn.LSTM(input_dim, hidden_dim, num_layers, batch_first=True, dropout=0.0)\n",
    "        self.fc = nn.Linear(hidden_dim, 1)\n",
    "        self.sigmoid = nn.Sigmoid()\n",
    "    def forward(self, x):\n",
    "        out, _ = self.lstm(x)\n",
    "        out = out[:, -1, :]\n",
    "        out = self.fc(out)\n",
    "        return self.sigmoid(out)\n",
    "\n",
    "model = SimpleLSTM(input_dim=input_variables, hidden_dim=HIDDEN_DIM, num_layers=NUM_LAYERS, dropout=DROPOUT)\n",
    "optimizer = optim.Adam(model.parameters(), lr=0.01)\n",
    "criterion = nn.BCELoss()"
   ]
  },
  {
   "cell_type": "code",
   "execution_count": 194,
   "id": "bb86a56e",
   "metadata": {},
   "outputs": [
    {
     "data": {
      "text/plain": [
       "SimpleLSTM(\n",
       "  (lstm): LSTM(6, 16, batch_first=True)\n",
       "  (fc): Linear(in_features=16, out_features=1, bias=True)\n",
       "  (sigmoid): Sigmoid()\n",
       ")"
      ]
     },
     "execution_count": 194,
     "metadata": {},
     "output_type": "execute_result"
    }
   ],
   "source": [
    "model"
   ]
  },
  {
   "cell_type": "markdown",
   "id": "e1f0b773",
   "metadata": {},
   "source": [
    "## Model Training"
   ]
  },
  {
   "cell_type": "markdown",
   "id": "cd08cdf2",
   "metadata": {},
   "source": [
    "X_train_t contains batch size, sequence length (number of lags) and number of variables.\n",
    "Pytorch automatically calls forward()-method when input is given to the model."
   ]
  },
  {
   "cell_type": "code",
   "execution_count": 195,
   "id": "c5a311ed",
   "metadata": {},
   "outputs": [
    {
     "name": "stdout",
     "output_type": "stream",
     "text": [
      "Epoch 0: loss = 0.6928\n",
      "Epoch 10: loss = 0.6906\n",
      "Epoch 20: loss = 0.6871\n",
      "Epoch 30: loss = 0.6814\n",
      "Epoch 40: loss = 0.6749\n"
     ]
    }
   ],
   "source": [
    "train_dataset = TensorDataset(X_train_t, y_train_t)\n",
    "train_loader = DataLoader(train_dataset, batch_size=BATCH_SIZE, shuffle=True)\n",
    "\n",
    "model.train()\n",
    "for epoch in range(NUMBER_OF_EPOCHS):     # number of seeing the training data for learning parameters\n",
    "    for X_batch, y_batch in train_loader:\n",
    "        optimizer.zero_grad()\n",
    "        y_pred = model(X_batch)\n",
    "        loss = criterion(y_pred, y_batch)\n",
    "        loss.backward()\n",
    "        optimizer.step()\n",
    "    if epoch % 10 == 0:\n",
    "        print(f\"Epoch {epoch}: loss = {loss.item():.4f}\")"
   ]
  },
  {
   "cell_type": "markdown",
   "id": "8125a42c",
   "metadata": {},
   "source": [
    "### Out of sample Prediction"
   ]
  },
  {
   "cell_type": "code",
   "execution_count": 196,
   "id": "0cff9edb",
   "metadata": {},
   "outputs": [],
   "source": [
    "model.eval()\n",
    "with torch.no_grad():\n",
    "    y_pred_test = model(X_test_t).squeeze().numpy()\n",
    "    y_pred_sign = (y_pred_test > CLASSIFICATION_THRESHOLD).astype(int)\n",
    "\n",
    "# --- Results ---\n",
    "results = pd.DataFrame({\n",
    "    'Actual': y_test,\n",
    "    'Predicted': y_pred_sign,\n",
    "    'Probability': y_pred_test\n",
    "}, index=data.index[NUMBER_OF_LAGS+TRAIN_SIZE:])"
   ]
  },
  {
   "cell_type": "code",
   "execution_count": 197,
   "id": "90bdf812",
   "metadata": {},
   "outputs": [
    {
     "name": "stdout",
     "output_type": "stream",
     "text": [
      "Classification Report:\n",
      "              precision    recall  f1-score   support\n",
      "\n",
      "           0       0.45      0.18      0.26      4762\n",
      "           1       0.53      0.81      0.64      5451\n",
      "\n",
      "    accuracy                           0.52     10213\n",
      "   macro avg       0.49      0.49      0.45     10213\n",
      "weighted avg       0.49      0.52      0.46     10213\n",
      "\n",
      "Accuracy: 0.5152256927445412\n"
     ]
    }
   ],
   "source": [
    "from sklearn.metrics import classification_report, accuracy_score\n",
    "\n",
    "# Classification report\n",
    "print(\"Classification Report:\")\n",
    "print(classification_report(results['Actual'], results['Predicted']))\n",
    "print(\"Accuracy:\", accuracy_score(results['Actual'], results['Predicted']))"
   ]
  },
  {
   "cell_type": "code",
   "execution_count": 198,
   "id": "95fdfb04",
   "metadata": {},
   "outputs": [
    {
     "data": {
      "text/plain": [
       "Text(0.5, 1.0, 'Predicted Probability of Positive Return')"
      ]
     },
     "execution_count": 198,
     "metadata": {},
     "output_type": "execute_result"
    },
    {
     "data": {
      "image/png": "[encoded data removed]",
      "text/plain": [
       "<Figure size 640x480 with 1 Axes>"
      ]
     },
     "metadata": {},
     "output_type": "display_data"
    }
   ],
   "source": [
    "results[\"Probability\"].plot()\n",
    "plt.title(\"Predicted Probability of Positive Return\")\n",
    "#plt.ylim(0, 1)"
   ]
  }
 ],
 "metadata": {
  "kernelspec": {
   "display_name": "Python 3",
   "language": "python",
   "name": "python3"
  },
  "language_info": {
   "codemirror_mode": {
    "name": "ipython",
    "version": 3
   },
   "file_extension": ".py",
   "mimetype": "text/x-python",
   "name": "python",
   "nbconvert_exporter": "python",
   "pygments_lexer": "ipython3",
   "version": "3.11.9"
  }
 },
 "nbformat": 4,
 "nbformat_minor": 5
}
