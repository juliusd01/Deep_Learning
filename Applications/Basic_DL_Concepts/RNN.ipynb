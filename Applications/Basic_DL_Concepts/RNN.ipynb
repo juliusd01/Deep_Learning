{
 "cells": [
  {
   "cell_type": "markdown",
   "id": "85a65dfb",
   "metadata": {},
   "source": [
    "# Understanding RNN's 💡 Theory and Economic Application"
   ]
  }
 ],
 "metadata": {
  "language_info": {
   "name": "python"
  }
 },
 "nbformat": 4,
 "nbformat_minor": 5
}
