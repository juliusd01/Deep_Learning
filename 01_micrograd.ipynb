{
 "cells": [
  {
   "cell_type": "markdown",
   "metadata": {},
   "source": [
    "## Building small NN to better understand backpropagation and DL Fundamentals\n",
    "follows repo from Andrej Karpathy: https://github.com/karpathy/micrograd "
   ]
  },
  {
   "cell_type": "code",
   "execution_count": 131,
   "metadata": {},
   "outputs": [],
   "source": [
    "import math\n",
    "import random\n",
    "import numpy as np\n",
    "import matplotlib.pyplot as plt"
   ]
  },
  {
   "cell_type": "markdown",
   "metadata": {},
   "source": [
    "### 1. Defining the Value class\n",
    "- entity to handle scalar values and their derivative"
   ]
  },
  {
   "cell_type": "code",
   "execution_count": 132,
   "metadata": {},
   "outputs": [],
   "source": [
    "class Value:\n",
    "    \"\"\" stores a single scalar value and its gradient \"\"\"\n",
    "\n",
    "    def __init__(self, data, _children=(), _op=''):\n",
    "        self.data = data\n",
    "        self.grad = 0\n",
    "        # internal variables used for autograd graph construction\n",
    "        self._backward = lambda: None\n",
    "        self._prev = set(_children)\n",
    "        self._op = _op # the op that produced this node, for graphviz / debugging / etc\n",
    "\n",
    "    def __add__(self, other):\n",
    "        other = other if isinstance(other, Value) else Value(other)\n",
    "        out = Value(self.data + other.data, (self, other), '+')\n",
    "\n",
    "        def _backward():\n",
    "            self.grad += out.grad\n",
    "            other.grad += out.grad\n",
    "        out._backward = _backward\n",
    "\n",
    "        return out\n",
    "\n",
    "    def __mul__(self, other):\n",
    "        other = other if isinstance(other, Value) else Value(other)\n",
    "        out = Value(self.data * other.data, (self, other), '*')\n",
    "\n",
    "        def _backward():\n",
    "            self.grad += other.data * out.grad\n",
    "            other.grad += self.data * out.grad\n",
    "        out._backward = _backward\n",
    "\n",
    "        return out\n",
    "\n",
    "    def __pow__(self, other):\n",
    "        assert isinstance(other, (int, float)), \"only supporting int/float powers for now\"\n",
    "        out = Value(self.data**other, (self,), f'**{other}')\n",
    "\n",
    "        def _backward():\n",
    "            self.grad += (other * self.data**(other-1)) * out.grad\n",
    "        out._backward = _backward\n",
    "\n",
    "        return out\n",
    "\n",
    "    def relu(self):\n",
    "        out = Value(0 if self.data < 0 else self.data, (self,), 'ReLU')\n",
    "\n",
    "        def _backward():\n",
    "            self.grad += (out.data > 0) * out.grad\n",
    "        out._backward = _backward\n",
    "\n",
    "        return out\n",
    "\n",
    "    def backward(self):\n",
    "\n",
    "        # topological order all of the children in the graph\n",
    "        topo = []\n",
    "        visited = set()\n",
    "        def build_topo(v):\n",
    "            if v not in visited:\n",
    "                visited.add(v)\n",
    "                for child in v._prev:\n",
    "                    build_topo(child)\n",
    "                topo.append(v)\n",
    "        build_topo(self)\n",
    "\n",
    "        # go one variable at a time and apply the chain rule to get its gradient\n",
    "        self.grad = 1\n",
    "        for v in reversed(topo):\n",
    "            v._backward()\n",
    "\n",
    "    def __neg__(self): # -self\n",
    "        return self * -1\n",
    "\n",
    "    def __radd__(self, other): # other + self\n",
    "        return self + other\n",
    "\n",
    "    def __sub__(self, other): # self - other\n",
    "        return self + (-other)\n",
    "\n",
    "    def __rsub__(self, other): # other - self\n",
    "        return other + (-self)\n",
    "\n",
    "    def __rmul__(self, other): # other * self\n",
    "        return self * other\n",
    "\n",
    "    def __truediv__(self, other): # self / other\n",
    "        return self * other**-1\n",
    "\n",
    "    def __rtruediv__(self, other): # other / self\n",
    "        return other * self**-1\n",
    "\n",
    "    def __repr__(self):\n",
    "        return f\"Value(data={self.data}, grad={self.grad})\""
   ]
  },
  {
   "cell_type": "markdown",
   "metadata": {},
   "source": [
    "Note 1: The function like \\__add__() for addition and \\__mul__() for multiplication must be specified, because e.g. when adding two Value objects, Python internally calls a.\\__add__(b). Without definition of the method, Python does not know how to perform this addition operation for the Value objects. Once we specified these methods, Python internally uses our definition of \\__add__() and \\__mul__()."
   ]
  },
  {
   "cell_type": "markdown",
   "metadata": {},
   "source": [
    "Note 2: Regarding the underscores in the parameters. No underscore meant to be a public attribute that has to be provided (e.g. data). One underscore signals a protected attribute which is set internally by the class method (e.g. _op) and hence should never be provided manually by the programmer. "
   ]
  },
  {
   "cell_type": "code",
   "execution_count": 133,
   "metadata": {},
   "outputs": [],
   "source": [
    "class Module:\n",
    "\n",
    "    def zero_grad(self):\n",
    "        for p in self.parameters():\n",
    "            p.grad = 0\n",
    "\n",
    "    def parameters(self):\n",
    "        return []\n",
    "\n",
    "class Neuron(Module):\n",
    "\n",
    "    def __init__(self, nin, nonlin=True):\n",
    "        self.w = [Value(random.uniform(-1,1)) for _ in range(nin)]\n",
    "        self.b = Value(0)\n",
    "        self.nonlin = nonlin\n",
    "\n",
    "    def __call__(self, x):\n",
    "        \"\"\"Sum over the tuples of x and w and multiply them as input for the neuron.\"\"\"\n",
    "        act = sum((wi*xi for wi,xi in zip(self.w, x)), self.b)\n",
    "        return act.relu() if self.nonlin else act\n",
    "\n",
    "    def parameters(self):\n",
    "        return self.w + [self.b]\n",
    "\n",
    "    def __repr__(self):\n",
    "        return f\"{'ReLU' if self.nonlin else 'Linear'}Neuron({len(self.w)})\"\n",
    "\n",
    "class Layer(Module):\n",
    "\n",
    "    def __init__(self, nin, nout, **kwargs):\n",
    "        self.neurons = [Neuron(nin, **kwargs) for _ in range(nout)]\n",
    "\n",
    "    def __call__(self, x):\n",
    "        out = [n(x) for n in self.neurons]\n",
    "        return out[0] if len(out) == 1 else out\n",
    "\n",
    "    def parameters(self):\n",
    "        return [p for n in self.neurons for p in n.parameters()]\n",
    "\n",
    "    def __repr__(self):\n",
    "        return f\"Layer of [{', '.join(str(n) for n in self.neurons)}]\"\n",
    "\n",
    "class MLP(Module):\n",
    "\n",
    "    def __init__(self, nin, nouts):\n",
    "        sz = [nin] + nouts\n",
    "        self.layers = [Layer(sz[i], sz[i+1], nonlin=i!=len(nouts)-1) for i in range(len(nouts))]\n",
    "\n",
    "    def __call__(self, x):\n",
    "        for layer in self.layers:\n",
    "            x = layer(x)\n",
    "        return x\n",
    "\n",
    "    def parameters(self):\n",
    "        return [p for layer in self.layers for p in layer.parameters()]\n",
    "\n",
    "    def __repr__(self):\n",
    "        return f\"MLP of [{', '.join(str(layer) for layer in self.layers)}]\""
   ]
  },
  {
   "cell_type": "markdown",
   "metadata": {},
   "source": [
    "Explanation of the \\__call__ function: Imagine x = [2.0, 3.0] and we initialize a Neuron with n = Neuron(2). When using n(x) python internally uses the \\__call__() method."
   ]
  },
  {
   "cell_type": "markdown",
   "metadata": {},
   "source": [
    "## Toy Example - Building simple MLP"
   ]
  },
  {
   "cell_type": "code",
   "execution_count": 134,
   "metadata": {},
   "outputs": [
    {
     "data": {
      "text/plain": [
       "Value(data=0.37696859689889795, grad=0)"
      ]
     },
     "execution_count": 134,
     "metadata": {},
     "output_type": "execute_result"
    }
   ],
   "source": [
    "x = [2.0, 3.0, -2]\n",
    "# MLP with 3 inputs and 4 layer Neron, 4 layer Neuron and output layer with single Neuron\n",
    "n = MLP(3, [4, 4, 1])\n",
    "n(x)"
   ]
  },
  {
   "cell_type": "code",
   "execution_count": null,
   "metadata": {},
   "outputs": [],
   "source": [
    "n = MLP(3, [4, 4, 1])\n",
    "xs = [                  # input data\n",
    "    [2.0, 3.0, -1.0],\n",
    "    [3.0, -1.0, 0.5],\n",
    "    [0.5, 1.0, 1.0],\n",
    "    [1.0, 1.0, -1.0]\n",
    "]\n",
    "ys = [1.0, -1.0, -1.0, 1.0] # targets"
   ]
  },
  {
   "cell_type": "code",
   "execution_count": 311,
   "metadata": {},
   "outputs": [
    {
     "name": "stdout",
     "output_type": "stream",
     "text": [
      "0 2.2802783457403594e-11\n",
      "1 1.636717768741506e-11\n",
      "2 1.1747887078034177e-11\n",
      "3 8.432294793169821e-12\n",
      "4 6.052459283048734e-12\n",
      "5 4.344282765234411e-12\n",
      "6 3.118203512313639e-12\n",
      "7 2.238159625721092e-12\n",
      "8 1.606489831970986e-12\n",
      "9 1.1530957139740322e-12\n",
      "10 8.276626698003781e-13\n",
      "11 5.940763466370414e-13\n",
      "12 4.264149157543216e-13\n",
      "13 3.060724451059825e-13\n",
      "14 2.1969414053168905e-13\n",
      "15 1.5769432119876544e-13\n",
      "16 1.1319266535775573e-13\n",
      "17 8.125067925097646e-14\n",
      "18 5.832365661203505e-14\n",
      "19 4.18673108926468e-14\n"
     ]
    }
   ],
   "source": [
    "for k in range (20):\n",
    "    # Forward Pass --> Prediction with the new weights\n",
    "    ypred = [n(x) for x in xs]\n",
    "    loss = sum((yout - ygt)**2 for ygt, yout in zip(ys, ypred))\n",
    "    # Backward Pass\n",
    "    n.zero_grad()\n",
    "    loss.backward()\n",
    "    # Update\n",
    "    for p in n.parameters():\n",
    "        p.data += -0.05 * p.grad\n",
    "    print(k, loss.data)"
   ]
  },
  {
   "cell_type": "code",
   "execution_count": 312,
   "metadata": {},
   "outputs": [
    {
     "data": {
      "text/plain": [
       "[Value(data=0.9999998592113816, grad=-2.8157723686028646e-07),\n",
       " Value(data=-0.9999999695237088, grad=6.095258231475498e-08),\n",
       " Value(data=-0.9999999640050502, grad=7.198989959711355e-08),\n",
       " Value(data=0.9999998592113816, grad=-2.8157723686028646e-07)]"
      ]
     },
     "execution_count": 312,
     "metadata": {},
     "output_type": "execute_result"
    }
   ],
   "source": [
    "ypred"
   ]
  },
  {
   "cell_type": "markdown",
   "metadata": {},
   "source": [
    "## Doing a little demo of the Code"
   ]
  },
  {
   "cell_type": "code",
   "execution_count": 9,
   "metadata": {},
   "outputs": [
    {
     "name": "stdout",
     "output_type": "stream",
     "text": [
      "Using matplotlib backend: module://matplotlib_inline.backend_inline\n"
     ]
    }
   ],
   "source": [
    "%matplotlib\n"
   ]
  },
  {
   "cell_type": "code",
   "execution_count": null,
   "metadata": {},
   "outputs": [],
   "source": [
    "%pip install scikit-learn"
   ]
  },
  {
   "cell_type": "code",
   "execution_count": 21,
   "metadata": {},
   "outputs": [
    {
     "data": {
      "text/plain": [
       "<matplotlib.collections.PathCollection at 0x7fc1c4d71ac0>"
      ]
     },
     "execution_count": 21,
     "metadata": {},
     "output_type": "execute_result"
    },
    {
     "data": {
      "image/png": "[encoded data removed]",
      "text/plain": [
       "<Figure size 500x500 with 1 Axes>"
      ]
     },
     "metadata": {},
     "output_type": "display_data"
    }
   ],
   "source": [
    "from sklearn.datasets import make_moons, make_blobs\n",
    "X, y = make_moons(n_samples=100, noise=0.1)\n",
    "\n",
    "y = y*2 - 1 # make y be -1 or 1\n",
    "# visualize in 2D\n",
    "plt.figure(figsize=(5,5))\n",
    "plt.scatter(X[:,0], X[:,1], c=y, s=20, cmap='jet')"
   ]
  },
  {
   "cell_type": "code",
   "execution_count": 22,
   "metadata": {},
   "outputs": [
    {
     "name": "stdout",
     "output_type": "stream",
     "text": [
      "MLP of [Layer of [ReLUNeuron(2), ReLUNeuron(2), ReLUNeuron(2), ReLUNeuron(2), ReLUNeuron(2), ReLUNeuron(2), ReLUNeuron(2), ReLUNeuron(2), ReLUNeuron(2), ReLUNeuron(2), ReLUNeuron(2), ReLUNeuron(2), ReLUNeuron(2), ReLUNeuron(2), ReLUNeuron(2), ReLUNeuron(2)], Layer of [ReLUNeuron(16), ReLUNeuron(16), ReLUNeuron(16), ReLUNeuron(16), ReLUNeuron(16), ReLUNeuron(16), ReLUNeuron(16), ReLUNeuron(16), ReLUNeuron(16), ReLUNeuron(16), ReLUNeuron(16), ReLUNeuron(16), ReLUNeuron(16), ReLUNeuron(16), ReLUNeuron(16), ReLUNeuron(16)], Layer of [LinearNeuron(16)]]\n",
      "number of parameters 337\n"
     ]
    }
   ],
   "source": [
    "# initialize a model \n",
    "model = MLP(2, [16, 16, 1]) # 2-layer neural network\n",
    "print(model)\n",
    "print(\"number of parameters\", len(model.parameters()))"
   ]
  },
  {
   "cell_type": "code",
   "execution_count": 23,
   "metadata": {},
   "outputs": [
    {
     "name": "stdout",
     "output_type": "stream",
     "text": [
      "Value(data=1.2413199670128956, grad=0) 0.61\n"
     ]
    }
   ],
   "source": [
    "# loss function\n",
    "def loss(batch_size=None):\n",
    "    \n",
    "    # inline DataLoader :)\n",
    "    if batch_size is None:\n",
    "        Xb, yb = X, y\n",
    "    else:\n",
    "        ri = np.random.permutation(X.shape[0])[:batch_size]\n",
    "        Xb, yb = X[ri], y[ri]\n",
    "    inputs = [list(map(Value, xrow)) for xrow in Xb]\n",
    "    \n",
    "    # forward the model to get scores\n",
    "    scores = list(map(model, inputs))\n",
    "    \n",
    "    # svm \"max-margin\" loss\n",
    "    losses = [(1 + -yi*scorei).relu() for yi, scorei in zip(yb, scores)]\n",
    "    data_loss = sum(losses) * (1.0 / len(losses))\n",
    "    # L2 regularization\n",
    "    alpha = 1e-4\n",
    "    reg_loss = alpha * sum((p*p for p in model.parameters()))\n",
    "    total_loss = data_loss + reg_loss\n",
    "    \n",
    "    # also get accuracy\n",
    "    accuracy = [(yi > 0) == (scorei.data > 0) for yi, scorei in zip(yb, scores)]\n",
    "    return total_loss, sum(accuracy) / len(accuracy)\n",
    "\n",
    "total_loss, acc = loss()\n",
    "print(total_loss, acc)"
   ]
  },
  {
   "cell_type": "code",
   "execution_count": 24,
   "metadata": {},
   "outputs": [
    {
     "name": "stdout",
     "output_type": "stream",
     "text": [
      "step 0 loss 1.2413199670128956, accuracy 61.0%\n",
      "step 1 loss 0.45302190163581246, accuracy 82.0%\n",
      "step 2 loss 0.610768673340919, accuracy 76.0%\n",
      "step 3 loss 1.375009994001092, accuracy 66.0%\n",
      "step 4 loss 0.40080259917059186, accuracy 81.0%\n",
      "step 5 loss 0.3469194266281308, accuracy 83.0%\n",
      "step 6 loss 0.31507994363563413, accuracy 86.0%\n",
      "step 7 loss 0.29662303882037694, accuracy 87.0%\n",
      "step 8 loss 0.28076156850523387, accuracy 88.0%\n",
      "step 9 loss 0.27297139577702617, accuracy 86.0%\n",
      "step 10 loss 0.2663869079448956, accuracy 88.0%\n",
      "step 11 loss 0.2637003430520597, accuracy 87.0%\n",
      "step 12 loss 0.2353097881047274, accuracy 90.0%\n",
      "step 13 loss 0.2297236787618964, accuracy 91.0%\n",
      "step 14 loss 0.2300597790417845, accuracy 91.0%\n",
      "step 15 loss 0.22185041728743887, accuracy 92.0%\n",
      "step 16 loss 0.21507816746520136, accuracy 91.0%\n",
      "step 17 loss 0.22119754535266764, accuracy 93.0%\n",
      "step 18 loss 0.23682575123475755, accuracy 90.0%\n",
      "step 19 loss 0.21327002798457548, accuracy 91.0%\n",
      "step 20 loss 0.18172559552920933, accuracy 92.0%\n",
      "step 21 loss 0.17611938365224472, accuracy 93.0%\n",
      "step 22 loss 0.17789604586967675, accuracy 92.0%\n",
      "step 23 loss 0.17427200426161, accuracy 93.0%\n",
      "step 24 loss 0.17106804450584467, accuracy 93.0%\n",
      "step 25 loss 0.1552794448249255, accuracy 93.0%\n",
      "step 26 loss 0.14589763629614777, accuracy 93.0%\n",
      "step 27 loss 0.1420255807768908, accuracy 93.0%\n",
      "step 28 loss 0.1371764977872776, accuracy 94.0%\n",
      "step 29 loss 0.14099057145406818, accuracy 93.0%\n",
      "step 30 loss 0.1299275713417086, accuracy 95.0%\n",
      "step 31 loss 0.1286952768049059, accuracy 95.0%\n",
      "step 32 loss 0.12144512923607581, accuracy 95.0%\n",
      "step 33 loss 0.12759214915884273, accuracy 93.0%\n",
      "step 34 loss 0.1173629015310198, accuracy 96.0%\n",
      "step 35 loss 0.12993280589305703, accuracy 94.0%\n",
      "step 36 loss 0.16210443132269955, accuracy 94.0%\n",
      "step 37 loss 0.16429571851482477, accuracy 94.0%\n",
      "step 38 loss 0.12484505740592453, accuracy 96.0%\n",
      "step 39 loss 0.10534720634715841, accuracy 96.0%\n",
      "step 40 loss 0.10301773172405213, accuracy 95.0%\n",
      "step 41 loss 0.11073172013142815, accuracy 96.0%\n",
      "step 42 loss 0.10252289810231459, accuracy 96.0%\n",
      "step 43 loss 0.10006247573124492, accuracy 97.0%\n",
      "step 44 loss 0.11046713205669345, accuracy 95.0%\n",
      "step 45 loss 0.12183329005973875, accuracy 95.0%\n",
      "step 46 loss 0.1013089758690541, accuracy 96.0%\n",
      "step 47 loss 0.08572307511163897, accuracy 95.0%\n",
      "step 48 loss 0.08311416633615558, accuracy 95.0%\n",
      "step 49 loss 0.08282567024265299, accuracy 97.0%\n",
      "step 50 loss 0.08012991967614466, accuracy 96.0%\n",
      "step 51 loss 0.07808116352820603, accuracy 97.0%\n",
      "step 52 loss 0.07573767429821027, accuracy 96.0%\n",
      "step 53 loss 0.07435676552041007, accuracy 97.0%\n",
      "step 54 loss 0.07455891004384974, accuracy 97.0%\n",
      "step 55 loss 0.07061988825293775, accuracy 98.0%\n",
      "step 56 loss 0.07237020528186092, accuracy 97.0%\n",
      "step 57 loss 0.07026561042718844, accuracy 98.0%\n",
      "step 58 loss 0.06867882601621172, accuracy 97.0%\n",
      "step 59 loss 0.06725977636427807, accuracy 98.0%\n",
      "step 60 loss 0.06729125327604026, accuracy 97.0%\n",
      "step 61 loss 0.0656257075596408, accuracy 98.0%\n",
      "step 62 loss 0.0668505292060729, accuracy 97.0%\n",
      "step 63 loss 0.06472700659859153, accuracy 98.0%\n",
      "step 64 loss 0.06455415851174853, accuracy 97.0%\n",
      "step 65 loss 0.0624156438994646, accuracy 98.0%\n",
      "step 66 loss 0.058201960414918194, accuracy 98.0%\n",
      "step 67 loss 0.05550402237836183, accuracy 98.0%\n",
      "step 68 loss 0.055057151628577106, accuracy 97.0%\n",
      "step 69 loss 0.0577370515232037, accuracy 98.0%\n",
      "step 70 loss 0.05900104261467662, accuracy 98.0%\n",
      "step 71 loss 0.05529710053213987, accuracy 98.0%\n",
      "step 72 loss 0.051431606796233834, accuracy 98.0%\n",
      "step 73 loss 0.05102592790821192, accuracy 98.0%\n",
      "step 74 loss 0.04994472260522115, accuracy 98.0%\n",
      "step 75 loss 0.04943152107594636, accuracy 99.0%\n",
      "step 76 loss 0.04950639975602821, accuracy 98.0%\n",
      "step 77 loss 0.05054283363020097, accuracy 99.0%\n",
      "step 78 loss 0.048541755939204706, accuracy 99.0%\n",
      "step 79 loss 0.04769328348916775, accuracy 99.0%\n",
      "step 80 loss 0.048051062911458414, accuracy 98.0%\n",
      "step 81 loss 0.04838704827335309, accuracy 99.0%\n",
      "step 82 loss 0.046998832587815294, accuracy 99.0%\n",
      "step 83 loss 0.045802438807970844, accuracy 100.0%\n",
      "step 84 loss 0.04590874874058666, accuracy 99.0%\n",
      "step 85 loss 0.045918654840201245, accuracy 99.0%\n",
      "step 86 loss 0.04615860774853353, accuracy 99.0%\n",
      "step 87 loss 0.0451303168939404, accuracy 100.0%\n",
      "step 88 loss 0.04494297918022391, accuracy 99.0%\n",
      "step 89 loss 0.0448473026644611, accuracy 100.0%\n",
      "step 90 loss 0.04444808246429357, accuracy 100.0%\n",
      "step 91 loss 0.04430624701477273, accuracy 100.0%\n",
      "step 92 loss 0.04388516197846842, accuracy 100.0%\n",
      "step 93 loss 0.04367638571418023, accuracy 100.0%\n",
      "step 94 loss 0.04370933452583388, accuracy 100.0%\n",
      "step 95 loss 0.04352338338044191, accuracy 100.0%\n",
      "step 96 loss 0.04326285247485759, accuracy 100.0%\n",
      "step 97 loss 0.04324251991486498, accuracy 100.0%\n",
      "step 98 loss 0.04295883671293547, accuracy 100.0%\n",
      "step 99 loss 0.04298662292526438, accuracy 100.0%\n"
     ]
    }
   ],
   "source": [
    "# optimization\n",
    "for k in range(100):\n",
    "    \n",
    "    # forward\n",
    "    total_loss, acc = loss()\n",
    "    \n",
    "    # backward\n",
    "    model.zero_grad()\n",
    "    total_loss.backward()\n",
    "    \n",
    "    # update (sgd)\n",
    "    learning_rate = 1.0 - 0.9*k/100\n",
    "    for p in model.parameters():\n",
    "        p.data -= learning_rate * p.grad\n",
    "    \n",
    "    if k % 1 == 0:\n",
    "        print(f\"step {k} loss {total_loss.data}, accuracy {acc*100}%\")"
   ]
  },
  {
   "cell_type": "markdown",
   "metadata": {},
   "source": [
    "There is a learning rate decay implemented in the updating step. The main idea is that in the beginning we want the model to explore the parameter space and make bigger leaps while in the end, it's more reasonable to make smaller steps in the correct direction to arrive at the minimum."
   ]
  },
  {
   "cell_type": "code",
   "execution_count": 25,
   "metadata": {},
   "outputs": [
    {
     "data": {
      "text/plain": [
       "(-1.6721280994088947, 2.0778719005911053)"
      ]
     },
     "execution_count": 25,
     "metadata": {},
     "output_type": "execute_result"
    },
    {
     "data": {
      "image/png": "[encoded data removed]",
      "text/plain": [
       "<Figure size 640x480 with 1 Axes>"
      ]
     },
     "metadata": {},
     "output_type": "display_data"
    }
   ],
   "source": [
    "# visualize decision boundary\n",
    "\n",
    "h = 0.25\n",
    "x_min, x_max = X[:, 0].min() - 1, X[:, 0].max() + 1\n",
    "y_min, y_max = X[:, 1].min() - 1, X[:, 1].max() + 1\n",
    "xx, yy = np.meshgrid(np.arange(x_min, x_max, h),\n",
    "                     np.arange(y_min, y_max, h))\n",
    "Xmesh = np.c_[xx.ravel(), yy.ravel()]\n",
    "inputs = [list(map(Value, xrow)) for xrow in Xmesh]\n",
    "scores = list(map(model, inputs))\n",
    "Z = np.array([s.data > 0 for s in scores])\n",
    "Z = Z.reshape(xx.shape)\n",
    "\n",
    "fig = plt.figure()\n",
    "plt.contourf(xx, yy, Z, cmap=plt.cm.Spectral, alpha=0.8)\n",
    "plt.scatter(X[:, 0], X[:, 1], c=y, s=40, cmap=plt.cm.Spectral)\n",
    "plt.xlim(xx.min(), xx.max())\n",
    "plt.ylim(yy.min(), yy.max())"
   ]
  }
 ],
 "metadata": {
  "kernelspec": {
   "display_name": "base",
   "language": "python",
   "name": "python3"
  },
  "language_info": {
   "codemirror_mode": {
    "name": "ipython",
    "version": 3
   },
   "file_extension": ".py",
   "mimetype": "text/x-python",
   "name": "python",
   "nbconvert_exporter": "python",
   "pygments_lexer": "ipython3",
   "version": "3.12.2"
  }
 },
 "nbformat": 4,
 "nbformat_minor": 2
}
